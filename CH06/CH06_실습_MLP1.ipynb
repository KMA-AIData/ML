{
  "nbformat": 4,
  "nbformat_minor": 0,
  "metadata": {
    "colab": {
      "provenance": [],
      "gpuType": "T4",
      "gpuClass": "premium"
    },
    "kernelspec": {
      "name": "python3",
      "display_name": "Python 3"
    },
    "language_info": {
      "name": "python"
    },
    "gpuClass": "premium"
  },
  "cells": [
    {
      "cell_type": "markdown",
      "source": [
        "# CH06. 다층 퍼셉트론과 XOR (MLP & XOR) (실습1)\n",
        "\n",
        "### [1] 실습 진행 관련 설명\n",
        "다층 퍼셉트론에 대한 실습을 진행하고자 한다. 실습1은 두가지로 구성되어 있다.\n",
        "\n",
        "- sklearn 라이브러리를 이용한 방법\n",
        "- 직접 함수를 구현하는 방법\n",
        "\n",
        "우선 sklearn 라이브러리를 이용한 방법을 실습하고 그 이후에 직접 함수를 구현하여 실습을 진행한다."
      ],
      "metadata": {
        "id": "r6njXniUPQYQ"
      }
    },
    {
      "cell_type": "markdown",
      "source": [
        "## [2] 코드 구현의 흐름\n",
        "\n",
        "-(1) (데이터 측면) 데이터 정의하기.\n",
        "\n",
        "\n",
        "-(2) (모델 측면) 다층 퍼셉트론 모델 불러오기. (가중치, 활성화함수, 손실함수 정의)\n",
        "\n",
        "-(3) (학습 과정) 학습 과정을 직접 구현 또는 라이브러리를 활용하여 구현학.\n",
        "\n",
        "-(4) (성능 평가) 테스트 데이터를 이용한 모델의 성능 평가 및 시각화."
      ],
      "metadata": {
        "id": "rT6RSJRcRNhN"
      }
    },
    {
      "cell_type": "markdown",
      "source": [
        "## (첫번째 실습) sklearn 라이브러리를 이용한 방법\n",
        "\n",
        "\n"
      ],
      "metadata": {
        "id": "cqvvdaPXRn5_"
      }
    },
    {
      "cell_type": "markdown",
      "source": [
        "# XOR 문제의 해결 방법 (MLP XOR Solution)"
      ],
      "metadata": {
        "id": "dcY9dBtkY-J-"
      }
    },
    {
      "cell_type": "markdown",
      "source": [
        "- XOR 문제 또한 0 또는 1 이진 분류 문제에 해당하며, 하나의 퍼셉트론으로는 해결할 수 없는 특별한 케이스이다.\n",
        "- 두 입력 값이 서로 같으면 0, 서로 다르면 1로 분류하는 논리회로와 같다.\n",
        "- 다층 퍼셉트론(Multi-layer Perceptron)\n",
        "  즉, 두개 이상의 선을 이용하기 위해 은닉층이 1개 이상 필요하다."
      ],
      "metadata": {
        "id": "ynSIn7cF0G7N"
      }
    },
    {
      "cell_type": "code",
      "source": [
        "'''\n",
        "(1) (데이터 측면) 데이터 정의하기.\n",
        "XOR 데이터 정의하기\n",
        "두 입력값이 서로 같으면 0, 서로 다르면 1로 분류하는 논리 회로 게이트\n",
        "'''\n",
        "from sklearn.neural_network import MLPClassifier\n",
        "\n",
        "X = [[0,0], [0,1], [1,0], [1,1]]\n",
        "y = [0, 1 , 1, 0]"
      ],
      "metadata": {
        "id": "XgSJs-bZCeB7"
      },
      "execution_count": 562,
      "outputs": []
    },
    {
      "cell_type": "markdown",
      "source": [
        "**다층퍼셉트론 라이브러리**\n",
        "\n",
        "다층퍼셉트론은 분류와 회귀가 모두 가능한 방법이다. 따라서 sklearn 라이브러리에서는 분류와 회귀에 따른 함수를 모두 제공한다.\n",
        "\n",
        "아래 예시에서 사용한 MLPClassifier를 활용하면 분류를, MLPRegressor을 활용하면 회귀 태스크를 수행 가능하다."
      ],
      "metadata": {
        "id": "nbeAzKB7BYLN"
      }
    },
    {
      "cell_type": "code",
      "source": [
        "'''\n",
        "(2) (모델 측면) 다층퍼셉트론 모델 불러오기\n",
        "sklearn 라이브러리를 통해 구현되어 있는 다층퍼셉트론 모델을 불러온다.\n",
        "'''\n",
        "classifier = MLPClassifier(hidden_layer_sizes=(2,), activation='logistic', learning_rate_init= 0.1, random_state=42)"
      ],
      "metadata": {
        "id": "JvahOa6SEB3L"
      },
      "execution_count": 563,
      "outputs": []
    },
    {
      "cell_type": "code",
      "source": [
        "'''\n",
        "(3) (학습 과정) 모델 학습 하기\n",
        "fit을 통해 모델을 학습한다.\n",
        "fit 함수에는 1) 가중치 초기화 2) 손실함수 계산 3) 가중치 업데이트가 모두 구현되어 있다.\n",
        "'''\n",
        "classifier.fit(X, y)\n",
        "w = classifier.coefs_\n",
        "w_0 = classifier.intercepts_\n",
        "print(w)\n",
        "print(w_0)"
      ],
      "metadata": {
        "colab": {
          "base_uri": "https://localhost:8080/"
        },
        "id": "Jx56ZD08FjZ4",
        "outputId": "dc3f8bd3-c688-49aa-ed27-75be38022294"
      },
      "execution_count": 564,
      "outputs": [
        {
          "output_type": "stream",
          "name": "stdout",
          "text": [
            "[array([[ 7.75369964,  7.79227793],\n",
            "       [-7.192455  , -7.96359709]]), array([[-9.47106881],\n",
            "       [ 9.73459615]])]\n",
            "[array([ 3.6692037 , -4.20860248]), array([4.58113485])]\n"
          ]
        }
      ]
    },
    {
      "cell_type": "code",
      "source": [
        "'''\n",
        "(4) (성능 평가) 학습된 모델을 대상으로 테스트 데이터로 평가하기\n",
        "predict를 통해 다층퍼셉트론으로 얻은 예측값을 추출한다.\n",
        "'''\n",
        "y_pred = classifier.predict(X)  # 테스트 데이터에 대하여 결과 예측\n",
        "\n",
        "print(y_pred)"
      ],
      "metadata": {
        "colab": {
          "base_uri": "https://localhost:8080/"
        },
        "id": "fqKRqVsEGg4c",
        "outputId": "60b033af-aea4-4846-9a12-49b3a2979df9"
      },
      "execution_count": 565,
      "outputs": [
        {
          "output_type": "stream",
          "name": "stdout",
          "text": [
            "[0 1 1 0]\n"
          ]
        }
      ]
    },
    {
      "cell_type": "markdown",
      "source": [
        "## (두번째 실습) 직접구현\n"
      ],
      "metadata": {
        "id": "gmPi-7sSXtwy"
      }
    },
    {
      "cell_type": "code",
      "source": [
        "'''\n",
        "(1) (데이터 측면) 데이터 정의하기.\n",
        "XOR 데이터 정의하기\n",
        "두 입력값이 서로 같으면 0, 서로 다르면 1로 분류하는 논리 회로 게이트\n",
        "'''\n",
        "import numpy as np\n",
        "\n",
        "X = np.array([0, 0, 1, 1, 0, 1, 0 ,1]).reshape(2,4)\n",
        "y = np.array([0, 1 , 1, 0]).reshape(1,4)\n",
        "print(X)"
      ],
      "metadata": {
        "id": "wofptEpfZgyu",
        "colab": {
          "base_uri": "https://localhost:8080/"
        },
        "outputId": "ef086212-610b-40c1-d37a-c37e70060f21"
      },
      "execution_count": 566,
      "outputs": [
        {
          "output_type": "stream",
          "name": "stdout",
          "text": [
            "[[0 0 1 1]\n",
            " [0 1 0 1]]\n"
          ]
        }
      ]
    },
    {
      "cell_type": "code",
      "source": [
        "'''\n",
        "(2) (모델 측면) 다층퍼셉트론 모델 선언하기\n",
        "1) 가중치 초기화\n",
        "2) 가중합 함수\n",
        "3) 활성화 함수\n",
        "4) 손실함수\n",
        "5) 가중치 업데이트\n",
        "'''\n",
        "np.random.seed(41)\n",
        "W_0 = np.random.rand(2,2)\n",
        "W_1 = np.random.rand(2,1)\n",
        "B_0 = np.random.random((1,2))\n",
        "B_1 = np.random.random((1,1))\n",
        "lr = 0.1\n",
        "\n",
        "def weighted_sum(X, W, B):\n",
        "    return np.dot(W.T, X) + B.T\n",
        "\n",
        "def sigmoid(x):\n",
        "    return 1 / (1 +np.exp(-x))\n",
        "\n",
        "def BCE_loss(y, y_hat):\n",
        "    loss = np.mean(y*(np.log1p(y_hat)) + (1-y)*np.log1p(1-y_hat))\n",
        "    return -loss\n",
        "\n",
        "def gradient_update(X, H, y, y_hat):\n",
        "    global W_0, B_0, W_1, B_1, lr\n",
        "    dW_1 = np.dot(H, (y_hat - y).T)\n",
        "    dB_1 = np.sum(y_hat - y, axis = 1, keepdims = True).T\n",
        "    dH = np.dot(W_1, y_hat - y)\n",
        "\n",
        "    dZ_1 = dH * (1 - (H*H))\n",
        "    dW_0 = np.dot(X, dZ_1.T)\n",
        "    dB_0 = np.sum(dZ_1, axis=1, keepdims=True).T\n",
        "\n",
        "    W_0 = W_0 - lr * dW_0\n",
        "    W_1 = W_1 - lr * dW_1\n",
        "    B_0 = B_0 - lr * dB_0\n",
        "    B_1 = B_1 - lr * dB_1"
      ],
      "metadata": {
        "id": "DuBAMfaxT-rz"
      },
      "execution_count": 567,
      "outputs": []
    },
    {
      "cell_type": "code",
      "source": [
        "'''\n",
        "(3) (학습 과정) 모델 학습 하기\n",
        "(2)에서 구현한 함수를 통해 모델을 학습한다.\n",
        "앞서 구현한 다섯개의 함수를 모두 사용한다.\n",
        "'''\n",
        "for epoch in range(1000):\n",
        "    Z_1 = weighted_sum(X, W_0, B_0)\n",
        "    H = sigmoid(Z_1)\n",
        "    Z_2 = weighted_sum(H, W_1, B_1)\n",
        "    y_hat = sigmoid(Z_2)\n",
        "\n",
        "    loss = BCE_loss(y, y_hat)\n",
        "    gradient_update(X, H, y, y_hat)\n",
        "\n",
        "print(W_0)\n",
        "print(W_1)\n",
        "print(B_0)\n",
        "print(B_1)"
      ],
      "metadata": {
        "colab": {
          "base_uri": "https://localhost:8080/"
        },
        "id": "6pP9mCdFAEei",
        "outputId": "d6c4ffc2-912a-44c3-cb86-099c39de8fa6"
      },
      "execution_count": 568,
      "outputs": [
        {
          "output_type": "stream",
          "name": "stdout",
          "text": [
            "[[-14.57112296 -11.45138454]\n",
            " [ 14.52879586   5.97018036]]\n",
            "[[-3.70319833]\n",
            " [ 5.90627305]]\n",
            "[[ 1.66573837 -6.24544571]]\n",
            "[[1.85810003]]\n"
          ]
        }
      ]
    },
    {
      "cell_type": "markdown",
      "source": [
        "**분류규칙과 분류결과**\n",
        "\n",
        "라이브러리를 활용한 구현에서는 자동으로 분류규칙을 통한 분류결과가 반환된다.\n",
        "그러나 직접구현에서는 분류규칙을 통해 분류결과를 반환하는 코드를 작성해야한다."
      ],
      "metadata": {
        "id": "MaZE73m9CNz-"
      }
    },
    {
      "cell_type": "code",
      "source": [
        "'''\n",
        "(4) (성능 평가) 학습된 모델을 대상으로 테스트 데이터로 평가하기\n",
        "학습된 가중치와 분류규칙을 바탕으로 분류 결과 확인\n",
        "'''\n",
        "def predict(X):\n",
        "    global W_0, W_1, B_0, B_1\n",
        "    Z_1 = weighted_sum(X, W_0, B_0)\n",
        "    H = sigmoid(Z_1)\n",
        "    Z_2 = weighted_sum(H, W_1, B_1)\n",
        "    y_hat = sigmoid(Z_2).reshape(4)\n",
        "\n",
        "    pred_class = []\n",
        "    pred_class = [1 if i > 0.5 else 0 for i in y_hat]\n",
        "    return np.array(pred_class)\n",
        "\n",
        "y_pred = predict(X)\n",
        "print(y_pred)"
      ],
      "metadata": {
        "colab": {
          "base_uri": "https://localhost:8080/"
        },
        "id": "3sPWxpzyArA4",
        "outputId": "f1c6a5e1-142f-4f4b-b5a2-60d8b5c0ca24"
      },
      "execution_count": 569,
      "outputs": [
        {
          "output_type": "stream",
          "name": "stdout",
          "text": [
            "[0 1 1 0]\n"
          ]
        }
      ]
    }
  ]
}