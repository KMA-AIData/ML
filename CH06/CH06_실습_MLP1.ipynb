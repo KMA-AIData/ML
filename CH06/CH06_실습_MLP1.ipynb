{
  "nbformat": 4,
  "nbformat_minor": 0,
  "metadata": {
    "colab": {
      "provenance": []
    },
    "kernelspec": {
      "name": "python3",
      "display_name": "Python 3"
    },
    "language_info": {
      "name": "python"
    }
  },
  "cells": [
    {
      "cell_type": "markdown",
      "source": [
        "# CH06.다층 퍼셉트론 실습"
      ],
      "metadata": {
        "id": "CLmS9bD_p3gV"
      }
    },
    {
      "cell_type": "markdown",
      "source": [
        "## 실습 순서\n",
        "\n",
        "0. 사용할 라이브러리와 패키지 불러오기\n",
        "\n",
        "1.   (데이터) 데이터 정의하기\n",
        "2. (모델) 다층 퍼셉트론 모델 불러오기\n",
        "3. (모델 학습) 모델 학습하기\n",
        "4. (모델 성능 평가) 모델 성능 평가하기"
      ],
      "metadata": {
        "id": "YBJH39wWqm0T"
      }
    },
    {
      "cell_type": "markdown",
      "source": [
        "## [실습 6-1] scikit-learn 라이브러리를 이용한 다층 퍼셉트론\n",
        "\n"
      ],
      "metadata": {
        "id": "Fofx1AL8zEvw"
      }
    },
    {
      "cell_type": "markdown",
      "source": [
        "### 0. 사용할 라이브러리와 패키지 불러오기\n",
        "\n",
        "\n"
      ],
      "metadata": {
        "id": "JZDYnKorHHZF"
      }
    },
    {
      "cell_type": "code",
      "source": [
        "# numpy를 각각 np로 재지정해 불러온다.\n",
        "# scikit-learn 패키지 중 사용할 패키지를 불러온다.\n",
        "import numpy as np\n",
        "from sklearn.neural_network import MLPClassifier"
      ],
      "metadata": {
        "id": "Xbv3-8SpYLLO"
      },
      "execution_count": 2,
      "outputs": []
    },
    {
      "cell_type": "markdown",
      "source": [
        "### 1. 데이터 정의하기\n",
        "\n"
      ],
      "metadata": {
        "id": "Qf_yaPaGHTlR"
      }
    },
    {
      "cell_type": "code",
      "source": [
        "# XOR 데이터를 정의한다.\n",
        "# XOR은 두 입력값이 서로 같으면 0, 서로 다르면 1로 분류하는 논리 회로 게이트다.\n",
        "X = [[0, 0], [0, 1], [1, 0], [1, 1]]\n",
        "y = [0, 1, 1, 0]"
      ],
      "metadata": {
        "id": "DFhpEtOdcGmu"
      },
      "execution_count": 3,
      "outputs": []
    },
    {
      "cell_type": "markdown",
      "source": [
        "### 2. 다층 퍼셉트론 모델 불러오기\n",
        "\n",
        "\n"
      ],
      "metadata": {
        "id": "Jf5D5HbeHT46"
      }
    },
    {
      "cell_type": "code",
      "source": [
        "# scikit-learn 라이브러리를 통해 구현되어 있는 다층 퍼셉트론 모델을 불러온다.\n",
        "classifier = MLPClassifier(hidden_layer_sizes = (2, ), activation = 'logistic',\n",
        "                          learning_rate_init = 0.1)"
      ],
      "metadata": {
        "id": "gdZqDRtwdFIl"
      },
      "execution_count": 4,
      "outputs": []
    },
    {
      "cell_type": "markdown",
      "source": [
        "### 3. 모델 학습하기\n",
        "\n",
        "\n"
      ],
      "metadata": {
        "id": "wdiJuTjPHT-X"
      }
    },
    {
      "cell_type": "code",
      "source": [
        "# fit 함수를 통해 학습을 진행한다.\n",
        "# fit 함수에는 1) 가중치 초기화 2) 손실 함수 계산 3) 가중치 업데이트가 모두 구현되어 있다.\n",
        "classifier.fit(X, y)\n",
        "w = classifier.coefs_\n",
        "w_0 = classifier.intercepts_\n",
        "print(w)\n",
        "print(w_0)"
      ],
      "metadata": {
        "id": "GucEsPT5eaT2",
        "colab": {
          "base_uri": "https://localhost:8080/"
        },
        "outputId": "2ff0251b-bd15-49c0-d7dd-48770af2bb42"
      },
      "execution_count": 5,
      "outputs": [
        {
          "output_type": "stream",
          "name": "stdout",
          "text": [
            "[array([[ 0.20597759, -0.12359798],\n",
            "       [-0.42928902,  0.02346334]]), array([[0.24910724],\n",
            "       [0.19862848]])]\n",
            "[array([-0.4721148 , -0.19532294]), array([-0.09976397])]\n"
          ]
        }
      ]
    },
    {
      "cell_type": "markdown",
      "source": [
        "### 4. 모델 성능 평가하기\n",
        "\n",
        "\n"
      ],
      "metadata": {
        "id": "sAPkbAJZHUCf"
      }
    },
    {
      "cell_type": "code",
      "source": [
        "# predict 함수를 통해 다층 퍼셉트론으로 얻은 예측값을 추출한다.\n",
        "y_pred = classifier.predict(X) # 테스트 데이터에 대하여 결과 예측\n",
        "print(y_pred)"
      ],
      "metadata": {
        "colab": {
          "base_uri": "https://localhost:8080/"
        },
        "id": "Z1DklYB7eq79",
        "outputId": "068e4d28-fe18-48ce-865c-a284e69b509b"
      },
      "execution_count": 6,
      "outputs": [
        {
          "output_type": "stream",
          "name": "stdout",
          "text": [
            "[1 1 1 1]\n"
          ]
        }
      ]
    },
    {
      "cell_type": "markdown",
      "source": [
        "## [실습 6-2] 함수를 직접 정의해 구현한 다층 퍼셉트론\n",
        "\n",
        "\n"
      ],
      "metadata": {
        "id": "6F7D3y3bIHS6"
      }
    },
    {
      "cell_type": "markdown",
      "source": [
        "### 1. 데이터 정의하기\n",
        "\n"
      ],
      "metadata": {
        "id": "y5nNbBL5IUmY"
      }
    },
    {
      "cell_type": "code",
      "source": [
        "# XOR 데이터를 정의한다.\n",
        "# XOR은 두 입력값이 서로 같으면 0, 서로 다르면 1로 분류하는 논리 회로 게이트다.\n",
        "X = np.array([0, 0, 1, 1, 0, 1, 0, 1]).reshape(2, 4)\n",
        "y = np.array([0, 1, 1, 0]).reshape(1, 4)\n",
        "print(X)"
      ],
      "metadata": {
        "id": "7lV2Lpxnqoy9",
        "colab": {
          "base_uri": "https://localhost:8080/"
        },
        "outputId": "cfd1fefb-3ef6-4b39-9eb9-0c1a0905a7e9"
      },
      "execution_count": 7,
      "outputs": [
        {
          "output_type": "stream",
          "name": "stdout",
          "text": [
            "[[0 0 1 1]\n",
            " [0 1 0 1]]\n"
          ]
        }
      ]
    },
    {
      "cell_type": "markdown",
      "source": [
        "### 2. 다층 퍼셉트론 모델 불러오기\n",
        "\n",
        "\n",
        "\n"
      ],
      "metadata": {
        "id": "boL2COr3IXaM"
      }
    },
    {
      "cell_type": "code",
      "source": [
        "# 다층 퍼셉트론 모델 선언하기\n",
        "# scikit-learn 라이브러리를 통해 구현되어 있는 다층 퍼셉트론 모델을 불러온다.\n",
        "# 1) 가중치 초기화\n",
        "# 2) 가중합 함수\n",
        "# 3) 활성화 함수\n",
        "# 4) 손실 함수\n",
        "# 5) 가중치 업데이트\n",
        "\n",
        "np.random.seed(59)\n",
        "W_0 = np.random.rand(2, 2)\n",
        "W_1 = np.random.rand(2, 1)\n",
        "B_0 = np.random.random((1, 2))\n",
        "B_1 = np.random.random((1, 1))\n",
        "lr = 0.1\n",
        "\n",
        "def weighted_sum(X, W, B):\n",
        "    return np.dot(W.T, X) + B.T\n",
        "\n",
        "def sigmoid(x):\n",
        "    return 1 / (1+np.exp(-x))\n",
        "\n",
        "def BCE_loss(y, y_hat):\n",
        "    loss = np.mean(y * (np.log1p(y_hat)) + (1 - y) * np.log1p(1 - y_hat))\n",
        "    return -loss\n",
        "\n",
        "def gradient_update(X, H, y, y_hat):\n",
        "    global W_0, B_0, W_1, B_1, lr\n",
        "    dW_1 = np.dot(H, (y_hat - y).T)\n",
        "    dB_1 = np.sum(y_hat - y, axis = 1, keepdims = True).T\n",
        "    dH = np.dot(W_1, y_hat - y)\n",
        "\n",
        "    dZ_1 = dH * (H * (1 - H))\n",
        "    dW_0 = np.dot(X, dZ_1.T)\n",
        "    dB_0 = np.sum(dZ_1, axis = 1, keepdims = True).T\n",
        "\n",
        "    W_0 = W_0 - lr * dW_0\n",
        "    W_1 = W_1 - lr * dW_1\n",
        "    B_0 = B_0 - lr * dB_0\n",
        "    B_1 = B_1 - lr * dB_1"
      ],
      "metadata": {
        "id": "agvHvEqrqxoB"
      },
      "execution_count": 8,
      "outputs": []
    },
    {
      "cell_type": "markdown",
      "source": [
        "### 3. 모델 학습하기\n",
        "\n",
        "\n"
      ],
      "metadata": {
        "id": "iIlpDoooIXd2"
      }
    },
    {
      "cell_type": "code",
      "source": [
        "# 앞서 구현한 함수 다섯 개를 모두 사용하여 모델을 학습한다.\n",
        "for epoch in range(1000):\n",
        "\t\tZ_1 = weighted_sum(X, W_0, B_0)\n",
        "\t\tH = sigmoid(Z_1)\n",
        "\t\tZ_2 = weighted_sum(H, W_1, B_1)\n",
        "\t\ty_hat = sigmoid(Z_2)\n",
        "\n",
        "\t\tloss = BCE_loss(y, y_hat)\n",
        "\t\tgradient_update(X, H, y, y_hat)\n",
        "\n",
        "print(W_0)\n",
        "print(W_1)\n",
        "print(B_0)\n",
        "print(B_1)"
      ],
      "metadata": {
        "id": "mfBAdbEuq2Fn",
        "colab": {
          "base_uri": "https://localhost:8080/"
        },
        "outputId": "180e64b4-9b6a-449b-9348-be45e490203b"
      },
      "execution_count": 9,
      "outputs": [
        {
          "output_type": "stream",
          "name": "stdout",
          "text": [
            "[[5.35774448 2.3563632 ]\n",
            " [5.32050553 2.3506189 ]]\n",
            "[[ 5.87445068]\n",
            " [-5.51541982]]\n",
            "[[-1.80781176 -3.43980731]]\n",
            "[[-2.70355729]]\n"
          ]
        }
      ]
    },
    {
      "cell_type": "markdown",
      "source": [
        "### 4. 모델 성능 평가하기\n",
        "\n"
      ],
      "metadata": {
        "id": "TjV7WgqaIXi7"
      }
    },
    {
      "cell_type": "code",
      "source": [
        "# predict 함수를 통해 다층 퍼셉트론으로 얻은 예측값을 추출한다.\n",
        "def predict(X):\n",
        "\t\tglobal W_0, W_1, B_0, B_1\n",
        "\t\tZ_1 = weighted_sum(X, W_0, B_0)\n",
        "\t\tH = sigmoid(Z_1)\n",
        "\t\tZ_2 = weighted_sum(H, W_1, B_1)\n",
        "\t\ty_hat = sigmoid(Z_2).reshape(4)\n",
        "\n",
        "\t\tpred_class = []\n",
        "\t\tpred_class = [1 if i > 0.5 else 0 for i in y_hat]\n",
        "\t\treturn np.array(pred_class)\n",
        "\n",
        "y_pred = predict(X)\n",
        "print(y_pred)"
      ],
      "metadata": {
        "colab": {
          "base_uri": "https://localhost:8080/"
        },
        "id": "KwrnSc_jtEKm",
        "outputId": "ffddef58-a6e0-4ae5-f74d-04eba4a66a8d"
      },
      "execution_count": 10,
      "outputs": [
        {
          "output_type": "stream",
          "name": "stdout",
          "text": [
            "[0 1 1 0]\n"
          ]
        }
      ]
    }
  ]
}