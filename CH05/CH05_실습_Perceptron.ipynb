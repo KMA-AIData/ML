{
  "cells": [
    {
      "cell_type": "markdown",
      "source": [
        "# CH05. 퍼셉트론 (perceptron) (실습)\n",
        "\n",
        "### [1] 실습 진행 관련 설명\n",
        "퍼셉트론에 대한 실습을 진행하고자 한다. 실습은 크게 두가지로 구성되어 있다.\n",
        "\n",
        "- sklearn 라이브러리를 이용한 방법\n",
        "- 직접 함수를 구현하는 방법\n",
        "\n",
        "우선 sklearn 라이브러리를 이용한 방법을 실습하고 그 이후에 직접 함수를 구현하여 실습을 진행한다."
      ],
      "metadata": {
        "id": "2cFuEV-hxUPB"
      }
    },
    {
      "cell_type": "markdown",
      "metadata": {
        "id": "LwlprMJwl7dJ"
      },
      "source": [
        "## [2] 코드 구현의 흐름\n",
        "\n",
        "-(1) (데이터 측면) 데이터 불러오기.\n",
        "\n",
        "-(2) (데이터 측면) 불러온 데이터를 훈련데이터와 테스트 데이터로 구분하기.\n",
        "\n",
        "-(3) (모델 측면) sklearn 라이브러리의 퍼셉트론 모델 불러오기. 또는 직접 함수 구현하기.\n",
        "\n",
        "-(4) (학습 과정) 모델 학습하기.\n",
        "\n",
        "-(5) (성능 평가) 테스트 데이터를 이용한 모델의 성능 평가 및 시각화."
      ]
    },
    {
      "cell_type": "markdown",
      "source": [
        "## (첫번째 실습) sklearn 라이브러리를 이용한 방법\n",
        "\n",
        "\n"
      ],
      "metadata": {
        "id": "CNqDNlZlxxBf"
      }
    },
    {
      "cell_type": "markdown",
      "metadata": {
        "id": "tcsr0XOvmf3j"
      },
      "source": [
        "**데이터 설명**\n",
        "퍼셉트론 학습을 통해 0 - 9의 숫자에 대한 필기체 이미지를 인식하여 주어진 이미지의 소속 클래스(숫자)를 예측하는 **분류** 작업을 수행한다."
      ]
    },
    {
      "cell_type": "code",
      "source": [
        "'''\n",
        "(1) (데이터 측면) 데이터 불러오기.\n",
        "필기체 숫자 데이터\n",
        "0에서 9까지 총 10개의 숫자 필기체 이미지 (1997장의 이미지)\n",
        "8X8 = 64개의 특성으로 표시되며, 개별 특성은 0-16의 정수값 부여.\n",
        "'''\n",
        "from sklearn.datasets import load_digits      # 학습 데이터 불러오기\n",
        "from sklearn.linear_model import Perceptron\n",
        "from matplotlib import pyplot as plt\n",
        "from sklearn.model_selection import train_test_split\n",
        "\n",
        "X, y = load_digits(return_X_y=True)\n",
        "\n",
        "'''\n",
        "데이터셋 시각화\n",
        "상단의 숫자는 정답값(y)를 의미하며, 이미지는 64개로 이루어진 특징벡터를 의미함.\n",
        "'''\n",
        "rows = 2; cols = 5\n",
        "fig = plt.figure()\n",
        "for i in range(10):\n",
        "  ax = fig.add_subplot(rows, cols, i+1)\n",
        "  ax.imshow(X[i].reshape(8,8))\n",
        "  ax.set_title(str(i))\n",
        "plt.show()"
      ],
      "metadata": {
        "colab": {
          "base_uri": "https://localhost:8080/",
          "height": 370
        },
        "id": "aZ2LDU06vPCg",
        "outputId": "bcf1830b-16be-4d1d-d1ec-4155addf03af"
      },
      "execution_count": null,
      "outputs": [
        {
          "output_type": "display_data",
          "data": {
            "text/plain": [
              "<Figure size 640x480 with 10 Axes>"
            ],
            "image/png": "[encoded data removed]"
          },
          "metadata": {}
        }
      ]
    },
    {
      "cell_type": "markdown",
      "metadata": {
        "id": "CqxNZeixnY9B"
      },
      "source": [
        "**모델의 학습과 예측**\n",
        "\n",
        "훈련용 데이터와 테스트용 데이터를 확보한 후 fit() 명령으로 모델을 학습하고, predict() 명령으로 예측 작업을 수행한다."
      ]
    },
    {
      "cell_type": "code",
      "source": [
        "'''\n",
        "(2) (데이터 측면) 훈련 데이터셋과 테스트 데이터셋을 구분하기\n",
        "X(특징벡터)와 y(정답값)을 훈련데이터셋과 테스트데이터셋으로 분할한다.\n",
        "'''\n",
        "X_train, X_test, y_train, y_test = train_test_split(X, y, test_size = 0.25)"
      ],
      "metadata": {
        "id": "GIlkz-gC1yGr"
      },
      "execution_count": null,
      "outputs": []
    },
    {
      "cell_type": "code",
      "source": [
        "'''\n",
        "(3) (모델 측면) 퍼셉트론 모델 불러오기\n",
        "sklearn 라이브러리를 통해 구현되어 있는 퍼셉트론 모델을 불러온다.\n",
        "'''\n",
        "classifier = Perceptron()"
      ],
      "metadata": {
        "id": "nUu7X6yV2Hvl"
      },
      "execution_count": null,
      "outputs": []
    },
    {
      "cell_type": "code",
      "source": [
        "'''\n",
        "(4) (학습 과정) 모델 학습 하기\n",
        "fit을 통해 모델을 학습한다.\n",
        "fit 함수에는 1) 가중치 초기화 2) 손실함수 계산 3) 가중치 업데이트가 모두 구현되어 있다.\n",
        "'''\n",
        "classifier.fit(X_train, y_train)\n",
        "w = classifier.coef_\n",
        "w_0 = classifier.intercept_\n",
        "#print(w)\n",
        "#print(w_0)"
      ],
      "metadata": {
        "id": "KqbY6Fzz3Xr5"
      },
      "execution_count": null,
      "outputs": []
    },
    {
      "cell_type": "code",
      "source": [
        "'''\n",
        "(5) (성능 평가) 학습된 모델을 대상으로 테스트 데이터로 평가하기\n",
        "predict를 통해 퍼셉트론으로 얻은 예측값을 추출한다.\n",
        "'''\n",
        "y_pred = classifier.predict(X_test)  # 테스트 데이터에 대하여 결과 예측\n",
        "\n",
        "'''\n",
        "학습 결과 시각화\n",
        "상단의 숫자는 정답값(y)를 의미하며, 이미지는 64개로 이루어진 특징벡터를 의미함.\n",
        "'''\n",
        "rows = 2; cols = 5\n",
        "fig = plt.figure()\n",
        "fig.tight_layout(w_pad=100)\n",
        "for i in range(10):\n",
        "  ax = fig.add_subplot(rows, cols, i+1)\n",
        "  ax.imshow(X_test[i].reshape(8,8))\n",
        "  ax.set_title(\"y_hat=\" + str(y_pred[i]))\n",
        "plt.show()"
      ],
      "metadata": {
        "colab": {
          "base_uri": "https://localhost:8080/",
          "height": 370
        },
        "id": "QEFiwgTU3lM7",
        "outputId": "ceaa04b1-a298-4e78-fdab-92ff56307d64"
      },
      "execution_count": null,
      "outputs": [
        {
          "output_type": "display_data",
          "data": {
            "text/plain": [
              "<Figure size 640x480 with 10 Axes>"
            ],
            "image/png": "[encoded data removed]"
          },
          "metadata": {}
        }
      ]
    },
    {
      "cell_type": "markdown",
      "metadata": {
        "id": "-hXGYhPmoq8R"
      },
      "source": [
        "**분류 성능 평가와 시각화**\n",
        "\n",
        "Confusion matrix\n",
        "\n",
        "학습 모델의 분류 성능을 시각적으로 확인할 수 있게 해준다. 특히 목표 클래스에 해당하는 테스트 인스턴스에 대하여 모델이 정확하게 예측한 이미지의 수, 잘못 예측한 이미지들의 경우 클래스(숫자) 별로 잘못 예측한 이미지의 숫자를 표시하여 모델의 분류 성능을 한 눈에 파악할 수 있게 해 준다."
      ]
    },
    {
      "cell_type": "code",
      "source": [
        "'''\n",
        "(5-2) (성능 평가) 학습된 모델을 대상으로 테스트 데이터로 평가하기\n",
        "혼동행렬을 통한 성능 확인\n",
        "'''\n",
        "from sklearn.metrics import classification_report\n",
        "target_names = ['digit 0', 'digit 1', 'digit 2', 'digit 3', 'digit 4',\n",
        "                'digit 5', 'digit 6', 'digit 7', 'digit 8', 'digit 9']\n",
        "print(classification_report(y_test, y_pred, target_names=target_names))\n",
        "\n",
        "from sklearn.metrics import ConfusionMatrixDisplay\n",
        "ConfusionMatrixDisplay.from_predictions(y_test, y_pred)"
      ],
      "metadata": {
        "colab": {
          "base_uri": "https://localhost:8080/",
          "height": 762
        },
        "id": "xlQzULhr38Rz",
        "outputId": "47a11a11-241a-44f1-88ef-08107afb6228"
      },
      "execution_count": null,
      "outputs": [
        {
          "output_type": "stream",
          "name": "stdout",
          "text": [
            "              precision    recall  f1-score   support\n",
            "\n",
            "     digit 0       1.00      1.00      1.00        44\n",
            "     digit 1       0.89      0.98      0.93        42\n",
            "     digit 2       0.96      0.98      0.97        47\n",
            "     digit 3       0.97      0.97      0.97        58\n",
            "     digit 4       1.00      0.98      0.99        49\n",
            "     digit 5       0.97      0.87      0.92        45\n",
            "     digit 6       0.92      1.00      0.96        36\n",
            "     digit 7       0.94      1.00      0.97        46\n",
            "     digit 8       0.94      0.84      0.89        38\n",
            "     digit 9       0.95      0.93      0.94        45\n",
            "\n",
            "    accuracy                           0.96       450\n",
            "   macro avg       0.95      0.95      0.95       450\n",
            "weighted avg       0.96      0.96      0.96       450\n",
            "\n"
          ]
        },
        {
          "output_type": "execute_result",
          "data": {
            "text/plain": [
              "<sklearn.metrics._plot.confusion_matrix.ConfusionMatrixDisplay at 0x7814bbbd7df0>"
            ]
          },
          "metadata": {},
          "execution_count": 6
        },
        {
          "output_type": "display_data",
          "data": {
            "text/plain": [
              "<Figure size 640x480 with 2 Axes>"
            ],
            "image/png": "[encoded data removed]"
          },
          "metadata": {}
        }
      ]
    },
    {
      "cell_type": "markdown",
      "source": [
        "## (두번째 실습) 직접구현\n"
      ],
      "metadata": {
        "id": "BY58hG5uSJPq"
      }
    },
    {
      "cell_type": "code",
      "source": [
        "'''\n",
        "(1) (데이터 측면) 데이터 불러오기.\n",
        "필기체 숫자 데이터\n",
        "0에서 9까지 총 10개의 숫자 필기체 이미지 (1997장의 이미지)\n",
        "8X8 = 64개의 특성으로 표시되며, 개별 특성은 0-16의 정수값 부여.\n",
        "'''\n",
        "from sklearn.datasets import load_digits\n",
        "from sklearn.linear_model import Perceptron\n",
        "from matplotlib import pyplot as plt\n",
        "from sklearn.model_selection import train_test_split\n",
        "from sklearn.metrics import accuracy_score\n",
        "from sklearn.datasets import load_digits\n",
        "import numpy as np\n",
        "\n",
        "X, y = load_digits(return_X_y=True)"
      ],
      "metadata": {
        "id": "vn9z81YgI_-X"
      },
      "execution_count": null,
      "outputs": []
    },
    {
      "cell_type": "code",
      "source": [
        "'''\n",
        "(2) (데이터 측면) 훈련 데이터셋과 테스트 데이터셋을 구분하기\n",
        "X(특징벡터)와 y(정답값)을 훈련데이터셋과 테스트데이터셋으로 분할한다.\n",
        "직접 구현부에서는 10개의 숫자 분류가 아닌 이진분류를 진행한다.\n",
        "따라서 이에 맞는 형태의 데이터로 변환이 필요하다.\n",
        "'''\n",
        "def divideData(X, y, targetClass):\n",
        "    idx = np.where(y==targetClass)[0]\n",
        "    newY = np.zeros(len(y))\n",
        "    newY[idx] = 1\n",
        "    X_train, X_test, y_train, y_test = train_test_split(X, newY, test_size = 0.25, random_state = 42)\n",
        "    return X_train, X_test, y_train, y_test\n",
        "\n",
        "X_train, X_test, y_train, y_test = divideData(X, y, 3)"
      ],
      "metadata": {
        "id": "1hIFc3vrJVJg"
      },
      "execution_count": null,
      "outputs": []
    },
    {
      "cell_type": "code",
      "source": [
        "'''\n",
        "(3) (모델 측면) 퍼셉트론 모델 불러오기\n",
        "퍼셉트론 모델 학습을 위해 필요한 다양한 함수들을 선언한다.\n",
        "'''\n",
        "m, n = X_train.shape\n",
        "w = np.zeros((n,1))\n",
        "lr = 0.1\n",
        "y_train = y_train.reshape(m,1)\n",
        "\n",
        "def sigmoid(x): # sigmoid 함수 구현\n",
        "    return 1.0/(1 + np.exp(-x))\n",
        "\n",
        "def BCE_loss(y, y_hat):\n",
        "    loss = np.mean(y*(np.log1p(y_hat)) + (1-y)*np.log1p(1-y_hat))\n",
        "    return -loss\n",
        "\n",
        "def gradient_descent(X, y, y_hat):\n",
        "    global w\n",
        "    dw = -(np.dot(X.T, (y-y_hat)))\n",
        "    w -= lr*dw"
      ],
      "metadata": {
        "id": "oIRDgmo9J8Bg"
      },
      "execution_count": null,
      "outputs": []
    },
    {
      "cell_type": "code",
      "source": [
        "'''\n",
        "(4) (학습 과정) 모델 학습 하기\n",
        "(3)에서 구현한 함수를 통해 모델을 학습한다.\n",
        "1) 가중치 초기화 2) 손실함수 계산 3) 가중치 업데이트를 모두 사용한다.\n",
        "'''\n",
        "for epoch in range(100):\n",
        "    y_hat = sigmoid(np.dot(X_train, w))\n",
        "    loss = BCE_loss(y_train, y_hat)\n",
        "    gradient_descent(X_train, y_train, y_hat)\n",
        "print(w)"
      ],
      "metadata": {
        "colab": {
          "base_uri": "https://localhost:8080/"
        },
        "id": "wJ-rZwaeMz5z",
        "outputId": "78d99a75-f934-4af0-d554-45df37152c49"
      },
      "execution_count": null,
      "outputs": [
        {
          "output_type": "stream",
          "name": "stdout",
          "text": [
            "[[ 0.00000000e+00]\n",
            " [-8.40849119e+00]\n",
            " [-1.07435274e+02]\n",
            " [-8.21119504e+00]\n",
            " [ 3.56011188e+02]\n",
            " [ 1.24255781e+02]\n",
            " [-5.11151984e+01]\n",
            " [-1.40895081e+01]\n",
            " [-7.30006099e+00]\n",
            " [-1.79092126e+01]\n",
            " [ 1.90420128e+02]\n",
            " [-4.77229876e+01]\n",
            " [ 1.05173489e+02]\n",
            " [ 3.41793587e+02]\n",
            " [ 1.70067352e+02]\n",
            " [-8.62524073e+00]\n",
            " [ 2.50000000e-01]\n",
            " [-6.71563119e+01]\n",
            " [-4.73228341e+02]\n",
            " [-3.88701297e+02]\n",
            " [ 3.05665811e+02]\n",
            " [-1.94451957e+02]\n",
            " [-9.03141558e+01]\n",
            " [-7.06646216e+00]\n",
            " [-1.00000000e-01]\n",
            " [-1.88798221e+02]\n",
            " [-6.22337517e+02]\n",
            " [-1.86604808e+01]\n",
            " [ 1.12604484e+02]\n",
            " [-5.04065510e+02]\n",
            " [-3.39907042e+02]\n",
            " [-1.50000000e-01]\n",
            " [ 0.00000000e+00]\n",
            " [-1.29364786e+02]\n",
            " [-2.76605387e+02]\n",
            " [-6.28167634e+01]\n",
            " [ 2.46948723e+02]\n",
            " [ 2.79733008e+01]\n",
            " [-1.25512709e+02]\n",
            " [ 0.00000000e+00]\n",
            " [-7.50000000e-01]\n",
            " [-7.16474852e+00]\n",
            " [-3.63622095e+02]\n",
            " [-7.58604391e+02]\n",
            " [ 1.85036522e+01]\n",
            " [ 3.76507404e+02]\n",
            " [ 3.78869963e+02]\n",
            " [-2.20000000e+00]\n",
            " [-6.00000000e-01]\n",
            " [-2.37400796e+00]\n",
            " [-2.74949623e+01]\n",
            " [-1.90163104e+02]\n",
            " [-3.88851814e+01]\n",
            " [ 2.85061229e+00]\n",
            " [ 2.42083573e+02]\n",
            " [-6.47053658e+01]\n",
            " [-5.00000000e-02]\n",
            " [-7.76999547e+00]\n",
            " [ 1.79558270e+00]\n",
            " [-1.09388637e+01]\n",
            " [-3.89313777e+01]\n",
            " [-5.84638036e+01]\n",
            " [-1.52804616e+02]\n",
            " [-2.26550000e+02]]\n"
          ]
        },
        {
          "output_type": "stream",
          "name": "stderr",
          "text": [
            "<ipython-input-9-5a886fa58a63>:11: RuntimeWarning: overflow encountered in exp\n",
            "  return 1.0/(1 + np.exp(-x))\n"
          ]
        }
      ]
    },
    {
      "cell_type": "code",
      "source": [
        "'''\n",
        "(5) (성능 평가) 학습된 모델을 대상으로 테스트 데이터로 평가하기\n",
        "sklearn 라이브러리와 동일\n",
        "'''\n",
        "def predict(X, w):\n",
        "    preds = sigmoid(np.dot(X, w))\n",
        "    pred_class = []\n",
        "    pred_class = [1 if i > 0.5 else 0 for i in preds]\n",
        "    return np.array(pred_class)\n",
        "\n",
        "y_pred = predict(X_test, w)\n",
        "\n",
        "'''\n",
        "학습 결과 시각화\n",
        "상단의 숫자는 정답값(y)를 의미하며, 이미지는 64개로 이루어진 특징벡터를 의미함.\n",
        "'''\n",
        "rows = 2; cols = 5\n",
        "fig = plt.figure()\n",
        "for i in range(10):\n",
        "  ax = fig.add_subplot(rows, cols, i+1)\n",
        "  ax.imshow(X_test[i].reshape(8,8))\n",
        "  if y_pred[i] == 1:\n",
        "    ax.set_title(\"y_hat= 3\")\n",
        "  else:\n",
        "    ax.set_title(\"y_hat= not 3\")\n",
        "plt.show()"
      ],
      "metadata": {
        "colab": {
          "base_uri": "https://localhost:8080/",
          "height": 405
        },
        "id": "vnmpozrcNaTu",
        "outputId": "c53247a0-6976-4271-e82a-839cb0e89b6d"
      },
      "execution_count": null,
      "outputs": [
        {
          "output_type": "stream",
          "name": "stderr",
          "text": [
            "<ipython-input-9-5a886fa58a63>:11: RuntimeWarning: overflow encountered in exp\n",
            "  return 1.0/(1 + np.exp(-x))\n"
          ]
        },
        {
          "output_type": "display_data",
          "data": {
            "text/plain": [
              "<Figure size 640x480 with 10 Axes>"
            ],
            "image/png": "[encoded data removed]"
          },
          "metadata": {}
        }
      ]
    },
    {
      "cell_type": "code",
      "source": [
        "'''\n",
        "(5-2) (성능 평가) 학습된 모델을 대상으로 테스트 데이터로 평가하기\n",
        "혼동행렬을 통한 성능 확인\n",
        "'''\n",
        "from sklearn.metrics import classification_report\n",
        "target_names = ['digit 3', 'Others']\n",
        "print(classification_report(y_test, y_pred, target_names=target_names))\n",
        "\n",
        "from sklearn.metrics import ConfusionMatrixDisplay\n",
        "ConfusionMatrixDisplay.from_predictions(y_test, y_pred)"
      ],
      "metadata": {
        "colab": {
          "base_uri": "https://localhost:8080/",
          "height": 623
        },
        "id": "jEbT7jAeN42Y",
        "outputId": "ff068956-022b-45b6-ac4b-75643a69bf13"
      },
      "execution_count": null,
      "outputs": [
        {
          "output_type": "stream",
          "name": "stdout",
          "text": [
            "              precision    recall  f1-score   support\n",
            "\n",
            "     digit 3       1.00      0.98      0.99       404\n",
            "      Others       0.85      0.98      0.91        46\n",
            "\n",
            "    accuracy                           0.98       450\n",
            "   macro avg       0.92      0.98      0.95       450\n",
            "weighted avg       0.98      0.98      0.98       450\n",
            "\n"
          ]
        },
        {
          "output_type": "execute_result",
          "data": {
            "text/plain": [
              "<sklearn.metrics._plot.confusion_matrix.ConfusionMatrixDisplay at 0x7814ede2bf10>"
            ]
          },
          "metadata": {},
          "execution_count": 12
        },
        {
          "output_type": "display_data",
          "data": {
            "text/plain": [
              "<Figure size 640x480 with 2 Axes>"
            ],
            "image/png": "[encoded data removed]"
          },
          "metadata": {}
        }
      ]
    }
  ],
  "metadata": {
    "colab": {
      "provenance": []
    },
    "kernelspec": {
      "display_name": "Python 3",
      "name": "python3"
    },
    "language_info": {
      "name": "python"
    }
  },
  "nbformat": 4,
  "nbformat_minor": 0
}