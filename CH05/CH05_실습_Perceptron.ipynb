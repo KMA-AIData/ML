{
  "nbformat": 4,
  "nbformat_minor": 0,
  "metadata": {
    "colab": {
      "provenance": []
    },
    "kernelspec": {
      "name": "python3",
      "display_name": "Python 3"
    },
    "language_info": {
      "name": "python"
    }
  },
  "cells": [
    {
      "cell_type": "markdown",
      "source": [
        "# CH05.퍼셉트론 실습"
      ],
      "metadata": {
        "id": "CLmS9bD_p3gV"
      }
    },
    {
      "cell_type": "markdown",
      "source": [
        "## 실습 순서\n",
        "\n",
        "0. 사용할 라이브러리와 패키지 불러오기\n",
        "\n",
        "1.   (데이터) 데이터 불러오기\n",
        "2.  (데이터) 학습 데이터와 테스트 데이터 구분하기\n",
        "3. (모델) 모델 구성하기\n",
        "4. (모델 학습) 모델 학습하기\n",
        "5. (모델 성능 평가) 모델 성능 평가하기\n",
        "6. (결과) 모델 동작 시각화하기"
      ],
      "metadata": {
        "id": "YBJH39wWqm0T"
      }
    },
    {
      "cell_type": "markdown",
      "source": [
        "## [실습 5-1] scikit-learn 라이브러리를 이용한 퍼셉트론\n",
        "\n"
      ],
      "metadata": {
        "id": "Fofx1AL8zEvw"
      }
    },
    {
      "cell_type": "markdown",
      "source": [
        "### 0. 사용할 라이브러리와 패키지 불러오기\n",
        "\n",
        "\n"
      ],
      "metadata": {
        "id": "JZDYnKorHHZF"
      }
    },
    {
      "cell_type": "code",
      "source": [
        "# numpy, matplotlib을 각각 np, pl로 재지정해 불러온다.\n",
        "# scikit-learn에서 사용할 패키지를 불러온다.\n",
        "from sklearn.datasets import load_digits\n",
        "from sklearn.linear_model import Perceptron\n",
        "from matplotlib import pyplot as plt\n",
        "from sklearn.model_selection import train_test_split\n",
        "from sklearn.metrics import classification_report\n",
        "from sklearn.metrics import ConfusionMatrixDisplay\n",
        "from sklearn.metrics import accuracy_score\n",
        "import numpy as np"
      ],
      "metadata": {
        "id": "Xbv3-8SpYLLO"
      },
      "execution_count": 1,
      "outputs": []
    },
    {
      "cell_type": "markdown",
      "source": [
        "### 1. 데이터 불러오기\n",
        "\n"
      ],
      "metadata": {
        "id": "Qf_yaPaGHTlR"
      }
    },
    {
      "cell_type": "code",
      "source": [
        "# 필기체 숫자 데이터셋을 불러온다.\n",
        "X, y = load_digits(return_X_y = True)\n",
        "\n",
        "# 상단의 숫자는 실제값(y)를 의미하며, 이미지는 838 픽셀로 이루어진 입력 데이터를 의미한다.\n",
        "rows = 2; cols = 5\n",
        "fig = plt.figure()\n",
        "for i in range(10):\n",
        "    ax = fig.add_subplot(rows, cols, i + 1)\n",
        "    ax.imshow(X[i].reshape(8, 8))\n",
        "    ax.set_title(str(i))\n",
        "plt.show()"
      ],
      "metadata": {
        "id": "DFhpEtOdcGmu",
        "colab": {
          "base_uri": "https://localhost:8080/",
          "height": 370
        },
        "outputId": "593dec9e-ef80-478a-d1c8-4d4e78c93c98"
      },
      "execution_count": 2,
      "outputs": [
        {
          "output_type": "display_data",
          "data": {
            "text/plain": [
              "<Figure size 640x480 with 10 Axes>"
            ],
            "image/png": "[encoded data removed]"
          },
          "metadata": {}
        }
      ]
    },
    {
      "cell_type": "markdown",
      "source": [
        "### 2. 학습 데이터와 테스트 데이터 구분하기\n",
        "\n",
        "\n"
      ],
      "metadata": {
        "id": "Jf5D5HbeHT46"
      }
    },
    {
      "cell_type": "code",
      "source": [
        "# X(입력 데이터)와 y(실제값)을 학습 데이터셋과 테스트 데이터셋으로 분할한다.\n",
        "X_train, X_test, y_train, y_test = train_test_split(X, y, test_size = 0.25)"
      ],
      "metadata": {
        "id": "gdZqDRtwdFIl"
      },
      "execution_count": 3,
      "outputs": []
    },
    {
      "cell_type": "markdown",
      "source": [
        "### 3. 모델 구성하기\n",
        "\n",
        "\n"
      ],
      "metadata": {
        "id": "wdiJuTjPHT-X"
      }
    },
    {
      "cell_type": "code",
      "source": [
        "# scikit-learn 라이브러리의 퍼셉트론 모델을 불러온다.\n",
        "classifier = Perceptron()"
      ],
      "metadata": {
        "id": "GucEsPT5eaT2"
      },
      "execution_count": 4,
      "outputs": []
    },
    {
      "cell_type": "markdown",
      "source": [
        "### 4. 모델 학습하기\n",
        "\n",
        "\n"
      ],
      "metadata": {
        "id": "sAPkbAJZHUCf"
      }
    },
    {
      "cell_type": "code",
      "source": [
        "# fit 함수를 통해 모델을 학습한다.\n",
        "# fit 함수에는 1) 가중치 초기화 2) 손실 함수 계산 3) 가중치 업데이트가 모두 구현되어 있다.\n",
        "classifier.fit(X_train, y_train)\n",
        "w = classifier.coef_\n",
        "w_0 = classifier.intercept_"
      ],
      "metadata": {
        "id": "Z1DklYB7eq79"
      },
      "execution_count": 5,
      "outputs": []
    },
    {
      "cell_type": "markdown",
      "source": [
        "### 5. 모델 성능 평가하기\n",
        "\n",
        "\n"
      ],
      "metadata": {
        "id": "jMQZe8jwHUFu"
      }
    },
    {
      "cell_type": "code",
      "source": [
        "# predict 함수를 통해 퍼셉트론으로 얻은 예측값을 추출한다.\n",
        "y_pred = classifier.predict(X_test)\n",
        "\n",
        "# 학습 결과를 시각화한다.\n",
        "rows = 2; cols = 5\n",
        "fig = plt.figure()\n",
        "fig.tight_layout(w_pad = 100)\n",
        "for i in range(10):\n",
        "    ax = fig.add_subplot(rows, cols, i + 1)\n",
        "    ax.imshow(X_test[i].reshape(8, 8))\n",
        "    ax.set_title(\"y_hat = \" + str(y_pred[i]))\n",
        "plt.show()"
      ],
      "metadata": {
        "id": "qJpRs4Dxng7_",
        "colab": {
          "base_uri": "https://localhost:8080/",
          "height": 370
        },
        "outputId": "61faab79-cb5a-4434-df23-b7042140e699"
      },
      "execution_count": 6,
      "outputs": [
        {
          "output_type": "display_data",
          "data": {
            "text/plain": [
              "<Figure size 640x480 with 10 Axes>"
            ],
            "image/png": "[encoded data removed]"
          },
          "metadata": {}
        }
      ]
    },
    {
      "cell_type": "markdown",
      "source": [
        "### 6. 모델 동작 시각화하기\n",
        "\n",
        "\n"
      ],
      "metadata": {
        "id": "U9A3M5ooHUx4"
      }
    },
    {
      "cell_type": "code",
      "source": [
        "# 혼동 행렬을 통해 성능을 확인한다.\n",
        "target_names = ['digit 0', 'digit 1', 'digit 2', 'digit 3', 'digit 4',\n",
        "                'digit 5', 'digit 6', 'digit 7', 'digit 8', 'digit 9']\n",
        "print(classification_report(y_test, y_pred, target_names = target_names))\n",
        "ConfusionMatrixDisplay.from_predictions(y_test, y_pred)"
      ],
      "metadata": {
        "id": "8gMYOugfvBrR",
        "colab": {
          "base_uri": "https://localhost:8080/",
          "height": 779
        },
        "outputId": "46da3549-f2ab-48cd-c78c-fad6ffc3f022"
      },
      "execution_count": 7,
      "outputs": [
        {
          "output_type": "stream",
          "name": "stdout",
          "text": [
            "              precision    recall  f1-score   support\n",
            "\n",
            "     digit 0       1.00      0.98      0.99        49\n",
            "     digit 1       0.74      1.00      0.85        43\n",
            "     digit 2       0.95      0.98      0.96        42\n",
            "     digit 3       0.98      0.96      0.97        46\n",
            "     digit 4       0.95      0.90      0.92        41\n",
            "     digit 5       0.92      0.97      0.95        36\n",
            "     digit 6       0.88      0.96      0.92        54\n",
            "     digit 7       0.98      0.98      0.98        44\n",
            "     digit 8       0.97      0.67      0.79        51\n",
            "     digit 9       0.98      0.91      0.94        44\n",
            "\n",
            "    accuracy                           0.93       450\n",
            "   macro avg       0.93      0.93      0.93       450\n",
            "weighted avg       0.94      0.93      0.93       450\n",
            "\n"
          ]
        },
        {
          "output_type": "execute_result",
          "data": {
            "text/plain": [
              "<sklearn.metrics._plot.confusion_matrix.ConfusionMatrixDisplay at 0x7a2f5873d9f0>"
            ]
          },
          "metadata": {},
          "execution_count": 7
        },
        {
          "output_type": "display_data",
          "data": {
            "text/plain": [
              "<Figure size 640x480 with 2 Axes>"
            ],
            "image/png": "[encoded data removed]"
          },
          "metadata": {}
        }
      ]
    },
    {
      "cell_type": "markdown",
      "source": [
        "## [실습 5-2] 함수를 직접 정의해 구현한 퍼셉트론\n",
        "\n",
        "\n"
      ],
      "metadata": {
        "id": "6F7D3y3bIHS6"
      }
    },
    {
      "cell_type": "markdown",
      "source": [
        "### 1. 데이터 불러오기\n",
        "\n"
      ],
      "metadata": {
        "id": "y5nNbBL5IUmY"
      }
    },
    {
      "cell_type": "code",
      "source": [
        "# 필기체 숫자 데이터셋을 불러온다.\n",
        "X, y = load_digits(return_X_y = True)"
      ],
      "metadata": {
        "id": "7lV2Lpxnqoy9"
      },
      "execution_count": 8,
      "outputs": []
    },
    {
      "cell_type": "markdown",
      "source": [
        "### 2. 학습 데이터와 테스트 데이터 구분하기\n",
        "\n",
        "\n"
      ],
      "metadata": {
        "id": "boL2COr3IXaM"
      }
    },
    {
      "cell_type": "code",
      "source": [
        "# X(입력 데이터)와 y(실제값)을 학습 데이터셋과 테스트 데이터셋으로 분할한다.\n",
        "# 직접 구현에서는 10개의 숫자 분류가 아닌 이진 분류를 진행한다.\n",
        "# 따라서 이에 맞는 형태의 데이터로의 변환이 필요하다.\n",
        "def divideData(X, y, targetClass):\n",
        "    idx = np.where(y == targetClass)[0]\n",
        "    newY = np.zeros(len(y))\n",
        "    newY[idx] = 1\n",
        "    X_train, X_test, y_train, y_test = train_test_split(X, newY, test_size = 0.25, random_state = 42)\n",
        "    return X_train, X_test, y_train, y_test\n",
        "\n",
        "X_train, X_test, y_train, y_test = divideData(X, y, 3)"
      ],
      "metadata": {
        "id": "agvHvEqrqxoB"
      },
      "execution_count": 9,
      "outputs": []
    },
    {
      "cell_type": "markdown",
      "source": [
        "### 3. 모델 구성하기\n",
        "\n",
        "\n"
      ],
      "metadata": {
        "id": "iIlpDoooIXd2"
      }
    },
    {
      "cell_type": "code",
      "source": [
        "# 퍼셉트론 모델 학습을 위해 필요한 다양한 함수들을 선언한다.\n",
        "m, n = X_train.shape\n",
        "w = np.zeros((n, 1))\n",
        "lr = 0.1\n",
        "y_train = y_train.reshape(m, 1)\n",
        "\n",
        "def sigmoid(x): # 시그모이드 함수 구현\n",
        "\t\treturn 1.0/(1 + np.exp(-x))\n",
        "\n",
        "def BCE_loss(y, y_hat): # 이진 크로스 엔트로피 함수 구현\n",
        "\t\tloss = np.mean(y * (np.log1p(y_hat)) + (1 - y) * np.log1p(1 - y_hat))\n",
        "\t\treturn -loss\n",
        "\n",
        "def gradient_descent(X, y, y_hat): # 경사하강법 함수 구현\n",
        "\t\tglobal w\n",
        "\t\tdw = -(np.dot(X.T, (y - y_hat)))\n",
        "\t\tw -= lr*dw"
      ],
      "metadata": {
        "id": "mfBAdbEuq2Fn"
      },
      "execution_count": 10,
      "outputs": []
    },
    {
      "cell_type": "markdown",
      "source": [
        "### 4. 모델 학습하기\n",
        "\n",
        "\n"
      ],
      "metadata": {
        "id": "TjV7WgqaIXi7"
      }
    },
    {
      "cell_type": "code",
      "source": [
        "# 구현한 함수를 통해 모델을 학습한다.\n",
        "# 이 함수에는 1) 가중치 초기화 2) 손실 함수 계산 3) 가중치 업데이트가 모두 구현되어 있다.\n",
        "for epoch in range(100):\n",
        "\t\ty_hat = sigmoid(np.dot(X_train, w))\n",
        "\t\tloss = BCE_loss(y_train, y_hat)\n",
        "\t\tgradient_descent(X_train, y_train, y_hat)\n",
        "print(w)"
      ],
      "metadata": {
        "colab": {
          "base_uri": "https://localhost:8080/"
        },
        "id": "KwrnSc_jtEKm",
        "outputId": "ddd3577f-d506-48dd-bd2e-962c64041511"
      },
      "execution_count": 11,
      "outputs": [
        {
          "output_type": "stream",
          "name": "stdout",
          "text": [
            "[[ 0.00000000e+00]\n",
            " [-8.40849119e+00]\n",
            " [-1.07435274e+02]\n",
            " [-8.21119504e+00]\n",
            " [ 3.56011188e+02]\n",
            " [ 1.24255781e+02]\n",
            " [-5.11151984e+01]\n",
            " [-1.40895081e+01]\n",
            " [-7.30006099e+00]\n",
            " [-1.79092126e+01]\n",
            " [ 1.90420128e+02]\n",
            " [-4.77229876e+01]\n",
            " [ 1.05173489e+02]\n",
            " [ 3.41793587e+02]\n",
            " [ 1.70067352e+02]\n",
            " [-8.62524073e+00]\n",
            " [ 2.50000000e-01]\n",
            " [-6.71563119e+01]\n",
            " [-4.73228341e+02]\n",
            " [-3.88701297e+02]\n",
            " [ 3.05665811e+02]\n",
            " [-1.94451957e+02]\n",
            " [-9.03141558e+01]\n",
            " [-7.06646216e+00]\n",
            " [-1.00000000e-01]\n",
            " [-1.88798221e+02]\n",
            " [-6.22337517e+02]\n",
            " [-1.86604808e+01]\n",
            " [ 1.12604484e+02]\n",
            " [-5.04065510e+02]\n",
            " [-3.39907042e+02]\n",
            " [-1.50000000e-01]\n",
            " [ 0.00000000e+00]\n",
            " [-1.29364786e+02]\n",
            " [-2.76605387e+02]\n",
            " [-6.28167634e+01]\n",
            " [ 2.46948723e+02]\n",
            " [ 2.79733008e+01]\n",
            " [-1.25512709e+02]\n",
            " [ 0.00000000e+00]\n",
            " [-7.50000000e-01]\n",
            " [-7.16474852e+00]\n",
            " [-3.63622095e+02]\n",
            " [-7.58604391e+02]\n",
            " [ 1.85036522e+01]\n",
            " [ 3.76507404e+02]\n",
            " [ 3.78869963e+02]\n",
            " [-2.20000000e+00]\n",
            " [-6.00000000e-01]\n",
            " [-2.37400796e+00]\n",
            " [-2.74949623e+01]\n",
            " [-1.90163104e+02]\n",
            " [-3.88851814e+01]\n",
            " [ 2.85061229e+00]\n",
            " [ 2.42083573e+02]\n",
            " [-6.47053658e+01]\n",
            " [-5.00000000e-02]\n",
            " [-7.76999547e+00]\n",
            " [ 1.79558270e+00]\n",
            " [-1.09388637e+01]\n",
            " [-3.89313777e+01]\n",
            " [-5.84638036e+01]\n",
            " [-1.52804616e+02]\n",
            " [-2.26550000e+02]]\n"
          ]
        },
        {
          "output_type": "stream",
          "name": "stderr",
          "text": [
            "<ipython-input-10-b70c4e90fc8b>:8: RuntimeWarning: overflow encountered in exp\n",
            "  return 1.0/(1 + np.exp(-x))\n"
          ]
        }
      ]
    },
    {
      "cell_type": "markdown",
      "source": [
        "### 5. 모델 성능 평가하기\n",
        "\n",
        "\n"
      ],
      "metadata": {
        "id": "2cgGy2XFIYhm"
      }
    },
    {
      "cell_type": "code",
      "source": [
        "# predict 함수를 통해 퍼셉트론으로 얻은 예측값을 추출해 테스트 데이터로 평가한다.\n",
        "def predict(X, w):\n",
        "    preds = sigmoid(np.dot(X, w))\n",
        "    pred_class = []\n",
        "    pred_class = [1 if i > 0.5 else 0 for i in preds]\n",
        "    return np.array(pred_class)\n",
        "y_pred = predict(X_test, w)\n",
        "\n",
        "# 학습 결과를 시각화한다.\n",
        "rows = 2; cols = 5\n",
        "fig = plt.figure()\n",
        "for i in range(10):\n",
        "    ax = fig.add_subplot(rows, cols, i + 1)\n",
        "    ax.imshow(X_test[i].reshape(8, 8))\n",
        "    if y_pred[i] == 1:\n",
        "        ax.set_title(\"y_hat = 3\")\n",
        "    else:\n",
        "        ax.set_title(\"y_hat = not 3\")\n",
        "plt.show()"
      ],
      "metadata": {
        "colab": {
          "base_uri": "https://localhost:8080/",
          "height": 407
        },
        "outputId": "ed2c0d59-c978-4a79-a534-f02ab11d4508",
        "id": "KgeoElkdt4le"
      },
      "execution_count": 12,
      "outputs": [
        {
          "output_type": "stream",
          "name": "stderr",
          "text": [
            "<ipython-input-10-b70c4e90fc8b>:8: RuntimeWarning: overflow encountered in exp\n",
            "  return 1.0/(1 + np.exp(-x))\n"
          ]
        },
        {
          "output_type": "display_data",
          "data": {
            "text/plain": [
              "<Figure size 640x480 with 10 Axes>"
            ],
            "image/png": "[encoded data removed]"
          },
          "metadata": {}
        }
      ]
    },
    {
      "cell_type": "markdown",
      "source": [
        "### 6. 모델 동작 시각화하기\n",
        "\n"
      ],
      "metadata": {
        "id": "hZeuRRi5IYna"
      }
    },
    {
      "cell_type": "code",
      "source": [
        "# 혼동 행렬을 통해 성능을 확인한다.\n",
        "target_names = ['digit 3', 'Others']\n",
        "print(classification_report(y_test, y_pred, target_names = target_names))\n",
        "\n",
        "ConfusionMatrixDisplay.from_predictions(y_test, y_pred)"
      ],
      "metadata": {
        "id": "PRuZj10g4Oz_",
        "colab": {
          "base_uri": "https://localhost:8080/",
          "height": 633
        },
        "outputId": "d606be80-f7d9-4fde-fd0c-6e78f4a386d3"
      },
      "execution_count": 13,
      "outputs": [
        {
          "output_type": "stream",
          "name": "stdout",
          "text": [
            "              precision    recall  f1-score   support\n",
            "\n",
            "     digit 3       1.00      0.98      0.99       404\n",
            "      Others       0.85      0.98      0.91        46\n",
            "\n",
            "    accuracy                           0.98       450\n",
            "   macro avg       0.92      0.98      0.95       450\n",
            "weighted avg       0.98      0.98      0.98       450\n",
            "\n"
          ]
        },
        {
          "output_type": "execute_result",
          "data": {
            "text/plain": [
              "<sklearn.metrics._plot.confusion_matrix.ConfusionMatrixDisplay at 0x7a2f5a8b9510>"
            ]
          },
          "metadata": {},
          "execution_count": 13
        },
        {
          "output_type": "display_data",
          "data": {
            "text/plain": [
              "<Figure size 640x480 with 2 Axes>"
            ],
            "image/png": "[encoded data removed]"
          },
          "metadata": {}
        }
      ]
    }
  ]
}