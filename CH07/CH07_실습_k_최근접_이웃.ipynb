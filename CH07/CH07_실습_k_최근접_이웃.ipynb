{
  "nbformat": 4,
  "nbformat_minor": 0,
  "metadata": {
    "colab": {
      "provenance": []
    },
    "kernelspec": {
      "name": "python3",
      "display_name": "Python 3"
    },
    "language_info": {
      "name": "python"
    }
  },
  "cells": [
    {
      "cell_type": "markdown",
      "source": [
        "# CH07. k-최근접 이웃 실습"
      ],
      "metadata": {
        "id": "CLmS9bD_p3gV"
      }
    },
    {
      "cell_type": "markdown",
      "source": [
        "## 실습 순서\n",
        "\n",
        "0. 사용할 라이브러리와 패키지 불러오기\n",
        "\n",
        "1.     (데이터) 데이터 불러오기 및 성분 추출하기\n",
        "2.   (모델) 모델 구성하기\n",
        "3.   (모델 학습) 모델 학습하기\n",
        "4.   (모델 성능 평가) 모델 성능 평가하기\n",
        "5.   (모델 성능 평가) 최적의 k 값 찾기\n",
        "6.   (결과) 모델 동작 시각화하기"
      ],
      "metadata": {
        "id": "YBJH39wWqm0T"
      }
    },
    {
      "cell_type": "markdown",
      "source": [
        "## [실습 7-1] scikit-learn 라이브러리를 이용한 k-최근접 이웃\n",
        "\n"
      ],
      "metadata": {
        "id": "Fofx1AL8zEvw"
      }
    },
    {
      "cell_type": "markdown",
      "source": [
        "### 0. 사용할 라이브러리와 패키지 불러오기\n",
        "\n",
        "\n"
      ],
      "metadata": {
        "id": "JZDYnKorHHZF"
      }
    },
    {
      "cell_type": "code",
      "source": [
        "# numpy, matplotlib, pandas를 각각 np, plt, pd로 재지정해 불러온다.\n",
        "# scikit-learn(sklearn)에서 사용할 패키지를 불러온다.\n",
        "import pandas as pd\n",
        "import matplotlib.pyplot as plt\n",
        "from sklearn.neighbors import KNeighborsClassifier\n",
        "from sklearn.metrics import accuracy_score\n",
        "import numpy as np\n",
        "import math"
      ],
      "metadata": {
        "id": "Xbv3-8SpYLLO"
      },
      "execution_count": 1,
      "outputs": []
    },
    {
      "cell_type": "markdown",
      "source": [
        "### 1. 데이터 불러오기 및 성분 추출하기\n",
        "\n"
      ],
      "metadata": {
        "id": "Qf_yaPaGHTlR"
      }
    },
    {
      "cell_type": "code",
      "source": [
        "# 농구 관련 csv 데이터를 불러온다.\n",
        "train = pd.read_csv('basketball_train.csv')\n",
        "test = pd.read_csv('basketball_test.csv')\n",
        "\n",
        "print(train)\n",
        "print(test)"
      ],
      "metadata": {
        "id": "DFhpEtOdcGmu",
        "colab": {
          "base_uri": "https://localhost:8080/"
        },
        "outputId": "fcca5246-806a-42b2-bd2e-3bb555000d61"
      },
      "execution_count": 2,
      "outputs": [
        {
          "output_type": "stream",
          "name": "stdout",
          "text": [
            "    Unnamed: 0            Player Pos   3P  TRB  BLK\n",
            "0           26   Wayne Ellington  SG  2.4  2.1  0.1\n",
            "1           86      Nik Stauskas  SG  1.7  2.8  0.4\n",
            "2           60          Alex Len   C  0.0  6.6  1.3\n",
            "3           45       Buddy Hield  SG  1.8  3.3  0.1\n",
            "4           68       Jodie Meeks  SG  1.6  2.1  0.1\n",
            "..         ...               ...  ..  ...  ...  ...\n",
            "75          82        J.R. Smith  SG  2.3  2.8  0.3\n",
            "76           5     Nicolas Batum  SG  1.8  6.2  0.4\n",
            "77          40  Montrezl Harrell   C  0.0  3.8  0.7\n",
            "78          22      Troy Daniels  SG  2.1  1.5  0.1\n",
            "79          43       John Henson   C  0.0  5.1  1.3\n",
            "\n",
            "[80 rows x 6 columns]\n",
            "    Unnamed: 0                    Player Pos   3P   TRB  BLK\n",
            "0           96               Dwyane Wade  SG  0.8   4.5  0.7\n",
            "1           39              Tim Hardaway  SG  1.9   2.8  0.2\n",
            "2           21           Jordan Crawford  SG  1.9   1.8  0.1\n",
            "3           95            Nikola Vucevic   C  0.3  10.4  1.0\n",
            "4           56               Kyle Korver  SG  2.4   2.8  0.3\n",
            "5           80             Iman Shumpert  SG  1.2   2.9  0.4\n",
            "6           76               J.J. Redick  SG  2.6   2.2  0.2\n",
            "7           78           Josh Richardson  SG  1.4   3.2  0.7\n",
            "8           62               Robin Lopez   C  0.0   6.4  1.4\n",
            "9           87               Edy Tavares   C  0.0   5.5  3.0\n",
            "10          14  Kentavious Caldwell-Pope  SG  2.0   3.3  0.2\n",
            "11          90          Tristan Thompson   C  0.0   9.2  1.1\n",
            "12          54            Frank Kaminsky   C  1.5   4.5  0.5\n",
            "13          73            Victor Oladipo  SG  1.9   4.3  0.3\n",
            "14          88            Garrett Temple  SG  1.3   2.8  0.4\n",
            "15          36               Danny Green  SG  1.7   3.3  0.8\n",
            "16          99              Lou Williams  SG  2.0   2.5  0.2\n",
            "17          16       Willie Cauley-Stein   C  0.0   4.5  0.6\n",
            "18          69               Salah Mejri   C  0.0   4.2  0.8\n",
            "19          13             Avery Bradley  SG  2.0   6.1  0.2\n"
          ]
        }
      ]
    },
    {
      "cell_type": "code",
      "source": [
        "# 포지션 분류를 위한 특징을 선택하고 데이터를 준비한다.\n",
        "X_train = train[['3P', 'BLK']]\n",
        "y_train = train[['Pos']]\n",
        "X_test = test[['3P', 'BLK']]\n",
        "y_test = test[['Pos']]\n",
        "\n",
        "# 학습 데이터를 시각화한다.\n",
        "def plot_knn(feature, label, test_feature):\n",
        "    plt.title('kNN')\n",
        "    plt.plot(feature[label== \"SG\"][\"3P\"], feature[label == \"SG\"][\"BLK\"], 'o', c = \"blue\",\n",
        "            label = \"SG\")\n",
        "    plt.plot(feature[label == \"C\"][\"3P\"], feature[label == \"C\"][\"BLK\"], 'o', c = \"red\",\n",
        "            label = \"C\")\n",
        "    plt.plot(test_feature[:][\"3P\"], test_feature[:][\"BLK\"], 'o', c = \"gray\",\n",
        "            label = \"test_data\")\n",
        "    plt.tight_layout()\n",
        "    plt.xlabel(\"3P\") # x축 표시\n",
        "    plt.ylabel(\"BLK\") # y축 표시\n",
        "    plt.legend()\n",
        "    plt.show()\n",
        "\n",
        "plot_knn(X_train, y_train.values.ravel(), X_test)"
      ],
      "metadata": {
        "id": "gdZqDRtwdFIl",
        "colab": {
          "base_uri": "https://localhost:8080/",
          "height": 506
        },
        "outputId": "39dee65f-d34b-4f86-a272-103c8aa837e9"
      },
      "execution_count": 3,
      "outputs": [
        {
          "output_type": "display_data",
          "data": {
            "text/plain": [
              "<Figure size 640x480 with 1 Axes>"
            ],
            "image/png": "[encoded data removed]"
          },
          "metadata": {}
        }
      ]
    },
    {
      "cell_type": "markdown",
      "source": [
        "### 2. 모델 구성하기\n",
        "\n",
        "\n"
      ],
      "metadata": {
        "id": "Jf5D5HbeHT46"
      }
    },
    {
      "cell_type": "code",
      "source": [
        "# scikit-learn 라이브러리의 kNN 모델을 불러온다.\n",
        "kNN = KNeighborsClassifier(n_neighbors = 1)"
      ],
      "metadata": {
        "id": "rYQPFVHjgiM3"
      },
      "execution_count": 4,
      "outputs": []
    },
    {
      "cell_type": "markdown",
      "source": [
        "### 3. 모델 학습하기\n",
        "\n",
        "\n"
      ],
      "metadata": {
        "id": "wdiJuTjPHT-X"
      }
    },
    {
      "cell_type": "code",
      "source": [
        "# fit 함수를 통해 학습을 진행한다.\n",
        "kNN.fit(X_train, y_train.values.ravel())"
      ],
      "metadata": {
        "id": "GucEsPT5eaT2",
        "colab": {
          "base_uri": "https://localhost:8080/",
          "height": 75
        },
        "outputId": "65aa5a74-aadb-4c24-cb09-fd6073580fd0"
      },
      "execution_count": 5,
      "outputs": [
        {
          "output_type": "execute_result",
          "data": {
            "text/plain": [
              "KNeighborsClassifier(n_neighbors=1)"
            ],
            "text/html": [
              "<style>#sk-container-id-1 {color: black;background-color: white;}#sk-container-id-1 pre{padding: 0;}#sk-container-id-1 div.sk-toggleable {background-color: white;}#sk-container-id-1 label.sk-toggleable__label {cursor: pointer;display: block;width: 100%;margin-bottom: 0;padding: 0.3em;box-sizing: border-box;text-align: center;}#sk-container-id-1 label.sk-toggleable__label-arrow:before {content: \"▸\";float: left;margin-right: 0.25em;color: #696969;}#sk-container-id-1 label.sk-toggleable__label-arrow:hover:before {color: black;}#sk-container-id-1 div.sk-estimator:hover label.sk-toggleable__label-arrow:before {color: black;}#sk-container-id-1 div.sk-toggleable__content {max-height: 0;max-width: 0;overflow: hidden;text-align: left;background-color: #f0f8ff;}#sk-container-id-1 div.sk-toggleable__content pre {margin: 0.2em;color: black;border-radius: 0.25em;background-color: #f0f8ff;}#sk-container-id-1 input.sk-toggleable__control:checked~div.sk-toggleable__content {max-height: 200px;max-width: 100%;overflow: auto;}#sk-container-id-1 input.sk-toggleable__control:checked~label.sk-toggleable__label-arrow:before {content: \"▾\";}#sk-container-id-1 div.sk-estimator input.sk-toggleable__control:checked~label.sk-toggleable__label {background-color: #d4ebff;}#sk-container-id-1 div.sk-label input.sk-toggleable__control:checked~label.sk-toggleable__label {background-color: #d4ebff;}#sk-container-id-1 input.sk-hidden--visually {border: 0;clip: rect(1px 1px 1px 1px);clip: rect(1px, 1px, 1px, 1px);height: 1px;margin: -1px;overflow: hidden;padding: 0;position: absolute;width: 1px;}#sk-container-id-1 div.sk-estimator {font-family: monospace;background-color: #f0f8ff;border: 1px dotted black;border-radius: 0.25em;box-sizing: border-box;margin-bottom: 0.5em;}#sk-container-id-1 div.sk-estimator:hover {background-color: #d4ebff;}#sk-container-id-1 div.sk-parallel-item::after {content: \"\";width: 100%;border-bottom: 1px solid gray;flex-grow: 1;}#sk-container-id-1 div.sk-label:hover label.sk-toggleable__label {background-color: #d4ebff;}#sk-container-id-1 div.sk-serial::before {content: \"\";position: absolute;border-left: 1px solid gray;box-sizing: border-box;top: 0;bottom: 0;left: 50%;z-index: 0;}#sk-container-id-1 div.sk-serial {display: flex;flex-direction: column;align-items: center;background-color: white;padding-right: 0.2em;padding-left: 0.2em;position: relative;}#sk-container-id-1 div.sk-item {position: relative;z-index: 1;}#sk-container-id-1 div.sk-parallel {display: flex;align-items: stretch;justify-content: center;background-color: white;position: relative;}#sk-container-id-1 div.sk-item::before, #sk-container-id-1 div.sk-parallel-item::before {content: \"\";position: absolute;border-left: 1px solid gray;box-sizing: border-box;top: 0;bottom: 0;left: 50%;z-index: -1;}#sk-container-id-1 div.sk-parallel-item {display: flex;flex-direction: column;z-index: 1;position: relative;background-color: white;}#sk-container-id-1 div.sk-parallel-item:first-child::after {align-self: flex-end;width: 50%;}#sk-container-id-1 div.sk-parallel-item:last-child::after {align-self: flex-start;width: 50%;}#sk-container-id-1 div.sk-parallel-item:only-child::after {width: 0;}#sk-container-id-1 div.sk-dashed-wrapped {border: 1px dashed gray;margin: 0 0.4em 0.5em 0.4em;box-sizing: border-box;padding-bottom: 0.4em;background-color: white;}#sk-container-id-1 div.sk-label label {font-family: monospace;font-weight: bold;display: inline-block;line-height: 1.2em;}#sk-container-id-1 div.sk-label-container {text-align: center;}#sk-container-id-1 div.sk-container {/* jupyter's `normalize.less` sets `[hidden] { display: none; }` but bootstrap.min.css set `[hidden] { display: none !important; }` so we also need the `!important` here to be able to override the default hidden behavior on the sphinx rendered scikit-learn.org. See: https://github.com/scikit-learn/scikit-learn/issues/21755 */display: inline-block !important;position: relative;}#sk-container-id-1 div.sk-text-repr-fallback {display: none;}</style><div id=\"sk-container-id-1\" class=\"sk-top-container\"><div class=\"sk-text-repr-fallback\"><pre>KNeighborsClassifier(n_neighbors=1)</pre><b>In a Jupyter environment, please rerun this cell to show the HTML representation or trust the notebook. <br />On GitHub, the HTML representation is unable to render, please try loading this page with nbviewer.org.</b></div><div class=\"sk-container\" hidden><div class=\"sk-item\"><div class=\"sk-estimator sk-toggleable\"><input class=\"sk-toggleable__control sk-hidden--visually\" id=\"sk-estimator-id-1\" type=\"checkbox\" checked><label for=\"sk-estimator-id-1\" class=\"sk-toggleable__label sk-toggleable__label-arrow\">KNeighborsClassifier</label><div class=\"sk-toggleable__content\"><pre>KNeighborsClassifier(n_neighbors=1)</pre></div></div></div></div></div>"
            ]
          },
          "metadata": {},
          "execution_count": 5
        }
      ]
    },
    {
      "cell_type": "markdown",
      "source": [
        "### 4. 모델 성능 평가하기\n",
        "\n",
        "\n"
      ],
      "metadata": {
        "id": "sAPkbAJZHUCf"
      }
    },
    {
      "cell_type": "code",
      "source": [
        "# predict 함수를 통해 k-최근접 이웃 함수로 얻은 예측값을 추출해 테스트 데이터로 평가한다.\n",
        "# 이번에 실행한 모델은 k=1인 경우다.\n",
        "y_pred_1 = kNN.predict(X_test)\n",
        "accuracy_score(y_test, y_pred_1)"
      ],
      "metadata": {
        "colab": {
          "base_uri": "https://localhost:8080/"
        },
        "id": "Z1DklYB7eq79",
        "outputId": "f7daf93c-4610-4a3f-ab5b-46908fc10dd3"
      },
      "execution_count": 6,
      "outputs": [
        {
          "output_type": "execute_result",
          "data": {
            "text/plain": [
              "0.8"
            ]
          },
          "metadata": {},
          "execution_count": 6
        }
      ]
    },
    {
      "cell_type": "markdown",
      "source": [
        "### 5. 최적의 k 값 찾기\n",
        "\n"
      ],
      "metadata": {
        "id": "u3xVzzy3R2dW"
      }
    },
    {
      "cell_type": "code",
      "source": [
        "# 실험적으로 정확도가 가장 높은 k 값을 찾는다.\n",
        "max_val = 0\n",
        "max_k = 0\n",
        "for i in range(1,10,2):\n",
        "    kNN = KNeighborsClassifier(n_neighbors = i)\n",
        "    kNN.fit(X_train, y_train.values.ravel())\n",
        "    y_pred = kNN.predict(X_test)\n",
        "    if max_val < accuracy_score(y_test, y_pred):\n",
        "        max_val = accuracy_score(y_test, y_pred)\n",
        "        max_k = i\n",
        "\n",
        "print(max_k)\n",
        "print(max_val)"
      ],
      "metadata": {
        "colab": {
          "base_uri": "https://localhost:8080/"
        },
        "id": "X3rSB8FFSJVk",
        "outputId": "16043897-025e-46dc-abf9-6a20bc226cd8"
      },
      "execution_count": 9,
      "outputs": [
        {
          "output_type": "stream",
          "name": "stdout",
          "text": [
            "3\n",
            "0.9\n"
          ]
        }
      ]
    },
    {
      "cell_type": "markdown",
      "source": [
        "### 6. 모델 동작 시각화하기\n",
        "\n"
      ],
      "metadata": {
        "id": "Gzfhq2h_R2ov"
      }
    },
    {
      "cell_type": "code",
      "source": [
        "# kNN을 통해 얻은 분류 결과물을 시각화하여 표현한다.\n",
        "def plot_knn_test(feature, label, test_feature, test_label):\n",
        "    plt.title('kNN_sklearn')\n",
        "    plt.plot(feature[label == \"SG\"][\"3P\"], feature[label == \"SG\"][\"BLK\"], 'o', c = \"blue\", label = \"SG\")\n",
        "    plt.plot(feature[label == \"C\"][\"3P\"], feature[label == \"C\"][\"BLK\"], 'o', c = \"red\", label = \"C\")\n",
        "    plt.plot(test_feature[test_label == \"SG\"][\"3P\"], test_feature[test_label == \"SG\"][\"BLK\"],'o', c = \"skyblue\", label =\"SG_test\")\n",
        "    plt.plot(test_feature[test_label == \"C\"][\"3P\"], test_feature[test_label == \"C\"][\"BLK\"], 'o', c = \"orange\", label = \"C_test\")\n",
        "    plt.tight_layout()\n",
        "    plt.xlabel(\"3P\")\n",
        "    plt.ylabel(\"BLK\")\n",
        "    plt.legend()\n",
        "    plt.show()\n",
        "\n",
        "plot_knn_test(X_train, y_train.values.ravel(), X_test, y_pred_1)"
      ],
      "metadata": {
        "colab": {
          "base_uri": "https://localhost:8080/",
          "height": 506
        },
        "id": "Li-FP-iDSJ-0",
        "outputId": "d441b9fd-2e72-4de3-9153-27efecab97b0"
      },
      "execution_count": 13,
      "outputs": [
        {
          "output_type": "display_data",
          "data": {
            "text/plain": [
              "<Figure size 640x480 with 1 Axes>"
            ],
            "image/png": "[encoded data removed]"
          },
          "metadata": {}
        }
      ]
    },
    {
      "cell_type": "markdown",
      "source": [
        "## [실습 7-2] 함수를 직접 정의해 구현한 k-최근접 이웃\n",
        "\n"
      ],
      "metadata": {
        "id": "1wZsGn0thB09"
      }
    },
    {
      "cell_type": "markdown",
      "source": [
        "### 1. 데이터 불러오기 및 성분 추출하기\n",
        "\n"
      ],
      "metadata": {
        "id": "A2HRVf54hHuc"
      }
    },
    {
      "cell_type": "code",
      "source": [
        "# 농구 관련 csv 데이터를 불러온다.\n",
        "train = pd.read_csv('basketball_train.csv')\n",
        "test = pd.read_csv('basketball_test.csv')\n",
        "\n",
        "# 포지션 분류를 위한 특징을 선택하고 데이터를 준비한다.\n",
        "X_train = train[['3P', 'BLK']]\n",
        "y_train = train[['Pos']]\n",
        "X_test = test[['3P', 'BLK']]\n",
        "y_test = test[['Pos']]"
      ],
      "metadata": {
        "id": "0_huqb_9h0N1"
      },
      "execution_count": 25,
      "outputs": []
    },
    {
      "cell_type": "markdown",
      "source": [
        "### 2. 모델 구성하기\n"
      ],
      "metadata": {
        "id": "RkBO0lGShK6t"
      }
    },
    {
      "cell_type": "code",
      "source": [
        "# kNN 모델의 학습을 위해 필요한 함수들을 정의한다.\n",
        "k = 1\n",
        "\n",
        "def distance(feature1, feature2):\n",
        "    dist = 0\n",
        "    for i in range(len(feature1)):\n",
        "        dist += math.pow(feature1[i] - feature2[i], 2)\n",
        "    return math.sqrt(dist)"
      ],
      "metadata": {
        "id": "54bw7ZY9h0y0"
      },
      "execution_count": 26,
      "outputs": []
    },
    {
      "cell_type": "markdown",
      "source": [
        "### 3. 모델 학습하기\n",
        "\n"
      ],
      "metadata": {
        "id": "A8cKVNmrhLMk"
      }
    },
    {
      "cell_type": "code",
      "source": [
        "# kNN 알고리즘의 특성을 잘 생각하며 함수를 구현하자.\n",
        "# k 값에 따른 결과의 비교를 쉽게 하기 위해 함수 형태로 구현한다.\n",
        "def kNN(X_train, y_train, X_test, k):\n",
        "    pred_result = []\n",
        "\n",
        "    for i in range(len(X_test)):\n",
        "        dist_list = []\n",
        "        for j in range(len(X_train)):\n",
        "            dist_list.append([distance(X_train[j],X_test[i]), y_train[j]])\n",
        "        dist_list.sort() # list.sort( ): list 내의 값을 오름차순으로 정렬해준다.\n",
        "        cnt = 0\n",
        "\n",
        "        for j in range(k):\n",
        "            if dist_list[j][1] == \"C\":\n",
        "                cnt += 1\n",
        "        if cnt>(k/2):\n",
        "            pred_result.append([\"C\"])\n",
        "        else:\n",
        "            pred_result.append([\"SG\"])\n",
        "    return pred_result"
      ],
      "metadata": {
        "id": "ZyGmgn8fh1Ld"
      },
      "execution_count": 34,
      "outputs": []
    },
    {
      "cell_type": "markdown",
      "source": [
        "### 4. 알고리즘 수행하기\n",
        "\n"
      ],
      "metadata": {
        "id": "Fly5rZgVhLRc"
      }
    },
    {
      "cell_type": "code",
      "source": [
        "# k = 1인 경우의 결과부터 확인한다.\n",
        "y_pred_1 = kNN(X_train.values, y_train.values, X_test.values, k)"
      ],
      "metadata": {
        "id": "17opSX9rh1n8"
      },
      "execution_count": 35,
      "outputs": []
    },
    {
      "cell_type": "markdown",
      "source": [
        "### 5 모델 성능 평가하기\n",
        "\n"
      ],
      "metadata": {
        "id": "1fpTMg_zhLWb"
      }
    },
    {
      "cell_type": "code",
      "source": [
        "# 테스트 데이터를 이용하여 결과에 대한 성능을 평가한다.\n",
        "accuracy_score(y_test, y_pred_1)"
      ],
      "metadata": {
        "colab": {
          "base_uri": "https://localhost:8080/"
        },
        "id": "Lpt7AYVAh2Gt",
        "outputId": "bc12359b-76ce-4087-bd1c-e442e1f12b43"
      },
      "execution_count": 37,
      "outputs": [
        {
          "output_type": "execute_result",
          "data": {
            "text/plain": [
              "0.75"
            ]
          },
          "metadata": {},
          "execution_count": 37
        }
      ]
    },
    {
      "cell_type": "markdown",
      "source": [
        "### 6. 최적의 k 찾기\n",
        "\n"
      ],
      "metadata": {
        "id": "HkS2J-4ThLbn"
      }
    },
    {
      "cell_type": "code",
      "source": [
        "# 실험적으로 정확도가 가장 높은 k의 값을 찾는다.\n",
        "max_val = 0\n",
        "max_k = 0\n",
        "for i in range(1, 10, 2):\n",
        "    y_pred = kNN(X_train.values, y_train.values, X_test.values, i)\n",
        "    if max_val < accuracy_score(y_test, y_pred):\n",
        "        max_val = accuracy_score(y_test, y_pred)\n",
        "        max_k = i\n",
        "print(max_k)\n",
        "print(max_val)"
      ],
      "metadata": {
        "colab": {
          "base_uri": "https://localhost:8080/"
        },
        "id": "JzBGEPi-h2kv",
        "outputId": "dbd785e2-a1f5-4fcf-ea40-9d8fb74e838a"
      },
      "execution_count": 38,
      "outputs": [
        {
          "output_type": "stream",
          "name": "stdout",
          "text": [
            "3\n",
            "0.9\n"
          ]
        }
      ]
    },
    {
      "cell_type": "markdown",
      "source": [
        "### 7. 모델 동작 시각화하기\n"
      ],
      "metadata": {
        "id": "lyymzNW5hgwo"
      }
    },
    {
      "cell_type": "code",
      "source": [
        "# kNN을 통해 얻은 분류 결과물을 시각화하여 표현한다.\n",
        "def plot_knn_test(feature, label, test_feature, test_label):\n",
        "    plt.title('kNN_custom')\n",
        "    plt.plot(feature[label == \"SG\"][\"3P\"], feature[label == \"SG\"][\"BLK\"], 'o', c = \"blue\",\n",
        "            label=\"SG\")\n",
        "    plt.plot(feature[label == \"C\"][\"3P\"], feature[label == \"C\"][\"BLK\"],' o', c = \"red\",\n",
        "            label = \"C\")\n",
        "    plt.plot(test_feature[test_label == \"SG\"][\"3P\"], test_feature[test_label == \"SG\"][\"BLK\"],\n",
        "             'o', c = \"skyblue\", label = \"SG_test\")\n",
        "    plt.plot(test_feature[test_label == \"C\"][\"3P\"], test_feature[test_label == \"C\"][\"BLK\"],\n",
        "             'o', c = \"orange\", label = \"C_test\")\n",
        "    plt.tight_layout()\n",
        "    plt.xlabel(\"3P\")\n",
        "    plt.ylabel(\"BLK\")\n",
        "    plt.legend()\n",
        "    plt.show()\n",
        "\n",
        "plot_knn_test(X_train, y_train.values.ravel(), X_test, np.array(y_pred_1).flatten())"
      ],
      "metadata": {
        "colab": {
          "base_uri": "https://localhost:8080/",
          "height": 506
        },
        "id": "gu1-EVcBhJmj",
        "outputId": "c81c7f20-da64-4a88-8377-747174f08dc0"
      },
      "execution_count": 40,
      "outputs": [
        {
          "output_type": "display_data",
          "data": {
            "text/plain": [
              "<Figure size 640x480 with 1 Axes>"
            ],
            "image/png": "[encoded data removed]"
          },
          "metadata": {}
        }
      ]
    }
  ]
}