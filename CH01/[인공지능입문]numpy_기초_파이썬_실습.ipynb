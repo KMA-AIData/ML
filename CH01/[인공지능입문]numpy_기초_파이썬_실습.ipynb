{
  "cells": [
    {
      "cell_type": "markdown",
      "source": [
        "# 인공지능 입문 2강 실습 : Colab 사용법, 그리고 Numpy 배열과 연산"
      ],
      "metadata": {
        "id": "54hC966Ekyxl"
      }
    },
    {
      "cell_type": "markdown",
      "source": [
        "**기본 파이썬 프로그래밍 및 Colab의 주요 기능들에서 잘 숙지하도록 하자.**\n",
        "        \n",
        "        - 파일 불러오기, 저장, 다운로드, 런타임 설정(GPU 할당), 텍스트 셀의 목차 기능, 드라이브 마운트, 주석처리 기능 등"
      ],
      "metadata": {
        "id": "OkoHjx09nKfw"
      }
    },
    {
      "cell_type": "code",
      "execution_count": 27,
      "metadata": {
        "id": "YJi5vN5XIfin"
      },
      "outputs": [],
      "source": [
        "'''\n",
        "import를 통해 라이브러리 불러온다.\n",
        "as를 통해서 import로 불러온 라이브러리명을 재지정한다.\n",
        "위 예시에서는 numpy를 np로 재지정한 것.\n",
        "'''\n",
        "import numpy as np"
      ]
    },
    {
      "cell_type": "markdown",
      "source": [
        "- Numpy 라이브러리는 머신러닝 관련 코드에서 많이 사용 되는(배열에 대한 다양한 수학 연산이 가능) 라이브러리이다.\n",
        "- 아래 사이트는 Numpy 공식 도큐먼트 사이트로 Numpy에 대해서 더 알고 싶다면 해당 사이트를 방문하여 확인할 수 있다.\n",
        "\n",
        "    [Numpy 공식 도큐먼트 사이트](https://numpy.org/doc/stable/user/absolute_beginners.html)\n",
        "- 참고: 라이브러리란?\n",
        "        - 라이브러리 : 여러 패키지와 모듈을 모아놓은 것\n",
        "        - 패키지 : 특정 기능과 관련된 여러 모듈이 모여있는 한 폴더\n",
        "        - 모듈 : 여러가지 함수, 변수 등을 모아 놓은 것"
      ],
      "metadata": {
        "id": "GE6wPGeR7Hyf"
      }
    },
    {
      "cell_type": "markdown",
      "source": [
        "- \"print_obj\"는 출력하려는 객체(object) \"이름\"과 객체가 실제 저장하는 내용(값)을 출력하는 역할을 한다.\n",
        "    - cf. escape 이스케이프 코드 : \\n - 문자열 안에서 줄을 바꿀 때 사용\n",
        "    - cf. 포맷팅(Formatting) : 문자열안에 특정부분을 특정 변수의 위치로 정해줌으로써 해당 변수의 값에 따라 문자열 자체가 변경 될 수 있게 하는 기능\n",
        "        - 3가지 방법 : % 포맷팅, format 포맷팅, printf()\n",
        "        - (문자열 포맷 코드) %s : 문자열(String)"
      ],
      "metadata": {
        "id": "VNDApKuP7iac"
      }
    },
    {
      "cell_type": "code",
      "execution_count": 28,
      "metadata": {
        "id": "LxystfffIfiw"
      },
      "outputs": [],
      "source": [
        "def print_obj(obj, name):  # 변수와 변수의 이름을 입력하면 출력해주는 함수 정의.\n",
        "    print(\"%s:\\n%s\\n\" % (name, obj))  # %s -> name, %s -> obj, \\n -> 개행"
      ]
    },
    {
      "cell_type": "markdown",
      "metadata": {
        "id": "mo5bS3L-Ifi0"
      },
      "source": [
        "### 스칼라(Scalars), 벡터(Vectors), 행렬(Matrices)"
      ]
    },
    {
      "cell_type": "code",
      "execution_count": 29,
      "metadata": {
        "id": "MNN0m8bnIfi3"
      },
      "outputs": [],
      "source": [
        "# 1과 1. 의 차이점 : 1은 정수를 의미하고 1.은 실수를 의미한다.\n",
        "array0 = np.array(1.) # 0차원 배열, 스칼라\n",
        "array1 = np.array([1., 2., 3.]) # 1차원 배열, 벡터\n",
        "array2 = np.array([[1., 2., 3.], [4., 5., 6.]]) # 2차원 배열, 행렬"
      ]
    },
    {
      "cell_type": "code",
      "execution_count": 30,
      "metadata": {
        "id": "UmG0IVPvIfi4",
        "colab": {
          "base_uri": "https://localhost:8080/"
        },
        "outputId": "3c2edfec-7ce5-4add-f4b3-978585c6acb7"
      },
      "outputs": [
        {
          "output_type": "stream",
          "name": "stdout",
          "text": [
            "스칼라:\n",
            "1.0\n",
            "\n",
            "벡터:\n",
            "[1. 2. 3.]\n",
            "\n",
            "행렬:\n",
            "[[1. 2. 3.]\n",
            " [4. 5. 6.]]\n",
            "\n"
          ]
        }
      ],
      "source": [
        "# 앞서 정의한 print_obj 함수를 활용하자.\n",
        "print_obj(array0, \"스칼라\")\n",
        "print_obj(array1, \"벡터\")\n",
        "print_obj(array2, \"행렬\")"
      ]
    },
    {
      "cell_type": "markdown",
      "source": [
        "- \"array.ndim\"은 배열의 차원의 수를 알려주는 기능을 한다.\n",
        "- 1차원 배열, 2차원 배열을 추가로 학습하면 ndim의 기능이 이해가 쉽다."
      ],
      "metadata": {
        "id": "ZIchXmDcB4bz"
      }
    },
    {
      "cell_type": "code",
      "execution_count": 31,
      "metadata": {
        "id": "d6kDQS8tIfi4",
        "colab": {
          "base_uri": "https://localhost:8080/"
        },
        "outputId": "68d199d4-3efc-4b8b-a2b0-8d589f5b9599"
      },
      "outputs": [
        {
          "output_type": "stream",
          "name": "stdout",
          "text": [
            "스칼라의 차원:\n",
            "0\n",
            "\n",
            "벡터의 차원:\n",
            "1\n",
            "\n",
            "행렬의 차원:\n",
            "2\n",
            "\n"
          ]
        }
      ],
      "source": [
        "print_obj(array0.ndim, \"스칼라의 차원\")  # ndim -> 차원의 크기를 반환\n",
        "print_obj(array1.ndim, \"벡터의 차원\")\n",
        "print_obj(array2.ndim, \"행렬의 차원\")"
      ]
    },
    {
      "cell_type": "markdown",
      "source": [
        "- shape는 배열의 모양(각 차원에 존재하는 요소(값)의 수를 의미)을 알려준다.\n",
        "- array2와 array4는 어떤 차이점이 있을까?\n",
        "    - np.array([1,2,3])는 행의 갯수 3만 반환하지만,np.array([[1,2,3]])는 1개의 행과 3개의 열로 구성된 행렬의 모양을 반환한다.  "
      ],
      "metadata": {
        "id": "JQNxI9ghDQ86"
      }
    },
    {
      "cell_type": "code",
      "execution_count": 32,
      "metadata": {
        "id": "SjxBvxw6Ifi6",
        "colab": {
          "base_uri": "https://localhost:8080/"
        },
        "outputId": "bfe2328f-b259-4da2-be23-c4e78a5b18db"
      },
      "outputs": [
        {
          "output_type": "stream",
          "name": "stdout",
          "text": [
            "array0의 shape:\n",
            "()\n",
            "\n",
            "array1의 shape:\n",
            "(3,)\n",
            "\n",
            "array2의 shape:\n",
            "(2, 3)\n",
            "\n",
            "array3의 shape:\n",
            "(1, 3)\n",
            "\n"
          ]
        }
      ],
      "source": [
        "print_obj(array0.shape, \"array0의 shape\")  # shape -> array의 형태 혹은 모양을 의미. 각 차원의 수와 성분의 수로 구성.\n",
        "print_obj(array1.shape, \"array1의 shape\")\n",
        "print_obj(array2.shape, \"array2의 shape\")\n",
        "\n",
        "array3 = np.array([[1,2,3]])\n",
        "print_obj(array3.shape, \"array3의 shape\")"
      ]
    },
    {
      "cell_type": "markdown",
      "metadata": {
        "id": "t5xSxIEfIfi7"
      },
      "source": [
        "### 텐서(Tensors) (N-dimensional array)"
      ]
    },
    {
      "cell_type": "markdown",
      "source": [
        "- 스칼라 값은 0차원 텐서, 벡터는 1차원 텐서, 행렬은 2차원 텐서, 행렬의 배열은 3차원 텐서, 3차원 텐서의 배열(행렬의 배열의 배열)은 4차원 텐서이다.\n",
        "- N차원 텐서란 무엇인지 알아보자."
      ],
      "metadata": {
        "id": "Cu3zW3mnICFs"
      }
    },
    {
      "cell_type": "code",
      "execution_count": 33,
      "metadata": {
        "id": "tDZos0m6Ifi8"
      },
      "outputs": [],
      "source": [
        "tensor1 = np.array([[[1., 2., 3.], [4., 5., 6.]], [[7., 8., 9.], [10., 11., 12.]]])\n",
        "tensor2 = np.array([[[[1., 2., 3.], [1., 2., 3.]], [[4., 5., 6.], [4., 5., 6.]]],\n",
        "              [[[7., 8., 9.], [7., 8., 9.]], [[10., 11., 12.], [10., 11., 12.]]]])"
      ]
    },
    {
      "cell_type": "code",
      "execution_count": 34,
      "metadata": {
        "id": "ldPIt6RqIfi9",
        "colab": {
          "base_uri": "https://localhost:8080/"
        },
        "outputId": "17bc76da-0926-4e32-db36-88d990610642"
      },
      "outputs": [
        {
          "output_type": "stream",
          "name": "stdout",
          "text": [
            "tensor1:\n",
            "[[[ 1.  2.  3.]\n",
            "  [ 4.  5.  6.]]\n",
            "\n",
            " [[ 7.  8.  9.]\n",
            "  [10. 11. 12.]]]\n",
            "\n",
            "tensor1.ndim:\n",
            "3\n",
            "\n",
            "tensor1.shape:\n",
            "(2, 2, 3)\n",
            "\n",
            "tensor2:\n",
            "[[[[ 1.  2.  3.]\n",
            "   [ 1.  2.  3.]]\n",
            "\n",
            "  [[ 4.  5.  6.]\n",
            "   [ 4.  5.  6.]]]\n",
            "\n",
            "\n",
            " [[[ 7.  8.  9.]\n",
            "   [ 7.  8.  9.]]\n",
            "\n",
            "  [[10. 11. 12.]\n",
            "   [10. 11. 12.]]]]\n",
            "\n",
            "tensor2.ndim:\n",
            "4\n",
            "\n",
            "tensor2.shape:\n",
            "(2, 2, 2, 3)\n",
            "\n"
          ]
        }
      ],
      "source": [
        "print_obj(tensor1, \"tensor1\")\n",
        "print_obj(tensor1.ndim, \"tensor1.ndim\")\n",
        "print_obj(tensor1.shape, \"tensor1.shape\")\n",
        "\n",
        "print_obj(tensor2, \"tensor2\")\n",
        "print_obj(tensor2.ndim, \"tensor2.ndim\")\n",
        "print_obj(tensor2.shape, \"tensor2.shape\")"
      ]
    },
    {
      "cell_type": "markdown",
      "metadata": {
        "id": "26Ci2uSxIfjB"
      },
      "source": [
        "### 넘파이 배열 정의 (Defining Numpy arrays)"
      ]
    },
    {
      "cell_type": "code",
      "execution_count": 35,
      "metadata": {
        "id": "MyQEFi4YIfjB",
        "colab": {
          "base_uri": "https://localhost:8080/"
        },
        "outputId": "096150a1-9eac-4b26-b387-25309100c076"
      },
      "outputs": [
        {
          "output_type": "stream",
          "name": "stdout",
          "text": [
            "np.ones(10):\n",
            "[1. 1. 1. 1. 1. 1. 1. 1. 1. 1.]\n",
            "\n"
          ]
        }
      ],
      "source": [
        "'''\n",
        "1을 성분으로 하는 배열을 생성한다.\n",
        "파라미터에 입력한 크기 만큼의 배열이 생성된다.\n",
        "'''\n",
        "ones = np.ones(10)\n",
        "print_obj(ones, \"np.ones(10)\")"
      ]
    },
    {
      "cell_type": "code",
      "execution_count": 36,
      "metadata": {
        "id": "yr7sjCz-IfjD",
        "colab": {
          "base_uri": "https://localhost:8080/"
        },
        "outputId": "ffac59b7-20e7-4f60-d138-ac428dedf560"
      },
      "outputs": [
        {
          "output_type": "stream",
          "name": "stdout",
          "text": [
            "np.zeros((2, 5)):\n",
            "[[0. 0. 0. 0. 0.]\n",
            " [0. 0. 0. 0. 0.]]\n",
            "\n"
          ]
        }
      ],
      "source": [
        "'''\n",
        "0을 성분으로 하는 배열을 생성한다.\n",
        "파라미터에 입력한 크기 만큼의 배열이 생성된다.\n",
        "'''\n",
        "zeros = np.zeros((2, 5))\n",
        "print_obj(zeros, \"np.zeros((2, 5))\")"
      ]
    },
    {
      "cell_type": "code",
      "execution_count": 37,
      "metadata": {
        "id": "OMTu-fXqIfjE",
        "colab": {
          "base_uri": "https://localhost:8080/"
        },
        "outputId": "354c6b12-ed6f-4266-d877-4fbdedf5611d"
      },
      "outputs": [
        {
          "output_type": "stream",
          "name": "stdout",
          "text": [
            "np.full((2,5), 5):\n",
            "[[5 5 5 5 5]\n",
            " [5 5 5 5 5]]\n",
            "\n",
            "np.full((1,1,1), -1):\n",
            "[[[-1]]]\n",
            "\n"
          ]
        }
      ],
      "source": [
        "'''\n",
        "파라미터에 배열의 크기와 값을 입력한다.\n",
        "입력된 크기만큼의 배열을 만들고 입력한 값으로 배열을 채운다.\n",
        "'''\n",
        "full = np.full((2,5), 5)\n",
        "print_obj(full, \"np.full((2,5), 5)\")\n",
        "\n",
        "full2 = np.full((1,1,1), -1)\n",
        "print_obj(full2, \"np.full((1,1,1), -1)\")"
      ]
    },
    {
      "cell_type": "code",
      "execution_count": 38,
      "metadata": {
        "id": "i0wjugbrIfjI",
        "colab": {
          "base_uri": "https://localhost:8080/"
        },
        "outputId": "185e80a4-e2d6-48c1-8afe-d64b6c67563b"
      },
      "outputs": [
        {
          "output_type": "stream",
          "name": "stdout",
          "text": [
            "np.random.random((2, 3, 4)):\n",
            "[[[0.77523832 0.77767867 0.92797329 0.52448693]\n",
            "  [0.7549115  0.75415252 0.61896005 0.19362576]\n",
            "  [0.75918926 0.56778424 0.37682148 0.9385796 ]]\n",
            "\n",
            " [[0.70175314 0.06670689 0.29630871 0.10817918]\n",
            "  [0.96296323 0.24031736 0.69584492 0.96526498]\n",
            "  [0.36010759 0.84690692 0.6972837  0.40899331]]]\n",
            "\n"
          ]
        }
      ],
      "source": [
        "'''\n",
        "파라미터에 입력된 크기 만큼의 배열을 생성한다.\n",
        "만들어진 배열에 랜덤한 값으로 값을 채워준다.\n",
        "입력되는 값은 0~1 사이의 실수로 소숫점 8째 자리까지 보인다.\n",
        "'''\n",
        "random = np.random.random((2, 3, 4))\n",
        "print_obj(random, \"np.random.random((2, 3, 4))\")"
      ]
    },
    {
      "cell_type": "code",
      "execution_count": 39,
      "metadata": {
        "id": "PgjwTCgXIfjJ",
        "colab": {
          "base_uri": "https://localhost:8080/"
        },
        "outputId": "781de7ea-d5ca-4293-dcb7-0389ece94264"
      },
      "outputs": [
        {
          "output_type": "stream",
          "name": "stdout",
          "text": [
            "np.arange(10):\n",
            "[0 1 2 3 4 5 6 7 8 9]\n",
            "\n"
          ]
        }
      ],
      "source": [
        "'''\n",
        "파라미터로 입력된 크기 만큼의 배열을 생성한다.\n",
        "0부터 1씩 증가시켜가며 입력 크기 만큼 값을 채운다.\n",
        "예) 등차수열\n",
        "'''\n",
        "arange = np.arange(10)\n",
        "print_obj(arange, \"np.arange(10)\")"
      ]
    },
    {
      "cell_type": "code",
      "execution_count": 40,
      "metadata": {
        "id": "JQn5obXxIfjK",
        "colab": {
          "base_uri": "https://localhost:8080/"
        },
        "outputId": "f22f61ef-a9a6-444d-b5a5-fca03329f2e7"
      },
      "outputs": [
        {
          "output_type": "stream",
          "name": "stdout",
          "text": [
            "np.arange(10).astype(float):\n",
            "[0. 1. 2. 3. 4. 5. 6. 7. 8. 9.]\n",
            "\n"
          ]
        }
      ],
      "source": [
        "'''\n",
        "변수의 자료형을 변경하고 싶을 때 사용하는 함수이다.\n",
        "arange를 통해서 만들어진 배열의 내부 값은 int(정수)형인데, 다음과 같이 float(실수)형으로 변경이 가능하다.\n",
        "'''\n",
        "astype = np.arange(10).astype(float)\n",
        "print_obj(astype, \"np.arange(10).astype(float)\")"
      ]
    },
    {
      "cell_type": "code",
      "execution_count": 41,
      "metadata": {
        "id": "0VOKJfWpIfjK",
        "colab": {
          "base_uri": "https://localhost:8080/"
        },
        "outputId": "fae5e906-2794-4158-9535-39b4934ce0c2"
      },
      "outputs": [
        {
          "output_type": "stream",
          "name": "stdout",
          "text": [
            "np.arange(10).reshape((5,2):\n",
            "[[0 1]\n",
            " [2 3]\n",
            " [4 5]\n",
            " [6 7]\n",
            " [8 9]]\n",
            "\n"
          ]
        }
      ],
      "source": [
        "'''\n",
        "이미 모양이 결정되어 있는 배열의 모양을 재설정하는 함수이다.\n",
        "단, 새로운 모양이 배열에서 실제로 변경 가능한 모양이어야 한다.\n",
        "'''\n",
        "reshape = np.arange(10).reshape((5,2))\n",
        "print_obj(reshape, \"np.arange(10).reshape((5,2)\")"
      ]
    },
    {
      "cell_type": "markdown",
      "metadata": {
        "id": "pM9RkBE1IfjL"
      },
      "source": [
        "### 인덱스 (Indexing) & 슬라이싱 (Slicing)"
      ]
    },
    {
      "cell_type": "markdown",
      "source": [
        "**인덱싱**\n",
        "- 행렬의 인덱싱을 이해하기 위해서는 인덱스 번호와 저장 순서의 차이를 알아야한다.\n",
        "    - [a, b, c, d]의 4개의 값이 들어있는 리스트의 첫번째 저장요소는 a, 두 번째 저장요소는 b, 세번째 저장요소는 c이다.\n",
        "    -  인덱스를 사용할 때 첫번째 저장요소의 인덱스는 0, 두번째 저장요소의 인덱스는 1, i번째 저장요소의 인덱스는 i-1이다.\n",
        "\n",
        "**슬라이싱**\n",
        "- \":\"연산자를 이용한 인덱싱을 슬라이싱이라고 한다.\n",
        "- 슬라이싱 기호의 시작 인덱스와 종료 인덱스는 생략이 가능하다.\n",
        "    1.  \":\"기호 앞에 시작 인덱스를 생략하면 자동으로 시작 인덱스인 0으로 간주\n",
        "    2.   \":\" 기호 뒤에 종료 인덱스를 생략하면 자동으로 맨 마지막 인덱스로 간주\n",
        "    3.   \":\" 기호 앞 뒤를 모두 생략하면 시작부터 끝\n",
        "\n",
        "**스텝의 부여**\n",
        "\n",
        "- 슬라이싱에서 \":\"기호가 2개 사용되는 경우는 인덱스에 스텝을 부여하는 경우이다. \"a[0:10:2]\"와 \"a[2:6:3]\"의 동작 결과를 통해 스텝의 동작을 추정해보자.\n",
        "- 결과적으로는 \"시작인덱스:종료값:스텝\"으로 명령이 전달됨을 알 수 있다. 스텝을 부여할 때는 \"음의 간격\"을 부여할 수도 있다."
      ],
      "metadata": {
        "id": "8e8OzjohMKLJ"
      }
    },
    {
      "cell_type": "code",
      "execution_count": 42,
      "metadata": {
        "id": "oMuj9a39IfjM",
        "colab": {
          "base_uri": "https://localhost:8080/"
        },
        "outputId": "6e2f7fd4-baa3-4cba-dd6b-250e322338bc"
      },
      "outputs": [
        {
          "output_type": "stream",
          "name": "stdout",
          "text": [
            "np.arange(10):\n",
            "[0 1 2 3 4 5 6 7 8 9]\n",
            "\n",
            "array_index[0]:\n",
            "0\n",
            "\n",
            "array_index[1]:\n",
            "1\n",
            "\n",
            "array_index[-1]:\n",
            "9\n",
            "\n",
            "array_index[-3]:\n",
            "7\n",
            "\n",
            "array_index[0:10]:\n",
            "[0 1 2 3 4 5 6 7 8 9]\n",
            "\n",
            "array_index[0:]:\n",
            "[0 1 2 3 4 5 6 7 8 9]\n",
            "\n",
            "array_index[:]:\n",
            "[0 1 2 3 4 5 6 7 8 9]\n",
            "\n",
            "array_index[:10]:\n",
            "[0 1 2 3 4 5 6 7 8 9]\n",
            "\n",
            "array_index[7:]:\n",
            "[7 8 9]\n",
            "\n",
            "array_index[:5]:\n",
            "[0 1 2 3 4]\n",
            "\n",
            "array_index[2:5]:\n",
            "[2 3 4]\n",
            "\n",
            "array_index[0:10:2]:\n",
            "[0 2 4 6 8]\n",
            "\n",
            "array_index[0:10:3]:\n",
            "[0 3 6 9]\n",
            "\n",
            "array_index[2:6:3]:\n",
            "[2 5]\n",
            "\n",
            "array_index[::-1]:\n",
            "[9 8 7 6 5 4 3 2 1 0]\n",
            "\n",
            "array_index[8:5:-1]:\n",
            "[8 7 6]\n",
            "\n",
            "array_index[8:5]:\n",
            "[]\n",
            "\n"
          ]
        }
      ],
      "source": [
        "'''\n",
        "인덱스는 목차, 순서, 색인 등을 의미, 즉 몇번째인지 순서를 의미한다.\n",
        "배열에 있는 데이터를 인덱스를 통해서 접근이 가능하다.\n",
        "일반적으로 0이상의 인덱스는 앞에서부터의 접근이고, 0이하의 인덱스는 뒤에서부터의 접근이다.\n",
        "'''\n",
        "array_index = np.arange(10)\n",
        "print_obj(array_index, \"np.arange(10)\")\n",
        "print_obj(array_index[0], \"array_index[0]\")\n",
        "print_obj(array_index[1], \"array_index[1]\")\n",
        "print_obj(array_index[-1], \"array_index[-1]\")\n",
        "print_obj(array_index[-3], \"array_index[-3]\")\n",
        "\n",
        "'''\n",
        "콜론(:)을 통해서 범위 형태의 인덱스를 지정할 수 있다.\n",
        "일반적으로 콜론 앞 뒤의 인덱스 범위 내의 데이터 전체에 접근한다.\n",
        "'''\n",
        "print_obj(array_index[0:10], \"array_index[0:10]\")\n",
        "print_obj(array_index[0:], \"array_index[0:]\")\n",
        "print_obj(array_index[:],\"array_index[:]\")\n",
        "print_obj(array_index[:10], \"array_index[:10]\")\n",
        "print_obj(array_index[7:], \"array_index[7:]\")\n",
        "print_obj(array_index[:5], \"array_index[:5]\")\n",
        "print_obj(array_index[2:5], \"array_index[2:5]\")\n",
        "\n",
        "'''\n",
        "콜론(:)이 하나의 인덱스에 두개가 사용된다면, 마지막 콜론 뒤의 숫자는 스텝을 의미한다.\n",
        "스텝은 인덱싱 범위 내에서 얼만큼 건너뛰며 데이터에 접근할 것인지를 의미한다.\n",
        "'''\n",
        "print_obj(array_index[0:10:2], \"array_index[0:10:2]\")\n",
        "print_obj(array_index[0:10:3], \"array_index[0:10:3]\")\n",
        "print_obj(array_index[2:6:3], \"array_index[2:6:3]\")\n",
        "print_obj(array_index[::-1], \"array_index[::-1]\")\n",
        "print_obj(array_index[8:5:-1], \"array_index[8:5:-1]\")\n",
        "print_obj(array_index[8:5], \"array_index[8:5]\")"
      ]
    },
    {
      "cell_type": "code",
      "execution_count": 43,
      "metadata": {
        "id": "xu7grp2mIfjO",
        "colab": {
          "base_uri": "https://localhost:8080/"
        },
        "outputId": "c01b565f-c405-46f2-b838-08680a117cd0"
      },
      "outputs": [
        {
          "output_type": "stream",
          "name": "stdout",
          "text": [
            "array_index:\n",
            "[[0 1 2]\n",
            " [3 4 5]\n",
            " [6 7 8]]\n",
            "\n",
            "array_index[0][0]:\n",
            "0\n",
            "\n",
            "array_index[0,0]:\n",
            "0\n",
            "\n",
            "array_index[1,1]:\n",
            "4\n",
            "\n",
            "array_index:\n",
            "[[[ 0  1]\n",
            "  [ 2  3]\n",
            "  [ 4  5]]\n",
            "\n",
            " [[ 6  7]\n",
            "  [ 8  9]\n",
            "  [10 11]]\n",
            "\n",
            " [[12 13]\n",
            "  [14 15]\n",
            "  [16 17]]\n",
            "\n",
            " [[18 19]\n",
            "  [20 21]\n",
            "  [22 23]]]\n",
            "\n",
            "array_index[2, 1, 0]:\n",
            "14\n",
            "\n"
          ]
        }
      ],
      "source": [
        "'''\n",
        "2차원이상의 인덱스도 동일한 방법으로 접근이 가능하다.\n",
        "하나의 인덱스에 ,를 활용해서 표현할 수도 있고 다수의 인덱스를 활용할 수 있다.\n",
        "'''\n",
        "array_index = np.arange(9).reshape((3,3))\n",
        "print_obj(array_index, \"array_index\")\n",
        "print_obj(array_index[0][0], \"array_index[0][0]\")\n",
        "print_obj(array_index[0,0], \"array_index[0,0]\")\n",
        "print_obj(array_index[1,1], \"array_index[1,1]\")\n",
        "\n",
        "array_index = np.arange(4*3*2).reshape((4, 3, 2))\n",
        "print_obj(array_index, \"array_index\")\n",
        "print_obj(array_index[2, 1, 0], \"array_index[2, 1, 0]\")"
      ]
    },
    {
      "cell_type": "code",
      "execution_count": 44,
      "metadata": {
        "id": "Gqz5VjJoIfjX",
        "colab": {
          "base_uri": "https://localhost:8080/"
        },
        "outputId": "aeb13231-484c-4844-830a-38e61b5c09a6"
      },
      "outputs": [
        {
          "output_type": "stream",
          "name": "stdout",
          "text": [
            "array_index:\n",
            "[[ 0  1  2  3]\n",
            " [ 4  5  6  7]\n",
            " [ 8  9 10 11]\n",
            " [12 13 14 15]\n",
            " [16 17 18 19]\n",
            " [20 21 22 23]]\n",
            "\n",
            "array_index[idx]:\n",
            "[[ 0  2  3]\n",
            " [ 4  6  7]\n",
            " [ 8 10 11]\n",
            " [12 14 15]\n",
            " [16 18 19]\n",
            " [20 22 23]]\n",
            "\n",
            "array_index[idx]:\n",
            "[[ 0  1  2  3]\n",
            " [ 8  9 10 11]\n",
            " [12 13 14 15]]\n",
            "\n"
          ]
        }
      ],
      "source": [
        "'''\n",
        "슬라이싱을 잘 활용하면 하나의 행 혹은 열 단위로 행렬 형태의 데이터에 접근 가능하다.\n",
        "'''\n",
        "array_index = np.arange(24).reshape((6,4))\n",
        "print_obj(array_index, \"array_index\")\n",
        "print_obj(array_index[:,[0, 2, 3]], \"array_index[idx]\")\n",
        "print_obj(array_index[[0, 2, 3], :], \"array_index[idx]\")"
      ]
    },
    {
      "cell_type": "markdown",
      "metadata": {
        "id": "e0tGjyn6IfjY"
      },
      "source": [
        "### 수학적 연산 (Math Operations)"
      ]
    },
    {
      "cell_type": "markdown",
      "source": [
        "- 행렬의 곱은 NXM의 행렬과 MXK의 행렬을 곱하면 NXK의 행렬이 산출된다.\n",
        "- 3X2 행렬과 3X2 행렬을 곱하는데, 이것은 2장에서 배운 행렬곱과 맞지 않는다.\n",
        "- \"*\"기호와 \"/\"기호를 사용하면 동일한 크기의 행렬에 대하여 A[i,j]와 B[i,j]에 대하여 원소별로 곱하기를 하거나 나누기를 한 결과를 얻게 된다\n",
        "- 2장에서 배운 행렬의 곱은 numpy의 matmul함수를 이용하거나 \"@\"연산자로 표현한다."
      ],
      "metadata": {
        "id": "Zr8PIKuceeV-"
      }
    },
    {
      "cell_type": "code",
      "execution_count": 45,
      "metadata": {
        "id": "JVn_sZg9IfjY",
        "colab": {
          "base_uri": "https://localhost:8080/"
        },
        "outputId": "6753f514-de89-4487-9c8c-485a17b9c3e1"
      },
      "outputs": [
        {
          "output_type": "stream",
          "name": "stdout",
          "text": [
            "mat1:\n",
            "[[0 1]\n",
            " [2 3]\n",
            " [4 5]]\n",
            "\n",
            "mat2:\n",
            "[[1. 1.]\n",
            " [1. 1.]\n",
            " [1. 1.]]\n",
            "\n",
            "mat1+mat2:\n",
            "[[1. 2.]\n",
            " [3. 4.]\n",
            " [5. 6.]]\n",
            "\n",
            "mat1-mat2:\n",
            "[[-1.  0.]\n",
            " [ 1.  2.]\n",
            " [ 3.  4.]]\n",
            "\n",
            "mat1*mat2:\n",
            "[[0. 1.]\n",
            " [2. 3.]\n",
            " [4. 5.]]\n",
            "\n",
            "mat1/mat2:\n",
            "[[0. 1.]\n",
            " [2. 3.]\n",
            " [4. 5.]]\n",
            "\n"
          ]
        }
      ],
      "source": [
        "'''\n",
        "기본 사칙 연산\n",
        "'''\n",
        "mat1 = np.arange(6).reshape((3,2))\n",
        "mat2 = np.ones((3, 2))\n",
        "print_obj(mat1, \"mat1\")\n",
        "print_obj(mat2, \"mat2\")\n",
        "print_obj(mat1+mat2, \"mat1+mat2\")\n",
        "print_obj(mat1-mat2, \"mat1-mat2\")\n",
        "print_obj(mat1*mat2, \"mat1*mat2\")\n",
        "print_obj(mat1/mat2, \"mat1/mat2\")"
      ]
    },
    {
      "cell_type": "code",
      "execution_count": 46,
      "metadata": {
        "id": "8rcxDE-yIfjZ",
        "colab": {
          "base_uri": "https://localhost:8080/"
        },
        "outputId": "3f36cba6-6e71-4469-9964-0b54e34d002a"
      },
      "outputs": [
        {
          "output_type": "stream",
          "name": "stdout",
          "text": [
            "mat:\n",
            "[[0 1]\n",
            " [2 3]\n",
            " [4 5]]\n",
            "\n",
            "mat.sum():\n",
            "15\n",
            "\n",
            "mat.sum(axis=0):\n",
            "[6 9]\n",
            "\n",
            "mat.sum(axis=1):\n",
            "[1 5 9]\n",
            "\n",
            "mat.mean():\n",
            "2.5\n",
            "\n",
            "mat.max():\n",
            "5\n",
            "\n",
            "mat.min():\n",
            "0\n",
            "\n"
          ]
        }
      ],
      "source": [
        "'''\n",
        "Unary 연산\n",
        "'''\n",
        "mat = np.arange(6).reshape((3,2))\n",
        "print_obj(mat, \"mat\")\n",
        "print_obj(mat.sum(), \"mat.sum()\")\n",
        "print_obj(mat.sum(axis=0), \"mat.sum(axis=0)\")  # axis는 축을 의미\n",
        "print_obj(mat.sum(axis=1), \"mat.sum(axis=1)\")\n",
        "print_obj(mat.mean(), \"mat.mean()\")\n",
        "print_obj(mat.max(), \"mat.max()\")\n",
        "print_obj(mat.min(), \"mat.min()\")"
      ]
    },
    {
      "cell_type": "code",
      "execution_count": 47,
      "metadata": {
        "id": "7_bAba33Ifja",
        "colab": {
          "base_uri": "https://localhost:8080/"
        },
        "outputId": "6d59e803-4ecc-404e-b70a-86624216dae9"
      },
      "outputs": [
        {
          "output_type": "stream",
          "name": "stdout",
          "text": [
            "mat1:\n",
            "[0. 1. 2.]\n",
            "\n",
            "mat2:\n",
            "[1. 1. 1.]\n",
            "\n",
            "mat1 dot mat2:\n",
            "3.0\n",
            "\n"
          ]
        }
      ],
      "source": [
        "'''\n",
        "벡터의 내적 연산\n",
        "'''\n",
        "mat1 = np.arange(3).astype('float')\n",
        "mat2 = np.ones(3)\n",
        "print_obj(mat1, \"mat1\")\n",
        "print_obj(mat2, \"mat2\")\n",
        "print_obj(np.dot(mat1, mat2), \"mat1 dot mat2\")"
      ]
    },
    {
      "cell_type": "code",
      "execution_count": 48,
      "metadata": {
        "id": "f9Z3MGTwIfjc",
        "colab": {
          "base_uri": "https://localhost:8080/"
        },
        "outputId": "73d32e72-88d4-44be-9a44-3693e0dadec6"
      },
      "outputs": [
        {
          "output_type": "stream",
          "name": "stdout",
          "text": [
            "mat1:\n",
            "[[0 1]\n",
            " [2 3]\n",
            " [4 5]]\n",
            "\n",
            "mat2:\n",
            "[[1. 1. 1.]\n",
            " [1. 1. 1.]]\n",
            "\n",
            "mat1 dot mat2:\n",
            "[[1. 1. 1.]\n",
            " [5. 5. 5.]\n",
            " [9. 9. 9.]]\n",
            "\n",
            "mat1 @ mat2:\n",
            "[[1. 1. 1.]\n",
            " [5. 5. 5.]\n",
            " [9. 9. 9.]]\n",
            "\n",
            "matmul(mat1,mat2):\n",
            "[[1. 1. 1.]\n",
            " [5. 5. 5.]\n",
            " [9. 9. 9.]]\n",
            "\n",
            "mat3:\n",
            "[[[ 0  1]\n",
            "  [ 2  3]\n",
            "  [ 4  5]]\n",
            "\n",
            " [[ 6  7]\n",
            "  [ 8  9]\n",
            "  [10 11]]\n",
            "\n",
            " [[12 13]\n",
            "  [14 15]\n",
            "  [16 17]]\n",
            "\n",
            " [[18 19]\n",
            "  [20 21]\n",
            "  [22 23]]]\n",
            "\n",
            "mat4:\n",
            "[[[1. 1. 1.]\n",
            "  [1. 1. 1.]]\n",
            "\n",
            " [[1. 1. 1.]\n",
            "  [1. 1. 1.]]\n",
            "\n",
            " [[1. 1. 1.]\n",
            "  [1. 1. 1.]]\n",
            "\n",
            " [[1. 1. 1.]\n",
            "  [1. 1. 1.]]]\n",
            "\n",
            "mat3 dot mat4:\n",
            "(4, 3, 4, 3)\n",
            "\n",
            "mat3 @ mat4:\n",
            "(4, 3, 3)\n",
            "\n",
            "matmul(mat3,mat4):\n",
            "(4, 3, 3)\n",
            "\n"
          ]
        }
      ],
      "source": [
        "'''\n",
        "행렬의 곱연산\n",
        "'''\n",
        "mat1 = np.arange(6).reshape((3, 2))\n",
        "mat2 = np.ones((2, 3))\n",
        "print_obj(mat1, \"mat1\")\n",
        "print_obj(mat2, \"mat2\")\n",
        "print_obj(np.dot(mat1,mat2), \"mat1 dot mat2\")\n",
        "print_obj(mat1@mat2, \"mat1 @ mat2\")\n",
        "print_obj(np.matmul(mat1,mat2), \"matmul(mat1,mat2)\")\n",
        "\n",
        "mat3 = np.arange(24).reshape((4, 3, 2))\n",
        "mat4 = np.ones((4, 2, 3))\n",
        "print_obj(mat3, \"mat3\")\n",
        "print_obj(mat4, \"mat4\")\n",
        "print_obj(np.dot(mat3,mat4).shape, \"mat3 dot mat4\")\n",
        "print_obj((mat3@mat4).shape, \"mat3 @ mat4\")\n",
        "print_obj(np.matmul(mat3,mat4).shape, \"matmul(mat3,mat4)\")"
      ]
    },
    {
      "cell_type": "markdown",
      "metadata": {
        "id": "fo-pQzdKIfji"
      },
      "source": [
        "### 형태 변형 (Shape Manipulation)"
      ]
    },
    {
      "cell_type": "markdown",
      "source": [
        "- reshape()함수의 인자로 \"-1\"이 주어진 경우 최초 자료형의 원소의 갯수와 -1이 아닌 인자의 값을 이용하여 \"-1\"로 할당된 차원의 정확한 값이 추정된다.\n",
        "- reshape(6, -1)와 reshape(-1,6)의 출력 결과를 확인하여 보자."
      ],
      "metadata": {
        "id": "HsloOb8Um3cC"
      }
    },
    {
      "cell_type": "code",
      "execution_count": 49,
      "metadata": {
        "id": "7fwkWGAnIfjk",
        "colab": {
          "base_uri": "https://localhost:8080/"
        },
        "outputId": "c454208c-26cf-4615-b39e-8554e532ae8d"
      },
      "outputs": [
        {
          "output_type": "stream",
          "name": "stdout",
          "text": [
            "np.arange(24).reshape((2, 3, 4)):\n",
            "[[[ 0  1  2  3]\n",
            "  [ 4  5  6  7]\n",
            "  [ 8  9 10 11]]\n",
            "\n",
            " [[12 13 14 15]\n",
            "  [16 17 18 19]\n",
            "  [20 21 22 23]]]\n",
            "\n",
            "array1.reshape((6, 4)):\n",
            "[[ 0  1  2  3]\n",
            " [ 4  5  6  7]\n",
            " [ 8  9 10 11]\n",
            " [12 13 14 15]\n",
            " [16 17 18 19]\n",
            " [20 21 22 23]]\n",
            "\n",
            "array1.reshape((6, -1)):\n",
            "[[ 0  1  2  3]\n",
            " [ 4  5  6  7]\n",
            " [ 8  9 10 11]\n",
            " [12 13 14 15]\n",
            " [16 17 18 19]\n",
            " [20 21 22 23]]\n",
            "\n"
          ]
        }
      ],
      "source": [
        "'''\n",
        "-1을 활용하여 reshape 형태 변형에 사용한다.\n",
        "'''\n",
        "array1 = np.arange(24).reshape((2, 3, 4))\n",
        "print_obj(array1, \"np.arange(24).reshape((2, 3, 4))\")\n",
        "array2 = array1.reshape((6, 4))\n",
        "print_obj(array2, \"array1.reshape((6, 4))\")\n",
        "array3 = array1.reshape((6, -1))\n",
        "print_obj(array3, \"array1.reshape((6, -1))\")"
      ]
    },
    {
      "cell_type": "code",
      "execution_count": 50,
      "metadata": {
        "id": "EifbhhXJIfjl",
        "colab": {
          "base_uri": "https://localhost:8080/"
        },
        "outputId": "9a3de9f0-e831-44f2-dc8f-d397f0a94536"
      },
      "outputs": [
        {
          "output_type": "stream",
          "name": "stdout",
          "text": [
            "array:\n",
            "[0 1 2]\n",
            "\n",
            "array[:, None]:\n",
            "[[0]\n",
            " [1]\n",
            " [2]]\n",
            "\n"
          ]
        }
      ],
      "source": [
        "'''\n",
        "기존 배열보다 더 큰 차원으로 확대하는것도 가능하다.\n",
        "'''\n",
        "array = np.arange(3)\n",
        "print_obj(array, \"array\")\n",
        "print_obj(array[:, None], \"array[:, None]\")"
      ]
    },
    {
      "cell_type": "code",
      "execution_count": 51,
      "metadata": {
        "id": "8YlI8F3dIfjn",
        "colab": {
          "base_uri": "https://localhost:8080/"
        },
        "outputId": "1c4d9961-d0ef-46fc-b6f9-9dd98d8dbe18"
      },
      "outputs": [
        {
          "output_type": "stream",
          "name": "stdout",
          "text": [
            "array1:\n",
            "[[1. 1.]\n",
            " [1. 1.]\n",
            " [1. 1.]]\n",
            "\n",
            "array2:\n",
            "[[0. 0.]\n",
            " [0. 0.]\n",
            " [0. 0.]]\n",
            "\n",
            "array1+2 vstack:\n",
            "[[1. 1.]\n",
            " [1. 1.]\n",
            " [1. 1.]\n",
            " [0. 0.]\n",
            " [0. 0.]\n",
            " [0. 0.]]\n",
            "\n",
            "array1+2 hstack:\n",
            "[[1. 1. 0. 0.]\n",
            " [1. 1. 0. 0.]\n",
            " [1. 1. 0. 0.]]\n",
            "\n",
            "array1+2+1 hstack:\n",
            "[[1. 1. 0. 0. 1. 1.]\n",
            " [1. 1. 0. 0. 1. 1.]\n",
            " [1. 1. 0. 0. 1. 1.]]\n",
            "\n",
            "array1+2 concat axis=0:\n",
            "[[1. 1.]\n",
            " [1. 1.]\n",
            " [1. 1.]\n",
            " [0. 0.]\n",
            " [0. 0.]\n",
            " [0. 0.]]\n",
            "\n",
            "array1+2 concat axis=1:\n",
            "[[1. 1. 0. 0.]\n",
            " [1. 1. 0. 0.]\n",
            " [1. 1. 0. 0.]]\n",
            "\n"
          ]
        }
      ],
      "source": [
        "'''\n",
        "스택과 concatenation 모두 두개의 배열을 연결하는 기능을 한다.\n",
        "스택의 h는 horizontal을 의미하고 v는 vertical을 의미한다.\n",
        "'''\n",
        "array1 = np.ones((3,2))\n",
        "array2 = np.zeros((3,2))\n",
        "print_obj(array1, \"array1\")\n",
        "print_obj(array2, \"array2\")\n",
        "\n",
        "print_obj(np.vstack([array1, array2]), \"array1+2 vstack\")\n",
        "print_obj(np.hstack([array1, array2]), \"array1+2 hstack\")\n",
        "print_obj(np.hstack([array1, array2, array1]), \"array1+2+1 hstack\")\n",
        "\n",
        "print_obj(np.concatenate([array1, array2], axis=0), \"array1+2 concat axis=0\")\n",
        "print_obj(np.concatenate([array1, array2], axis=1), \"array1+2 concat axis=1\")"
      ]
    },
    {
      "cell_type": "code",
      "execution_count": 52,
      "metadata": {
        "id": "HrzX8t3NIfjo",
        "colab": {
          "base_uri": "https://localhost:8080/"
        },
        "outputId": "67b7958f-b637-4485-918e-7f0034ae4032"
      },
      "outputs": [
        {
          "output_type": "stream",
          "name": "stdout",
          "text": [
            "array:\n",
            "[[0 1]\n",
            " [2 3]\n",
            " [4 5]]\n",
            "\n",
            "array.T:\n",
            "[[0 2 4]\n",
            " [1 3 5]]\n",
            "\n",
            "array1:\n",
            "[[[ 0  1]\n",
            "  [ 2  3]\n",
            "  [ 4  5]]\n",
            "\n",
            " [[ 6  7]\n",
            "  [ 8  9]\n",
            "  [10 11]]\n",
            "\n",
            " [[12 13]\n",
            "  [14 15]\n",
            "  [16 17]]\n",
            "\n",
            " [[18 19]\n",
            "  [20 21]\n",
            "  [22 23]]]\n",
            "\n",
            "Swap axis 1 and 2:\n",
            "[[[ 0  2  4]\n",
            "  [ 1  3  5]]\n",
            "\n",
            " [[ 6  8 10]\n",
            "  [ 7  9 11]]\n",
            "\n",
            " [[12 14 16]\n",
            "  [13 15 17]]\n",
            "\n",
            " [[18 20 22]\n",
            "  [19 21 23]]]\n",
            "\n",
            "Swapped shape:\n",
            "(4, 2, 3)\n",
            "\n",
            "Swap axis 0 and 1:\n",
            "[[[ 0  1]\n",
            "  [ 6  7]\n",
            "  [12 13]\n",
            "  [18 19]]\n",
            "\n",
            " [[ 2  3]\n",
            "  [ 8  9]\n",
            "  [14 15]\n",
            "  [20 21]]\n",
            "\n",
            " [[ 4  5]\n",
            "  [10 11]\n",
            "  [16 17]\n",
            "  [22 23]]]\n",
            "\n",
            "Swapped shape:\n",
            "(3, 4, 2)\n",
            "\n"
          ]
        }
      ],
      "source": [
        "'''\n",
        "전치행렬\n",
        "'''\n",
        "array = np.arange(6).reshape((3, 2))\n",
        "print_obj(array, \"array\")\n",
        "print_obj(array.T, \"array.T\")\n",
        "\n",
        "array1 = np.arange(24).reshape((4, 3, 2))\n",
        "print_obj(array1, \"array1\")\n",
        "array2 = np.transpose(array1, [0, 2, 1])\n",
        "print_obj(array2, \"Swap axis 1 and 2\")\n",
        "print_obj(array2.shape, \"Swapped shape\")\n",
        "array3 = np.transpose(array1, [1, 0, 2])\n",
        "print_obj(array3, \"Swap axis 0 and 1\")\n",
        "print_obj(array3.shape, \"Swapped shape\")"
      ]
    },
    {
      "cell_type": "markdown",
      "source": [
        "$6\\times 4$ 차원의 행렬을 전치 연산하면 $4\\times 6$ 차원의 행렬이 된다.\n",
        "\n",
        "$$\n",
        "\\begin{align}\n",
        "X =\n",
        "\\begin{bmatrix}\n",
        "\\boxed{\\begin{matrix} x_{1, 1} & x_{1, 2} & x_{1, 3} & x_{1, 4}\\end{matrix}}  \\\\\n",
        "\\begin{matrix} x_{2, 1} & x_{2, 2} & x_{2, 3} & x_{2, 4}\\end{matrix} \\\\\n",
        "\\begin{matrix} x_{3, 1} & x_{3, 2} & x_{3, 3} & x_{3, 4}\\end{matrix} \\\\\n",
        "\\begin{matrix} x_{4, 1} & x_{4, 2} & x_{4, 3} & x_{4, 4}\\end{matrix} \\\\\n",
        "\\begin{matrix} x_{5, 1} & x_{5, 2} & x_{5, 3} & x_{5, 4}\\end{matrix} \\\\\n",
        "\\begin{matrix} x_{6, 1} & x_{6, 2} & x_{6, 3} & x_{6, 4}\\end{matrix} \\\\\n",
        "\\end{bmatrix}\n",
        "\\;\\; \\rightarrow \\;\\;\n",
        "X^T =\n",
        "\\begin{bmatrix}\n",
        "\\boxed{\\begin{matrix} x_{1, 1} \\\\ x_{1, 2} \\\\ x_{1, 3} \\\\ x_{1, 4}\\end{matrix}} &\n",
        "\\begin{matrix} x_{2, 1} \\\\ x_{2, 2} \\\\ x_{2, 3} \\\\ x_{2, 4}\\end{matrix} &\n",
        "\\begin{matrix} x_{3, 1} \\\\ x_{3, 2} \\\\ x_{3, 3} \\\\ x_{3, 4}\\end{matrix} &\n",
        "\\begin{matrix} x_{4, 1} \\\\ x_{4, 2} \\\\ x_{4, 3} \\\\ x_{4, 4}\\end{matrix} &\n",
        "\\begin{matrix} x_{5, 1} \\\\ x_{5, 2} \\\\ x_{5, 3} \\\\ x_{5, 4}\\end{matrix} &\n",
        "\\begin{matrix} x_{6, 1} \\\\ x_{6, 2} \\\\ x_{6, 3} \\\\ x_{6, 4}\\end{matrix} &\n",
        "\\end{bmatrix}\n",
        "\\end{align}\n",
        "$$"
      ],
      "metadata": {
        "id": "tg1KmvP_h0_M"
      }
    },
    {
      "cell_type": "markdown",
      "metadata": {
        "id": "vQUfAz_oIfjs"
      },
      "source": [
        "### 브로드캐스팅(Broadcasting)"
      ]
    },
    {
      "cell_type": "markdown",
      "source": [
        "<figure>\n",
        "    <img src=\"http://www.astroml.org/_images/fig_broadcast_visual_1.png\">\n",
        "</figure>"
      ],
      "metadata": {
        "id": "HibxtIUbdeyr"
      }
    },
    {
      "cell_type": "code",
      "execution_count": 53,
      "metadata": {
        "id": "Gb0L1o-hIfjt",
        "colab": {
          "base_uri": "https://localhost:8080/"
        },
        "outputId": "28b1178b-ff9b-48df-bcd0-b79213d14496"
      },
      "outputs": [
        {
          "output_type": "stream",
          "name": "stdout",
          "text": [
            "vector:\n",
            "[0 1 2]\n",
            "\n",
            "scalar:\n",
            "2.0\n",
            "\n",
            "vector+scalar:\n",
            "[2. 3. 4.]\n",
            "\n",
            "vector-scalar:\n",
            "[-2. -1.  0.]\n",
            "\n",
            "vector*scalar:\n",
            "[0. 2. 4.]\n",
            "\n",
            "vector/scalar:\n",
            "[0.  0.5 1. ]\n",
            "\n"
          ]
        }
      ],
      "source": [
        "'''\n",
        "브로드캐스팅은 자동으로 비어있는 배열을 채워서 연산을 수행하는 기능이다.\n",
        "수학적으로 연산이 불가능한 벡터와 스칼라 간 연산이 가능해진다.\n",
        "'''\n",
        "vector = np.arange(3)\n",
        "scalar = 2.\n",
        "print_obj(vector, \"vector\")\n",
        "print_obj(scalar, \"scalar\")\n",
        "print_obj(vector+scalar, \"vector+scalar\")\n",
        "print_obj(vector-scalar, \"vector-scalar\")\n",
        "print_obj(vector*scalar, \"vector*scalar\")\n",
        "print_obj(vector/scalar, \"vector/scalar\")"
      ]
    },
    {
      "cell_type": "code",
      "execution_count": 54,
      "metadata": {
        "id": "0rISYPVnIfjv",
        "colab": {
          "base_uri": "https://localhost:8080/"
        },
        "outputId": "366601e6-69aa-4853-81fe-49e0bbeb5e7e"
      },
      "outputs": [
        {
          "output_type": "stream",
          "name": "stdout",
          "text": [
            "mat1:\n",
            "[[0 1]\n",
            " [2 3]\n",
            " [4 5]]\n",
            "\n",
            "mat2:\n",
            "[1 2]\n",
            "\n",
            "mat1+mat2:\n",
            "[[1 3]\n",
            " [3 5]\n",
            " [5 7]]\n",
            "\n",
            "mat3:\n",
            "[[[ 0  1]\n",
            "  [ 2  3]\n",
            "  [ 4  5]]\n",
            "\n",
            " [[ 6  7]\n",
            "  [ 8  9]\n",
            "  [10 11]]]\n",
            "\n",
            "mat4:\n",
            "[[0 1]\n",
            " [2 3]\n",
            " [4 5]]\n",
            "\n",
            "mat3+mat4:\n",
            "[[[ 0  2]\n",
            "  [ 4  6]\n",
            "  [ 8 10]]\n",
            "\n",
            " [[ 6  8]\n",
            "  [10 12]\n",
            "  [14 16]]]\n",
            "\n"
          ]
        }
      ],
      "source": [
        "'''\n",
        "브로드캐스팅을 통해 형태가 맞지 않은 두 행렬의 덧셈이 가능하다.\n",
        "'''\n",
        "mat1 = np.arange(6).reshape((3,2))\n",
        "mat2 = np.arange(2).reshape(2) + 1\n",
        "print_obj(mat1, \"mat1\")\n",
        "print_obj(mat2, \"mat2\")\n",
        "print_obj(mat1+mat2, \"mat1+mat2\")\n",
        "\n",
        "mat3 = np.arange(12).reshape((2,3,2))\n",
        "mat4= np.arange(6).reshape((3,2))\n",
        "print_obj(mat3, \"mat3\")\n",
        "print_obj(mat4, \"mat4\")\n",
        "print_obj(mat3+mat4, \"mat3+mat4\")"
      ]
    }
  ],
  "metadata": {
    "kernelspec": {
      "display_name": "Python 3",
      "language": "python",
      "name": "python3"
    },
    "language_info": {
      "codemirror_mode": {
        "name": "ipython",
        "version": 3
      },
      "file_extension": ".py",
      "mimetype": "text/x-python",
      "name": "python",
      "nbconvert_exporter": "python",
      "pygments_lexer": "ipython3",
      "version": "3.7.6"
    },
    "colab": {
      "provenance": [],
      "toc_visible": true
    },
    "gpuClass": "standard"
  },
  "nbformat": 4,
  "nbformat_minor": 0
}