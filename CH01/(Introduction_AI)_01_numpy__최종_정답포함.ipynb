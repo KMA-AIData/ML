{
  "cells": [
    {
      "cell_type": "markdown",
      "source": [
        "# 인공지능 입문 2강 실습 : Colab 사용법, 그리고 Numpy 배열과 연산"
      ],
      "metadata": {
        "id": "54hC966Ekyxl"
      }
    },
    {
      "cell_type": "markdown",
      "source": [
        "***Colab의 주요 기능에 대해서는 혼공머신 교과서 p.32 ~ 43 에 중요한 기능이 잘 설명되어 있다!**\n",
        "        \n",
        "        - 파일 불러오기, 저장, 다운로드, 런타임 설정(GPU 할당), 텍스트 셀의 목차 기능, 폴더 드라이브 마운트, 주석처리 기능에 꼭 익숙해지자."
      ],
      "metadata": {
        "id": "OkoHjx09nKfw"
      }
    },
    {
      "cell_type": "code",
      "execution_count": null,
      "metadata": {
        "id": "YJi5vN5XIfin"
      },
      "outputs": [],
      "source": [
        "import numpy as np\n",
        "## import 라이브러리(코드의 묶음) 불러오기. \n",
        "# as(~로) np라고 불러오자\n",
        "## numpy.~~~   ->  np.~~~ 로 하자고 약속"
      ]
    },
    {
      "cell_type": "markdown",
      "source": [
        "- 상기 셀에서는 파이썬의 \"numpy(\"넘파이\"라고 발음)\" 라이브러리를 \"np\"라는 이름으로 불러온다. \n",
        "- Numpy 라이브러리는 기계학습 관련 코드에서 거의 항상/반드시 사용되는 수학 함수(배열에 대한 다양한 수학 연산이 가능함) 라이브러리이므로 기계학습 관련 코딩을 할 때는 제일 먼저 numpy 라이브러리를 불러오도록 하자.\n",
        "[Numpy 공식 도큐먼트 사이트](https://numpy.org/doc/stable/user/absolute_beginners.html)\n",
        "- 참고: 라이브러리란?\n",
        "        - 라이브러리 : 여러 패키지와 모듈을 모아놓은 것\n",
        "            - 패키지 : 특정 기능과 관련된 여러 모듈이 모여있는 한 폴더\n",
        "            - 모듈 : 여러가지 함수, 변수 등을 모아 놓은 것"
      ],
      "metadata": {
        "id": "GE6wPGeR7Hyf"
      }
    },
    {
      "cell_type": "code",
      "source": [
        "from google.colab import drive\n",
        "drive.mount('/content/drive')\n",
        "# 왼쪽배너에서 폴더 모양을 클릭 후 드라이브 마운트를 통해서 코랩에 업로드한 파일을 \n",
        "# 구글 드라이브에서 검색할 수 있다.\n",
        "# (파일-드라이브에 사본 저장)기능에서 기본 저장되는 폴더는 \"/content/drive/colab notebook\" 이다."
      ],
      "metadata": {
        "colab": {
          "base_uri": "https://localhost:8080/"
        },
        "id": "1it5CXyywdow",
        "outputId": "c5356544-f16d-4881-813d-54397f9f2d66"
      },
      "execution_count": null,
      "outputs": [
        {
          "output_type": "stream",
          "name": "stdout",
          "text": [
            "Drive already mounted at /content/drive; to attempt to forcibly remount, call drive.mount(\"/content/drive\", force_remount=True).\n"
          ]
        }
      ]
    },
    {
      "cell_type": "markdown",
      "source": [
        "### * 중요!! 수시시험 핵심내용은 다음과 같다.\n",
        "array, dimension, arrange, shape, reshape, indexing, slicing, stack, concatenation. \n",
        "- /+ dot, matmul, transpose 도 추가로 공부해보자.\n"
      ],
      "metadata": {
        "id": "qLJGIeZmLHtd"
      }
    },
    {
      "cell_type": "code",
      "execution_count": null,
      "metadata": {
        "id": "LxystfffIfiw"
      },
      "outputs": [],
      "source": [
        "def print_obj(obj, name):\n",
        "    print(\"%s:\\n%s\\n\" % (name, obj)) \n",
        "    ## definition -> 함수를 정의합니다.\n",
        "    ## name, obj 변수 두개를 할당(assign)해서 함수를 정의(def)해봅시다.\n",
        "    ## 첫번째 %s -> name, 두번째 %s -> obj // \\n -> 엔터해서 출력\n",
        "    ## 첫번째랑 두번째를 구분하는 콜론 :\n",
        "    # 포맷팅 -> 3가지 방법 : % 포맷팅, format 포맷팅, printf()\n",
        "\n",
        "def check_each(a, b):\n",
        "    return (a == b).astype('bool')\n",
        "## booliean 불리언 타입 : 참이냐 거짓이냐 true, false?? 검사.\n",
        "## == 동일한가? 조건문!에 의한 함수 정의\n",
        "\n",
        "def check_mean(a, b):\n",
        "    return np.mean(a == b).astype('bool')\n",
        "\n",
        "## a,b의 성분들의 각각의 평균 mean이 동일한가?? 조건문! 참이면 True, 거짓이면 False를 뱉어!"
      ]
    },
    {
      "cell_type": "markdown",
      "source": [
        "- 위의 코드에서는 실습 과정에서 계속 사용될 함수를 정의하였다. \n",
        "- \"print_obj\"는 출력하려는 객체(object) \"이름\"과 객체가 실제 저장하는 내용(값)을 출력하는 역할을 한다. \n",
        "    - cf. escape 이스케이프 코드 : \\n - 문자열 안에서 줄을 바꿀 때 사용\n",
        "    - cf. 포맷팅(Formatting) : 문자열안에 특정부분을 특정 변수의 위치로 정해줌으로써 해당 변수의 값에 따라 문자열 자체가 변경 될 수 있게 하는 기능\n",
        "        - 3가지 방법 : % 포맷팅, format 포맷팅, printf()\n",
        "        - (문자열 포맷 코드) %s : 문자열(String)\n",
        "- check_each와 check_mean은 참과 거짓을 판별하는 불리언 타입의 함수를 정의한 것이다."
      ],
      "metadata": {
        "id": "VNDApKuP7iac"
      }
    },
    {
      "cell_type": "markdown",
      "source": [
        "*** cf. 파이썬에서 사용되는 주요 데이터 타입**\n",
        "\n",
        "<img src=\"https://pynative.com/wp-content/uploads/2021/02/python-data-types.jpg\" width=\"500\" height=\"400\" alt=\"파이썬의 주요 데이터 타입\" />\n"
      ],
      "metadata": {
        "id": "x4qafOYXjRMo"
      }
    },
    {
      "cell_type": "code",
      "source": [
        "    obj = 1\n",
        "    print_obj(obj,\"name\")"
      ],
      "metadata": {
        "colab": {
          "base_uri": "https://localhost:8080/"
        },
        "id": "tjJl9vo6xbVK",
        "outputId": "1bab83e7-151b-48fc-b1d9-60c8aedb588e"
      },
      "execution_count": null,
      "outputs": [
        {
          "output_type": "stream",
          "name": "stdout",
          "text": [
            "name:\n",
            "1\n",
            "\n"
          ]
        }
      ]
    },
    {
      "cell_type": "markdown",
      "metadata": {
        "id": "mo5bS3L-Ifi0"
      },
      "source": [
        "### 스칼라(Scalars), 벡터(Vectors), 행렬(Matrices)"
      ]
    },
    {
      "cell_type": "code",
      "execution_count": null,
      "metadata": {
        "id": "MNN0m8bnIfi3"
      },
      "outputs": [],
      "source": [
        "a = np.array(1.)   # 0차원 배열  ## np. 어레이!!\n",
        "## 1과 1. 이 다른 점 : 정수냐 실수냐? .점이 붙으면 실수 타입 표현이다.\n",
        "b = np.array([1., 2., 3.])  # 1차원 배열\n",
        "c = np.array([[1., 2., 3.], [4., 5., 6.]])  # 2차원 배열\n",
        "\n",
        "## 0 ~ 2 차원 까지 우리가 배웠지만,\n",
        "## 앞으로는 N차원의 배열을 N차원의 텐서! 라고 부른다.\n",
        "## a,b,c 변수가 왼쪽 // 변수에 할당되는 값이 오른쪽.\n",
        "## 할당된 상태일뿐, 출력하려면 print를 써야한다. "
      ]
    },
    {
      "cell_type": "markdown",
      "source": [
        "- 향후 실습에서 사용될 a, b, c값을 로드해보자. print로 실행을 해야 해당 값이 로드(출력)됨에 유의.\n",
        "    - 주의 : numpy 라이브러리를 사용하기 전에는 리스트를 기본 자료형으로 사용했을 것이다. 그런데 numpy에서는 배열처리를 위하여 ndarray라는 새로운 개체를 제공한다(현 수준에서는 벡터를 처리하기 위해 편리한 자료형 정도의 수준으로 ndarray를 이해하여도 충분). \n",
        "- \"np.array\"라는 짧은 명령어에는 \"numpy 라이브러리의 array()함수를 불러다 사용한다\"라는 긴 내용이 축약되어 있다. \n",
        "- 먼저 numpy 라이브러리를 \"np\"라고 불러왔음을 상기하자. \"np.array\"에서 \".\"은 numpy가 가지고 있는 다양한 함수를 불러오라는 명령을 전달하며 \"np.array\"라고 표현하면 numpy가 가지고 있는 다양한 명령 중에서도 array()함수를 불러오라는 의미를 갖는다.\n",
        "- \"b = np.array([1., 2., 3.])\"라는 명령을 통해 1.0, 2.0, 3.0의 세 개의 값을 갖는 1차원 배열 \"b\"를 만들었다.\n",
        "\"c\"는 세 개의 값을 갖는 1차원 배열 2개가 모인 2차원 배열을 의미한다.\n",
        "\n",
        "- \"check_each\"와 \"check_mean\"에서는 \".astype('bool')\"이라는 표현이 존재한다. 이 때 \"astype\"은 ndarray에 저장된 데이터값의 타입을 변경하는 역할을 하는데, 이 코드에서는 \"bool\"이라는 타입으로 변경한다."
      ],
      "metadata": {
        "id": "8kEiM2pn_O4s"
      }
    },
    {
      "cell_type": "code",
      "source": [
        "print(a, b, c)\n",
        "print(a)\n",
        "print(b)\n",
        "print(c)"
      ],
      "metadata": {
        "colab": {
          "base_uri": "https://localhost:8080/"
        },
        "id": "9tF88LZZzHvk",
        "outputId": "151d0bdf-8a2f-49c0-8416-d3b9751a5da1"
      },
      "execution_count": null,
      "outputs": [
        {
          "output_type": "stream",
          "name": "stdout",
          "text": [
            "1.0 [1. 2. 3.] [[1. 2. 3.]\n",
            " [4. 5. 6.]]\n",
            "1.0\n",
            "[1. 2. 3.]\n",
            "[[1. 2. 3.]\n",
            " [4. 5. 6.]]\n"
          ]
        }
      ]
    },
    {
      "cell_type": "code",
      "execution_count": null,
      "metadata": {
        "id": "UmG0IVPvIfi4",
        "colab": {
          "base_uri": "https://localhost:8080/"
        },
        "outputId": "10e5b6c4-3663-4555-e41c-216354cb8395"
      },
      "outputs": [
        {
          "output_type": "stream",
          "name": "stdout",
          "text": [
            "a:\n",
            "1.0\n",
            "\n",
            "b:\n",
            "[1. 2. 3.]\n",
            "\n",
            "c:\n",
            "[[1. 2. 3.]\n",
            " [4. 5. 6.]]\n",
            "\n"
          ]
        }
      ],
      "source": [
        "print_obj(a, \"a\")  ## 함수를 예쁘게 짜놓고 언제든 써먹는다. : def function\n",
        "print_obj(b, \"b\")\n",
        "print_obj(c, \"c\")"
      ]
    },
    {
      "cell_type": "code",
      "source": [
        "a.ndim"
      ],
      "metadata": {
        "colab": {
          "base_uri": "https://localhost:8080/"
        },
        "id": "QvWvwS2vzc0B",
        "outputId": "fe5dd8a3-7179-4d97-fc5e-804bc328006c"
      },
      "execution_count": null,
      "outputs": [
        {
          "output_type": "execute_result",
          "data": {
            "text/plain": [
              "0"
            ]
          },
          "metadata": {},
          "execution_count": 39
        }
      ]
    },
    {
      "cell_type": "code",
      "execution_count": null,
      "metadata": {
        "id": "d6kDQS8tIfi4",
        "colab": {
          "base_uri": "https://localhost:8080/"
        },
        "outputId": "f0a42546-b63f-4a06-d81a-b43092ea59ae"
      },
      "outputs": [
        {
          "output_type": "stream",
          "name": "stdout",
          "text": [
            "a.ndim:\n",
            "0\n",
            "\n",
            "b.ndim:\n",
            "1\n",
            "\n",
            "c.ndim:\n",
            "2\n",
            "\n"
          ]
        }
      ],
      "source": [
        "print_obj(a.ndim, \"a.ndim\")  ## .dim  : 디멘젼 dimension\n",
        "## 차원의 크기!! N차원의 크기 -> ndim 함수 // 쓰는법 : 변수.함수\n",
        "print_obj(b.ndim, \"b.ndim\")\n",
        "print_obj(c.ndim, \"c.ndim\")\n",
        "\n",
        "## 0차원 텐서  1차원 텐서  2차원 텐서\n",
        "## 0차원 배열  1차원 배열  2차원 배열\n",
        "## 앞으로는 텐서와 배열이라는 용어로 다차원(수많은 카테고리)의 데이터를 표현하자."
      ]
    },
    {
      "cell_type": "markdown",
      "source": [
        "- \"a.ndim\"은 배열의 차원의 수를 알려주는 기능을 한다. \n",
        "- 상기 코드를 실행한 후 ndim의 출력값을 이해하고자 시도해 보자. 구글링을 통해 1차원 배열, 2차원 배열에 대하여 공부하면 ndim의 기능이 이해가 될 것이다."
      ],
      "metadata": {
        "id": "ZIchXmDcB4bz"
      }
    },
    {
      "cell_type": "code",
      "execution_count": null,
      "metadata": {
        "id": "SjxBvxw6Ifi6",
        "colab": {
          "base_uri": "https://localhost:8080/"
        },
        "outputId": "aca7c452-7e38-4c19-8a7b-02729c840189"
      },
      "outputs": [
        {
          "output_type": "stream",
          "name": "stdout",
          "text": [
            "a.shape:\n",
            "()\n",
            "\n",
            "b.shape:\n",
            "(3,)\n",
            "\n",
            "c.shape:\n",
            "(2, 3)\n",
            "\n",
            "d.shape:\n",
            "(1, 3)\n",
            "\n"
          ]
        }
      ],
      "source": [
        "print_obj(a.shape, \"a.shape\") ## 배열의 모양 // . shape\n",
        "## 배열의 모양? 몇 바이 몇??\n",
        "print_obj(b.shape, \"b.shape\") \n",
        "print_obj(c.shape, \"c.shape\")\n",
        "d = np.array([[1,2,3]]) ## [] 첫번째 차원, [[]] 두번째 차원,  (첫번째차원)by(두번째차원) 행렬, \n",
        "## 1by3행렬, 차원을 구분할때 대괄호 개수로 구분하자!\n",
        "print_obj(d.shape, \"d.shape\") #행렬 안에 행렬"
      ]
    },
    {
      "cell_type": "markdown",
      "source": [
        "- \"shape\"는 배열의 모양(배열의 모양(shape)은 각 차원에 존재하는 요소(값)의 수를 의미)을 알려준다. \n",
        "    - \"a\"는 1개의 요소로만 구성되어 아무 값도 표시되지 않으나 3개의 요소로 구성된 \"b\"의 출력값 \"(3,)\"은 3개의 행으로 b가 표시되고 있음을 알려준다. \"c\"의 출력인 \"(2,3)\"은 행은 2개, 열은 3개 있는 형태로 c가 표시됨을 알려준다. \n",
        "- \"b\"와 \"d\"는 어떤 차이가 있길래 결과가 틀릴까?\n",
        "    - np.array([1,2,3])이라고 표현하면 행의 갯수 3만 반환하지만,np.array([[1,2,3]])로 표현하면 1개의 행과 3개의 열로 구성된 행렬의 모양을 반환한다.  "
      ],
      "metadata": {
        "id": "JQNxI9ghDQ86"
      }
    },
    {
      "cell_type": "markdown",
      "metadata": {
        "id": "t5xSxIEfIfi7"
      },
      "source": [
        "### 텐서(Tensors) (N-dimensional array)"
      ]
    },
    {
      "cell_type": "code",
      "execution_count": null,
      "metadata": {
        "id": "tDZos0m6Ifi8"
      },
      "outputs": [],
      "source": [
        "d = np.array([[[1., 2., 3.], [4., 5., 6.]], [[7., 8., 9.], [10., 11., 12.]]])\n",
        "# 대괄호 3개 있으니까 3차원., 대괄호 개수 3개이상 텐서!! N개의 대괄호 : N차원 텐서다!\n",
        "# 텐서로 배열을 전부 표현 가능.\n",
        "e = np.array([[[[1., 2., 3.], [1., 2., 3.]], [[4., 5., 6.], [4., 5., 6.]]],\n",
        "              [[[7., 8., 9.], [7., 8., 9.]], [[10., 11., 12.], [10., 11., 12.]]]])\n",
        "# 대괄호 4개 4차원."
      ]
    },
    {
      "cell_type": "code",
      "execution_count": null,
      "metadata": {
        "id": "ldPIt6RqIfi9",
        "colab": {
          "base_uri": "https://localhost:8080/"
        },
        "outputId": "7e2b9ab0-72bb-46a1-b41e-07e597a7be9d"
      },
      "outputs": [
        {
          "output_type": "stream",
          "name": "stdout",
          "text": [
            "d:\n",
            "[[[ 1.  2.  3.]\n",
            "  [ 4.  5.  6.]]\n",
            "\n",
            " [[ 7.  8.  9.]\n",
            "  [10. 11. 12.]]]\n",
            "\n",
            "d.ndim:\n",
            "3\n",
            "\n",
            "d.shape:\n",
            "(2, 2, 3)\n",
            "\n",
            "e:\n",
            "[[[[ 1.  2.  3.]\n",
            "   [ 1.  2.  3.]]\n",
            "\n",
            "  [[ 4.  5.  6.]\n",
            "   [ 4.  5.  6.]]]\n",
            "\n",
            "\n",
            " [[[ 7.  8.  9.]\n",
            "   [ 7.  8.  9.]]\n",
            "\n",
            "  [[10. 11. 12.]\n",
            "   [10. 11. 12.]]]]\n",
            "\n",
            "e.ndim:\n",
            "4\n",
            "\n",
            "e.shape:\n",
            "(2, 2, 2, 3)\n",
            "\n"
          ]
        }
      ],
      "source": [
        "print_obj(d, \"d\")\n",
        "print_obj(d.ndim, \"d.ndim\")\n",
        "print_obj(d.shape, \"d.shape\")\n",
        "\n",
        "print_obj(e, \"e\")\n",
        "print_obj(e.ndim, \"e.ndim\")\n",
        "print_obj(e.shape, \"e.shape\")\n"
      ]
    },
    {
      "cell_type": "markdown",
      "source": [
        "- 스칼라 값은 0차원 텐서, 벡터는 1차원 텐서, 행렬은 2차원 텐서, 행렬의 배열은 3차원 텐서, 3차원 텐서의 배열(행렬의 배열의 배열)은 4차원 텐서이다. \n",
        "- N차원 텐서란 무엇인지 알아보자."
      ],
      "metadata": {
        "id": "Cu3zW3mnICFs"
      }
    },
    {
      "cell_type": "markdown",
      "source": [
        "#### 퀴즈 1"
      ],
      "metadata": {
        "id": "HV5baL2y_8Wr"
      }
    },
    {
      "cell_type": "code",
      "execution_count": null,
      "metadata": {
        "id": "1wlgmc2TIfjA"
      },
      "outputs": [],
      "source": [
        "# 퀴즈 1 : [[[1], [2], [3]], [[4], [5], [6]]]의 shape는 어떻게 되는가? *shape를 알아낼 수 있는 코드를 작성하여 본인의 답을 확인해보자!"
      ]
    },
    {
      "cell_type": "code",
      "source": [
        "a = np.array([[[1], [2], [3]], [[4], [5], [6]]])\n",
        "a.shape"
      ],
      "metadata": {
        "colab": {
          "base_uri": "https://localhost:8080/"
        },
        "id": "ywVwlI1Q_YTH",
        "outputId": "292d123c-c29a-418f-c5d6-c7591aa78bfc"
      },
      "execution_count": null,
      "outputs": [
        {
          "output_type": "execute_result",
          "data": {
            "text/plain": [
              "(2, 3, 1)"
            ]
          },
          "metadata": {},
          "execution_count": 5
        }
      ]
    },
    {
      "cell_type": "markdown",
      "metadata": {
        "id": "26Ci2uSxIfjB"
      },
      "source": [
        "### 넘파이 배열 정의 (Defining Numpy arrays)"
      ]
    },
    {
      "cell_type": "code",
      "execution_count": null,
      "metadata": {
        "id": "MyQEFi4YIfjB",
        "colab": {
          "base_uri": "https://localhost:8080/"
        },
        "outputId": "ae1eea54-8f06-4e13-f2f2-56d57802b029"
      },
      "outputs": [
        {
          "output_type": "execute_result",
          "data": {
            "text/plain": [
              "array([1., 1., 1., 1., 1., 1., 1., 1., 1., 1.])"
            ]
          },
          "metadata": {},
          "execution_count": 11
        }
      ],
      "source": [
        "a = np.ones(10)\n",
        "a\n",
        "## one 1이니까. ones라는 넘파이 안에 함수가 \n",
        "## 1이라는 성분으로 (10)개 만큼 배열을 만들어 주세요.\n",
        "# 실수형태로 들어가네!? 아하.\n",
        "# 1.0 1.0 1.0 ~~~(실수형태)"
      ]
    },
    {
      "cell_type": "code",
      "execution_count": null,
      "metadata": {
        "id": "yr7sjCz-IfjD",
        "colab": {
          "base_uri": "https://localhost:8080/"
        },
        "outputId": "c0f4ce31-0cd1-4367-c630-6c282380fd2b"
      },
      "outputs": [
        {
          "output_type": "execute_result",
          "data": {
            "text/plain": [
              "array([[0., 0., 0., 0., 0.],\n",
              "       [0., 0., 0., 0., 0.]])"
            ]
          },
          "metadata": {},
          "execution_count": 43
        }
      ],
      "source": [
        "a = np.zeros((2, 5))\n",
        "a\n",
        "### zero 0이니까. 0이라는 성분으로 (2*5)개 만큼 배열을 만들어 주세요.\n",
        "# 2 - by - 5 행렬형태\n",
        "# 실수형태로 들어가네!? 아하.\n",
        "# a = np.zeros((5, 2))\n",
        "# a"
      ]
    },
    {
      "cell_type": "code",
      "execution_count": null,
      "metadata": {
        "id": "OMTu-fXqIfjE",
        "colab": {
          "base_uri": "https://localhost:8080/"
        },
        "outputId": "979eaf51-c8e2-4ded-9d40-5f93a2e72ac6"
      },
      "outputs": [
        {
          "output_type": "execute_result",
          "data": {
            "text/plain": [
              "array([[5, 5, 5, 5, 5],\n",
              "       [5, 5, 5, 5, 5]])"
            ]
          },
          "metadata": {},
          "execution_count": 44
        }
      ],
      "source": [
        "a = np.full((2,5), 5)  ## 2바이5 행렬, 안에 5라는 성분(element)을 full\n",
        "\n",
        "# full((배열의모양),들어갈숫자)\n",
        "# 5를 2바이5 배열로 만들어주세요. 채워주세요.\n",
        "a\n"
      ]
    },
    {
      "cell_type": "code",
      "source": [
        "t = np.full((1,1,1), -1) \n",
        "print(t)\n",
        "print(t.ndim)\n",
        "print(t.shape)"
      ],
      "metadata": {
        "colab": {
          "base_uri": "https://localhost:8080/"
        },
        "id": "3Y9ZYphI14Uy",
        "outputId": "43ee18df-b636-469d-b864-e826474b5abb"
      },
      "execution_count": null,
      "outputs": [
        {
          "output_type": "stream",
          "name": "stdout",
          "text": [
            "[[[-1]]]\n",
            "3\n",
            "(1, 1, 1)\n"
          ]
        }
      ]
    },
    {
      "cell_type": "code",
      "execution_count": null,
      "metadata": {
        "id": "i0wjugbrIfjI",
        "colab": {
          "base_uri": "https://localhost:8080/"
        },
        "outputId": "f8713470-e2d5-4fea-a1ef-d36aa9f94897"
      },
      "outputs": [
        {
          "output_type": "execute_result",
          "data": {
            "text/plain": [
              "array([[[0.8374309 , 0.46090364, 0.72309436, 0.45962182],\n",
              "        [0.75438977, 0.66196074, 0.31476023, 0.94382825],\n",
              "        [0.50204677, 0.38753472, 0.06596258, 0.38041668]],\n",
              "\n",
              "       [[0.59729961, 0.62967142, 0.47510897, 0.8668941 ],\n",
              "        [0.65254097, 0.03582024, 0.76308989, 0.83315983],\n",
              "        [0.67123793, 0.67025914, 0.39855723, 0.13044837]]])"
            ]
          },
          "metadata": {},
          "execution_count": 49
        }
      ],
      "source": [
        "a = np.random.random((2, 3, 4))  ## 랜덤함수 -> 임의의 숫자\n",
        "a\n",
        "## 랜덤 실행할때마다 랜덤 숫자를 (소숫점 8째자리까지 보임. 실수형태)\n",
        "## np.random.random(배열의모양) \n",
        "## "
      ]
    },
    {
      "cell_type": "code",
      "execution_count": null,
      "metadata": {
        "id": "PgjwTCgXIfjJ",
        "colab": {
          "base_uri": "https://localhost:8080/"
        },
        "outputId": "849c62ee-159c-4336-de7f-18c46fddcdb6"
      },
      "outputs": [
        {
          "output_type": "execute_result",
          "data": {
            "text/plain": [
              "array([0, 1, 2, 3, 4, 5, 6, 7, 8, 9])"
            ]
          },
          "metadata": {},
          "execution_count": 23
        }
      ],
      "source": [
        "a = np.arange(10)  ## 숫자 배열 생성 np.arrange()  ## 0부터 시작!!\n",
        "a \n",
        "## 컴퓨터는 항상 0부터!! 중요!!\n",
        "## 10개짜리 배열을 생성해주세요. np.arrange\n",
        "## 정수형태"
      ]
    },
    {
      "cell_type": "code",
      "execution_count": null,
      "metadata": {
        "id": "JQn5obXxIfjK",
        "colab": {
          "base_uri": "https://localhost:8080/"
        },
        "outputId": "c31cf86a-d770-458c-913f-a3856a3fbd74"
      },
      "outputs": [
        {
          "output_type": "execute_result",
          "data": {
            "text/plain": [
              "array([0., 1., 2., 3., 4., 5., 6., 7., 8., 9.])"
            ]
          },
          "metadata": {},
          "execution_count": 17
        }
      ],
      "source": [
        "a = np.arange(10).astype(float)\n",
        "a\n",
        "#astype을 사용하여 \"float\"(실수) 자료형으로 a를 구성 \n",
        "#integer(int) : 정수 \n",
        "#아스키코드 : 형태를 지정\n",
        "#실수는 0. 이렇게 표현 : 실제로는 : 0.0, 1.0, 2.0, 3.0, 4.0, ~~~, ,9.0"
      ]
    },
    {
      "cell_type": "code",
      "execution_count": null,
      "metadata": {
        "id": "0VOKJfWpIfjK",
        "colab": {
          "base_uri": "https://localhost:8080/"
        },
        "outputId": "6b357d50-7041-485c-d71e-76a7c176aeb9"
      },
      "outputs": [
        {
          "output_type": "execute_result",
          "data": {
            "text/plain": [
              "array([[0, 1],\n",
              "       [2, 3],\n",
              "       [4, 5],\n",
              "       [6, 7],\n",
              "       [8, 9]])"
            ]
          },
          "metadata": {},
          "execution_count": 51
        }
      ],
      "source": [
        "a = np.arange(10).reshape((5,2))  ## reshape 기능!!! 1차원 배열을 2차원 5 by 2 형태로\n",
        "## 중요. 배열을 원하는 모양으로 바꿔서 만들자!! \n",
        "# b = np.arange(10).reshape((5,1)) ## 에러\n",
        "a  ## 5바이2 배열 형태를 출력, 들어갈 숫자가 (0 ~ 9) 10개 숫자를 넣음."
      ]
    },
    {
      "cell_type": "markdown",
      "source": [
        "#### 퀴즈 2"
      ],
      "metadata": {
        "id": "XHw_vkagAEqX"
      }
    },
    {
      "cell_type": "code",
      "execution_count": null,
      "metadata": {
        "id": "WzxJilZ6IfjL"
      },
      "outputs": [],
      "source": [
        "# 퀴즈 2: (4,3,2) 텐서를 만들고 0부터 23 숫자로 채우시오 (Create a 4-by-3-by-2 tensor filled with 0.0 to 23.0)\n",
        "\n",
        "# 힌트 . 4*3*2 = 24 // 24개 숫자 : 0 ~ 23까지죠. "
      ]
    },
    {
      "cell_type": "code",
      "source": [
        "a = np.arange(4*3*2).reshape((4, 3, 2))\n",
        "print_obj(a, \"a\")"
      ],
      "metadata": {
        "colab": {
          "base_uri": "https://localhost:8080/"
        },
        "id": "eL0C9oG4_1JG",
        "outputId": "1f58757d-8cae-4923-9391-4faaeafc632b"
      },
      "execution_count": null,
      "outputs": [
        {
          "output_type": "stream",
          "name": "stdout",
          "text": [
            "a:\n",
            "[[[ 0  1]\n",
            "  [ 2  3]\n",
            "  [ 4  5]]\n",
            "\n",
            " [[ 6  7]\n",
            "  [ 8  9]\n",
            "  [10 11]]\n",
            "\n",
            " [[12 13]\n",
            "  [14 15]\n",
            "  [16 17]]\n",
            "\n",
            " [[18 19]\n",
            "  [20 21]\n",
            "  [22 23]]]\n",
            "\n"
          ]
        }
      ]
    },
    {
      "cell_type": "markdown",
      "metadata": {
        "id": "pM9RkBE1IfjL"
      },
      "source": [
        "### 인덱스 (Indexing) & 슬라이싱 (Slicing)"
      ]
    },
    {
      "cell_type": "markdown",
      "source": [
        "**인덱싱**\n",
        "- 행렬의 인덱싱을 이해하기 위해서는 인덱스 번호와 저장 순서의 차이를 이해하여야 한다. \n",
        "    - 예를 들어 [a, b, c, d]의 4개의 값이 들어있는 리스트의 첫번째 저장요소는 a, 두 번째 저장요소는 b, 세번째 저장요소는 c이다. \n",
        "    - 그런데 인덱스라는 개념을 사용할 때는 첫번째 저장요소의 인덱스는 0, 두번째 저장요소의 인덱스는 1, i번째 저장요소의 인덱스는 i-1이다. \n",
        "\n",
        "**슬라이싱**\n",
        "\n",
        "- \":\"연산자를 이용한 인덱싱을 슬라이싱이라고 한다. 그런데 a[2:5]의 실행 결과를 살펴보자. \n",
        "    - 실제 반환된 값의 인덱스와 2:5는 어떤 관계에 있는가? a[2:5]를 실행하면 [2, 3, 4]가 반환되는데 반환된 2는 a의 세번째 값이므로 인덱스는 2(세번째 값), 반한된 3은 인덱스가 3(네번째 값), 반환된 4는 인덱스가 4(다섯번째 값)에 해당하는 값들이다. \n",
        "    - 그렇다면 \"a[2:5]\"라는 표현은 어떤 명령을 내리고 있다고 생각되는가? 2:5는 반환할 값들의 시작인덱스(2)와 종료인덱스(4)를 표현해야 하므로, 슬라이싱에서 **\":\"의 앞의 값이 시작인덱스, \":\"뒤의 값-1이 종료 인덱스를 의미**한다고 정리할 수 있다.\n",
        "\n",
        "- 슬라이싱 기호의 시작 인덱스와 종료 인덱스는 생략이 가능하다. \n",
        "\n",
        "    1.  \":\"기호 앞에 시작 인덱스를 생략하면 자동으로 시작 인덱스인 0으로 간주\n",
        "    2.   \":\" 기호 뒤에 종료 인덱스를 생략하면 자동으로 맨 마지막 인덱스로 간주\n",
        "    3.   \":\" 기호 앞 뒤를 모두 생략하면 시작부터 끝\n",
        "\n",
        "**\"-k\"의 효과**\n",
        "\n",
        "- \"a[-3]\"의 출력 결과는 어떻게 해석할 수 있을까? a[-3]은 7을 출력하는데 7은 8번째 숫자 혹은 인덱스 7에 해당하는 값이다. \n",
        "- 따라서 인덱싱에서 \"-k\"는 \"원소의 갯수 - k\"의 인덱스에 해당하는 값을 나타낸다고 해석할 수 있다. \"-k\"가 \":\"기기호의 뒤에서 사용될 때는 \"원소의 개수 -k - 1\"의 인덱스를 표시하는 것에 주의\n",
        "\n",
        "**간격의 부여**\n",
        "\n",
        "- 파이썬 슬라이싱에서 \":\"기호가 2개 사용되는 경우는 인덱스에 간격을 부여하는 경우이다. \"a[0:10:2]\"와 \"a[2:6:3]\"의 동작 결과를 통해 간격의 동작을 추정해보자. \n",
        "- 결과적으로는 \"시작인덱스:종료값:간격\"으로 명령이 전달됨을 알 수 있다.간격을 부여할 때는 \"음의 간격\"을 부여할 수도 있다.\n",
        "\n",
        "**음의 간격을 부여할 때는** \n",
        "1. \"시작인덱스:종료값:**음수**\"의 형태로 표시됨에 주의해야 하며 \n",
        "2. \"종료값\"과 반환된 값의 인덱스사이의 관계에 주의하여야 한다. \n",
        "- 어떤 관계가 존재하는가? 종료값 +1이 실제 반환되는 값의 인덱스이다."
      ],
      "metadata": {
        "id": "8e8OzjohMKLJ"
      }
    },
    {
      "cell_type": "code",
      "execution_count": null,
      "metadata": {
        "id": "oMuj9a39IfjM",
        "colab": {
          "base_uri": "https://localhost:8080/"
        },
        "outputId": "836213a6-945f-42b1-f700-433c990fead5"
      },
      "outputs": [
        {
          "output_type": "stream",
          "name": "stdout",
          "text": [
            "a:\n",
            "[0 1 2 3 4 5 6 7 8 9]\n",
            "\n",
            "a[0]:\n",
            "0\n",
            "\n",
            "a[1]:\n",
            "1\n",
            "\n",
            "a[-1]:\n",
            "9\n",
            "\n",
            "a[-3]:\n",
            "7\n",
            "\n",
            "a[0:10]:\n",
            "[0 1 2 3 4 5 6 7 8 9]\n",
            "\n",
            "a[0:]:\n",
            "[0 1 2 3 4 5 6 7 8 9]\n",
            "\n",
            "a[:10]:\n",
            "[0 1 2 3 4 5 6 7 8 9]\n",
            "\n",
            "a[:]:\n",
            "[0 1 2 3 4 5 6 7 8 9]\n",
            "\n",
            "a[7:]:\n",
            "[7 8 9]\n",
            "\n",
            "a[:5]:\n",
            "[0 1 2 3 4]\n",
            "\n",
            "a[2:5]:\n",
            "[2 3 4]\n",
            "\n",
            "a[0:10:2]:\n",
            "[0 2 4 6 8]\n",
            "\n",
            "a[0:10:3]:\n",
            "[0 3 6 9]\n",
            "\n",
            "a[2:6:3]:\n",
            "[2 5]\n",
            "\n",
            "a[::-1]:\n",
            "[9 8 7 6 5 4 3 2 1 0]\n",
            "\n",
            "a[8:5:-1]:\n",
            "[8 7 6]\n",
            "\n",
            "a[8:5]:\n",
            "[]\n",
            "\n"
          ]
        }
      ],
      "source": [
        "# 벡터의 인덱스와 슬라이싱 (Indexing and slicing a vector)\n",
        "## 중요!!!\n",
        "a = np.arange(10)\n",
        "print_obj(a, \"a\")\n",
        "# a: // 인덱스란? : (사전에서) 의미가 목차, 순서, 색인 : 한마디로 몇번째냐?\n",
        "# [0 1 2 3 4 5 6 7 8 9]\n",
        "## 인덱스 -> 변수[몇번째]로 숫자를 찾아온다.\n",
        "print_obj(a[0], \"a[0]\") ##  0\n",
        "print_obj(a[1], \"a[1]\")  ##  1\n",
        "print_obj(a[-1], \"a[-1]\")  ## 9\n",
        "print_obj(a[-3], \"a[-3]\")  ## 7\n",
        "\n",
        "## 콜론 -> 범위, 그래서 변수[몇번째:몇번째]로 뭐부터 뭐까지!! 찾아오세요.\n",
        "## 아래는 전부 동일하다.\n",
        "print_obj(a[0:10], \"a[0:10]\") ## : 콜론 -> 0 ~ 9까지\n",
        "# 0이상 10 미만!! 0<= <10\n",
        "print_obj(a[0:], \"a[0:]\") ## : 0 ~ 무한대  0번째 이상\n",
        "print_obj(a[:],\"a[:]\") ## 인덱스 전부 포함. 그자체! ## 무한대 ~ 무한대 다포함!!\n",
        "print_obj(a[:10], \"a[:10]\") ## 10번째 미만\n",
        "\n",
        "\n",
        "# 퀴즈 3: a[-4:]는 무엇인가?  ## \n",
        "# 퀴즈 4: a[:-8]는 무엇인가?  ## 해보세요!!\n",
        "\n",
        "print_obj(a[7:], \"a[7:]\")  ## 7번째 이상\n",
        "print_obj(a[:5], \"a[:5]\")  ## 5번째 미만\n",
        "print_obj(a[2:5], \"a[2:5]\")  ## 2번째 이상 5번째 미만\n",
        "\n",
        "## 콜론콜론 두번째 콜론 뒤에 숫자! : 스텝\n",
        "print_obj(a[0:10:2], \"a[0:10:2]\") ## 0,2,4,6,8\n",
        "print_obj(a[0:10:3], \"a[0:10:3]\") # 3스텝\n",
        "print_obj(a[2:6:3], \"a[2:6:3]\") ## \n",
        "\n",
        "print_obj(a[::-1], \"a[::-1]\") ## 중요!!! 거꾸로!! 순서를 9 8 7 ~~~\n",
        "print_obj(a[8:5:-1], \"a[8:5:-1]\")\n",
        "print_obj(a[8:5], \"a[8:5]\")\n",
        "\n",
        "# 퀴즈 5 : a를 이용하여 [9, 6, 3]를 생성하시오."
      ]
    },
    {
      "cell_type": "markdown",
      "source": [
        "#### 퀴즈 3,4"
      ],
      "metadata": {
        "id": "I-r_PqinALVW"
      }
    },
    {
      "cell_type": "code",
      "source": [
        "# 퀴즈 3: a[-4:]는 무엇인가?  ## \n",
        "# 퀴즈 4: a[:-8]는 무엇인가?  ## 해보세요!!"
      ],
      "metadata": {
        "id": "gTIsCxfwAKlS"
      },
      "execution_count": null,
      "outputs": []
    },
    {
      "cell_type": "code",
      "source": [
        "a = np.arange(10)\n",
        "print_obj(a[-4:], \"a[-4:], 3번\")"
      ],
      "metadata": {
        "colab": {
          "base_uri": "https://localhost:8080/"
        },
        "id": "tQBs5frHAOjD",
        "outputId": "f3234895-9c97-49ec-cd3e-41bd999be134"
      },
      "execution_count": null,
      "outputs": [
        {
          "output_type": "stream",
          "name": "stdout",
          "text": [
            "a[-4:]:\n",
            "[6 7 8 9]\n",
            "\n"
          ]
        }
      ]
    },
    {
      "cell_type": "code",
      "source": [
        "a = np.arange(10)\n",
        "print_obj(a[:-8], \"a[:-8], 4번\")\n",
        "## 인덱싱이 헷갈릴 수 있지만 익숙해지자!"
      ],
      "metadata": {
        "colab": {
          "base_uri": "https://localhost:8080/"
        },
        "id": "6Dm7dLXQQYWk",
        "outputId": "dfe4cede-c7d8-42ce-f506-502433bc2c37"
      },
      "execution_count": null,
      "outputs": [
        {
          "output_type": "stream",
          "name": "stdout",
          "text": [
            "a[:-8]:\n",
            "[0 1]\n",
            "\n"
          ]
        }
      ]
    },
    {
      "cell_type": "markdown",
      "source": [
        "#### 퀴즈 5"
      ],
      "metadata": {
        "id": "New8cb7ALr7B"
      }
    },
    {
      "cell_type": "code",
      "source": [
        "# 퀴즈 5 : a를 이용하여 [9, 6, 3]를 생성하시오."
      ],
      "metadata": {
        "id": "mwH8mfKUW0ga"
      },
      "execution_count": null,
      "outputs": []
    },
    {
      "cell_type": "code",
      "source": [
        "a = np.arange(10)\n",
        "print_obj(a[9:0:-3], \"a[9:0:-3]\")"
      ],
      "metadata": {
        "colab": {
          "base_uri": "https://localhost:8080/"
        },
        "id": "w7tXKJ9_C0Zs",
        "outputId": "68d4fbd8-1b8d-437b-bbb8-58dc13b7c623"
      },
      "execution_count": null,
      "outputs": [
        {
          "output_type": "stream",
          "name": "stdout",
          "text": [
            "a[9:0:-3]:\n",
            "[9 6 3]\n",
            "\n"
          ]
        }
      ]
    },
    {
      "cell_type": "code",
      "execution_count": null,
      "metadata": {
        "id": "xu7grp2mIfjO",
        "colab": {
          "base_uri": "https://localhost:8080/"
        },
        "outputId": "4b60f7d9-199c-453c-ca3f-fab96e4bdac1"
      },
      "outputs": [
        {
          "output_type": "stream",
          "name": "stdout",
          "text": [
            "a:\n",
            "[[0 1 2]\n",
            " [3 4 5]\n",
            " [6 7 8]]\n",
            "\n",
            "a[0][0]:\n",
            "0\n",
            "\n",
            "a[0,0]:\n",
            "0\n",
            "\n",
            "a[1,1]:\n",
            "4\n",
            "\n"
          ]
        }
      ],
      "source": [
        "# 행렬의 인덱스 (Indexing a matrix)\n",
        "a = np.arange(9).reshape((3,3))\n",
        "print_obj(a, \"a\")\n",
        "print_obj(a[0][0], \"a[0][0]\")\n",
        "print_obj(a[0,0], \"a[0,0]\")\n",
        "print_obj(a[1,1], \"a[1,1]\")\n",
        "\n"
      ]
    },
    {
      "cell_type": "markdown",
      "source": [
        "#### 퀴즈 6,7,8"
      ],
      "metadata": {
        "id": "j50iQh2qAXp3"
      }
    },
    {
      "cell_type": "code",
      "source": [
        "# 퀴즈 6: 마지막 행(row)을 어떻게 접근하는가?\n",
        "# 퀴즈 7: 두번째 열(column)을 어떻게 접근하는가?(Hint : 모든 행에서 2번째 저장된 값에 접근하면 된다. 모든 행을 표시하는 인덱싱 형태는 무엇일까?)\n",
        "# 퀴즈 8: a를 이용해서 [8,5]를 생성하시오(Hint: 먼저 인덱싱을 이용하여 8, 5를 찾은 후 [8,5]형태로 출력할 방법을 고민해보자)."
      ],
      "metadata": {
        "id": "wDHdRJGkQffm"
      },
      "execution_count": null,
      "outputs": []
    },
    {
      "cell_type": "code",
      "source": [
        "a = np.arange(9).reshape((3,3))\n",
        "print_obj(a, \"a\")\n",
        "print_obj(a[2,:], \"a[2,:], 6번\")"
      ],
      "metadata": {
        "colab": {
          "base_uri": "https://localhost:8080/"
        },
        "id": "cQiq76uEA2ZK",
        "outputId": "ad873a78-de64-4b08-b512-2a50c8491931"
      },
      "execution_count": null,
      "outputs": [
        {
          "output_type": "stream",
          "name": "stdout",
          "text": [
            "a:\n",
            "[[0 1 2]\n",
            " [3 4 5]\n",
            " [6 7 8]]\n",
            "\n",
            "a[2,:], 6번:\n",
            "[6 7 8]\n",
            "\n"
          ]
        }
      ]
    },
    {
      "cell_type": "code",
      "source": [
        "a = np.arange(9).reshape((3,3))\n",
        "print_obj(a, \"a\")\n",
        "print_obj(a[:,1], \"a[:,1], 7번\")"
      ],
      "metadata": {
        "colab": {
          "base_uri": "https://localhost:8080/"
        },
        "id": "HnixyJnVBEQf",
        "outputId": "f5edc571-20f1-475c-d9ff-49e95807d0ef"
      },
      "execution_count": null,
      "outputs": [
        {
          "output_type": "stream",
          "name": "stdout",
          "text": [
            "a:\n",
            "[[0 1 2]\n",
            " [3 4 5]\n",
            " [6 7 8]]\n",
            "\n",
            "a[:,1], 7번:\n",
            "[1 4 7]\n",
            "\n"
          ]
        }
      ]
    },
    {
      "cell_type": "code",
      "source": [
        "a = np.arange(9).reshape((3,3))\n",
        "print_obj(a, \"a\")\n",
        "print_obj(a[1:3,2][::-1], \"a[1:3,2][::-1], 8번\")"
      ],
      "metadata": {
        "colab": {
          "base_uri": "https://localhost:8080/"
        },
        "id": "MV-StqFsBOEz",
        "outputId": "76843da3-a05c-465c-ea0f-12fa583c8e6c"
      },
      "execution_count": null,
      "outputs": [
        {
          "output_type": "stream",
          "name": "stdout",
          "text": [
            "a:\n",
            "[[0 1 2]\n",
            " [3 4 5]\n",
            " [6 7 8]]\n",
            "\n",
            "a[1:3,2][::-1], 8번:\n",
            "[8 5]\n",
            "\n"
          ]
        }
      ]
    },
    {
      "cell_type": "code",
      "source": [
        "_2D = np.array([[1, 2, 3, 4], [5, 6, 7, 8], [9, 10, 11, 12]])\n",
        "print(_2D)\n",
        "# 퀴즈+. 인덱싱 슬라이싱을 활용해서 각각 출력하시오. [12 11 10  9] ? / [12  8  4] ?\n",
        "print(\"\\n\",'_2D[-1, :][::-1] :',\"\\n\", _2D[-1, :][::-1])\n",
        "print(\"\\n\",'_2D[:,-1][::-1]',\"\\n\", _2D[:,-1][::-1])"
      ],
      "metadata": {
        "colab": {
          "base_uri": "https://localhost:8080/"
        },
        "id": "9lG0B0OFXQ-K",
        "outputId": "7760dc34-3fb0-471b-e652-f4d4e8a82332"
      },
      "execution_count": null,
      "outputs": [
        {
          "output_type": "stream",
          "name": "stdout",
          "text": [
            "[[ 1  2  3  4]\n",
            " [ 5  6  7  8]\n",
            " [ 9 10 11 12]]\n",
            "\n",
            " _2D[-1, :][::-1] : \n",
            " [12 11 10  9]\n",
            "\n",
            " _2D[:,-1][::-1] \n",
            " [12  8  4]\n"
          ]
        }
      ]
    },
    {
      "cell_type": "code",
      "execution_count": null,
      "metadata": {
        "id": "OhhtWWK5IfjP",
        "colab": {
          "base_uri": "https://localhost:8080/"
        },
        "outputId": "0911100f-b515-4f10-c041-14ebf38d328f"
      },
      "outputs": [
        {
          "output_type": "stream",
          "name": "stdout",
          "text": [
            "a:\n",
            "[[[ 0  1]\n",
            "  [ 2  3]\n",
            "  [ 4  5]]\n",
            "\n",
            " [[ 6  7]\n",
            "  [ 8  9]\n",
            "  [10 11]]\n",
            "\n",
            " [[12 13]\n",
            "  [14 15]\n",
            "  [16 17]]\n",
            "\n",
            " [[18 19]\n",
            "  [20 21]\n",
            "  [22 23]]]\n",
            "\n",
            "a[2, 1, 0]:\n",
            "14\n",
            "\n"
          ]
        }
      ],
      "source": [
        "# 3차원 텐서의 인덱스와 슬라이싱(Indexing and slicing a 3D tensor)\n",
        "a = np.arange(4*3*2).reshape((4, 3, 2))\n",
        "print_obj(a, \"a\")\n",
        "print_obj(a[2, 1, 0], \"a[2, 1, 0]\")  \n",
        "## 대괄호 개수로 인덱스를 잘 파악하자!\n"
      ]
    },
    {
      "cell_type": "markdown",
      "source": [
        "#### 퀴즈 9,10,11"
      ],
      "metadata": {
        "id": "K_1Cr9s_MUY6"
      }
    },
    {
      "cell_type": "code",
      "source": [
        "# 퀴즈 9: a[0]은 무엇인가?\n",
        "# 퀴즈 10: a[0, 1]은 무엇인가?\n",
        "# 퀴즈 11: [[0, 2, 4], [6, 8, 10]] 를 생성하시오 (Hint : [0, 2, 4]는 무엇일까? [0,2,4]를 출력할 수 있는 방법은 무엇일까?)."
      ],
      "metadata": {
        "id": "2T4U9rCZQddu"
      },
      "execution_count": null,
      "outputs": []
    },
    {
      "cell_type": "code",
      "source": [
        "print_obj(a[0], \"a[0]\")  \n",
        "print_obj(a[0, 1], \"a[0, 1]\")  \n",
        "print_obj(a[0][:,:1], \"a[0][:,:1]\")  \n",
        "print_obj(a[0][0:3,0], \"a[0][0:3,0]\")\n",
        "print_obj(a[0:2][:,:,:1], \"a[0:2][:,:,:1]\")  \n",
        "# shape, ndim 을 확인해보자."
      ],
      "metadata": {
        "colab": {
          "base_uri": "https://localhost:8080/"
        },
        "id": "GqbjRqajMe-o",
        "outputId": "e37a7257-ba7a-403b-ad3e-b6c4c7793fbf"
      },
      "execution_count": null,
      "outputs": [
        {
          "output_type": "stream",
          "name": "stdout",
          "text": [
            "a[0]:\n",
            "[[0 1]\n",
            " [2 3]\n",
            " [4 5]]\n",
            "\n",
            "a[0, 1]:\n",
            "[2 3]\n",
            "\n",
            "a[0][:,:1]:\n",
            "[[0]\n",
            " [2]\n",
            " [4]]\n",
            "\n",
            "a[0][0:3,0]:\n",
            "[0 2 4]\n",
            "\n",
            "a[0:2][:,:,:1]:\n",
            "[[[ 0]\n",
            "  [ 2]\n",
            "  [ 4]]\n",
            "\n",
            " [[ 6]\n",
            "  [ 8]\n",
            "  [10]]]\n",
            "\n"
          ]
        }
      ]
    },
    {
      "cell_type": "code",
      "execution_count": null,
      "metadata": {
        "id": "HWqkldvxIfjQ",
        "colab": {
          "base_uri": "https://localhost:8080/"
        },
        "outputId": "72319dbe-dbac-44f9-e896-a83fc33171a5"
      },
      "outputs": [
        {
          "output_type": "stream",
          "name": "stdout",
          "text": [
            "a:\n",
            "[[0 1]\n",
            " [2 3]\n",
            " [4 5]]\n",
            "\n",
            "idx:\n",
            "[[ True False]\n",
            " [ True False]\n",
            " [ True False]]\n",
            "\n"
          ]
        }
      ],
      "source": [
        "# 조건이 있는 인덱스 (Conditional indexing)\n",
        "a = np.arange(3*2).reshape((3,2))\n",
        "print_obj(a, \"a\")\n",
        "\n",
        "idx = a % 2 == 0  ## 2로 나눈다. % 나누기, \"==\" 나머지 0 \n",
        "# 2로 나눴을때 0으로 떨어지는가? 나머지가 0인가?\n",
        "## 조건문의 개념!!! 참True과 거짓False으로 출력 -> 조건문!!\n",
        "print_obj(idx, \"idx\")\n",
        "\n"
      ]
    },
    {
      "cell_type": "markdown",
      "source": [
        "#### 퀴즈 12"
      ],
      "metadata": {
        "id": "zK7nvAo_QNuz"
      }
    },
    {
      "cell_type": "code",
      "source": [
        "# 퀴즈 12: a를 이용하여 [3, 4, 5] 를 생성하시오."
      ],
      "metadata": {
        "id": "fhVFNkUYQbfw"
      },
      "execution_count": null,
      "outputs": []
    },
    {
      "cell_type": "code",
      "source": [
        "a = np.arange(3*2).reshape((3,2))\n",
        "print_obj(a, \"a\")\n",
        "\n",
        "idx = a > 2   \n",
        "print_obj(a[idx], \"a[idx]\")"
      ],
      "metadata": {
        "colab": {
          "base_uri": "https://localhost:8080/"
        },
        "id": "BfH7h1gOPUNa",
        "outputId": "871efb8c-4e20-4ebf-9841-8af5b7c5320f"
      },
      "execution_count": null,
      "outputs": [
        {
          "output_type": "stream",
          "name": "stdout",
          "text": [
            "a:\n",
            "[[0 1]\n",
            " [2 3]\n",
            " [4 5]]\n",
            "\n",
            "a[idx]:\n",
            "[3 4 5]\n",
            "\n"
          ]
        }
      ]
    },
    {
      "cell_type": "markdown",
      "source": [
        "**불리언 인덱싱**\n",
        "\n",
        "- 불리언 인덱싱은 조건식을 이용한 인덱싱이다. 예를 들어 위의 코드에서는 \"a%2==0\"이라는 코드를 통해 a의 원소 중 2의 배수에 해당하는 원소를 검색하였다. 사실 idx에는 a%2==0을 만족하거나 만족하지 않는 원소에 대하여 True, False값이 저장된다(출력 결과 참조). 이제 \"a[idx]\"라는 명령을 사용하면 \"a%2==0\"에 해당하는 값이 출력된다. print(a[idx])의 결과를 확인해보자. \n",
        "\n",
        "- 퀴즈 12의 경우 a의 원소 중 2보다 큰 값을 찾으면 된다. 따라서 예제 코드에서 idx가 2보다 큰 값에 대한 테스트 의미를 표시하도록 예제 코드를 변경하면 [3, 4, 5]를 생성할 수 있다."
      ],
      "metadata": {
        "id": "X-uO3W1Ybew-"
      }
    },
    {
      "cell_type": "code",
      "execution_count": null,
      "metadata": {
        "id": "Wk1DIRHmIfjU",
        "colab": {
          "base_uri": "https://localhost:8080/"
        },
        "outputId": "6a907767-241b-484c-cd61-348b50c2f428"
      },
      "outputs": [
        {
          "output_type": "stream",
          "name": "stdout",
          "text": [
            "a[idx]:\n",
            "[0 2 3]\n",
            "\n",
            "a[idx2]:\n",
            "[1 2 3]\n",
            "\n"
          ]
        }
      ],
      "source": [
        "# 벡터로 부터 특정 요소를 추출하는 것(Taking specific elements from a vector)\n",
        "a = np.arange(10)\n",
        "idx = [0, 2, 3]\n",
        "idx2 = [1,2,3]\n",
        "\n",
        "## 텐서의 성분의 위치를 변수로 idx로 지정해서 \n",
        "print_obj(a[idx], \"a[idx]\")\n",
        "\n",
        "print_obj(a[idx2], \"a[idx2]\")\n",
        "\n",
        "## 원하는 성분을 뽑아냈구나."
      ]
    },
    {
      "cell_type": "code",
      "execution_count": null,
      "metadata": {
        "id": "Gqz5VjJoIfjX",
        "colab": {
          "base_uri": "https://localhost:8080/"
        },
        "outputId": "6c1e728e-6cce-4b99-8377-573385750bf3"
      },
      "outputs": [
        {
          "output_type": "stream",
          "name": "stdout",
          "text": [
            "a:\n",
            "[[ 0  1  2  3]\n",
            " [ 4  5  6  7]\n",
            " [ 8  9 10 11]\n",
            " [12 13 14 15]\n",
            " [16 17 18 19]\n",
            " [20 21 22 23]]\n",
            "\n",
            "a[idx]:\n",
            "[[ 0  2  3]\n",
            " [ 4  6  7]\n",
            " [ 8 10 11]\n",
            " [12 14 15]\n",
            " [16 18 19]\n",
            " [20 22 23]]\n",
            "\n",
            "a[idx]:\n",
            "[[ 0  1  2  3]\n",
            " [ 8  9 10 11]\n",
            " [12 13 14 15]]\n",
            "\n"
          ]
        }
      ],
      "source": [
        "# 텐서로 부터 특정 요소를 추출하는 것(Taking specific elements from a tensor)\n",
        "a = np.arange(24).reshape((6,4))\n",
        "print_obj(a, \"a\")\n",
        "\n",
        "print_obj(a[:,[0, 2, 3]], \"a[idx]\")  ## 열 몇번째? 0,2,3번째 열의 성분들/  다가져와(콜론).\n",
        "print_obj(a[[0, 2, 3], :], \"a[idx]\") ## 0,2,3번째 행의 성분들을 다 가져와.\n",
        "## 심화.\n",
        "#idx = ((0,0,1,5),(1,2,0,3))\n",
        "#print_obj(a[idx], \"tuple indexing\")\n",
        "#idx = np.array([[0,0,1,5],[1,2,0,3]])\n",
        "#print_obj(a[idx], \"ndarray indexing\")"
      ]
    },
    {
      "cell_type": "markdown",
      "metadata": {
        "id": "e0tGjyn6IfjY"
      },
      "source": [
        "### 수학적 연산 (Math Operations)"
      ]
    },
    {
      "cell_type": "code",
      "execution_count": null,
      "metadata": {
        "id": "JVn_sZg9IfjY"
      },
      "outputs": [],
      "source": [
        "# 기본 연산(Basic operations)\n",
        "a = np.arange(6).reshape((3, 2))  ## 배열\n",
        "b = np.ones((3, 2))  ## 3바이2 1로구성된 성분. 배열\n",
        "print_obj(a, \"a\")\n",
        "print_obj(b, \"b\")\n",
        "## 넘파이 배열의 텐서들은 수학적 연산이 가능해진다.\n",
        "# +, -, *, /\n",
        "print_obj(a+b, \"a+b\")\n",
        "print_obj(a-b, \"a-b\")\n",
        "print_obj(a*b, \"a*b\")  # Hadamard product라고 함  ## 컴퓨터 학술용어.\n",
        "print_obj(a/b, \"a/b\")"
      ]
    },
    {
      "cell_type": "markdown",
      "source": [
        "- 행렬의 곱은 NXM의 행렬과 MXK의 행렬을 곱하면 NXK의 행렬이 산출되다고 학습하였을 것이다. 그렇다면 상기 예제의 코드는 어떤 곱셈을 하고 있을까? \n",
        "- 상기 코드에서는 3X2 행렬과 3X2 행렬을 곱하는데, 이것은 2장에서 배운 행렬곱과 맞지 않는다. \n",
        "- 실행 결과를 비교하면 금방 알 수 있지만 \"*\"기호와 \"/\"기호를 사용하면 동일한 크기의 행렬에 대하여 A[i,j]와 B[i,j]에 대하여 원소별로 곱하기를 하거나 나누기를 한 결과를 얻게 된다\n",
        "**원소별로 곱하는 이런 연산을 Hadamard product라고 한다.성분의 동일한 위치끼리 곱하는 특별한 방법이다.*\n",
        "\n",
        "- 2장에서 배운 행렬의 곱(NXM의 행렬과 MXK의 행렬을 곱하면 NXK의 행렬이 산출되는 경우)은 numpy의 matmul함수를 이용하거나 \"@\"연산자로 표현한다. **\"@\"연산자로 표현하는 행렬의 곱셈은 노트의 하단에 설명되어 있다. matmul도 함께 알아두자.*"
      ],
      "metadata": {
        "id": "Zr8PIKuceeV-"
      }
    },
    {
      "cell_type": "code",
      "execution_count": null,
      "metadata": {
        "id": "8rcxDE-yIfjZ",
        "colab": {
          "base_uri": "https://localhost:8080/"
        },
        "outputId": "54605502-72f3-4de9-8f19-79ea8511552b"
      },
      "outputs": [
        {
          "output_type": "stream",
          "name": "stdout",
          "text": [
            "a:\n",
            "[[0 1]\n",
            " [2 3]\n",
            " [4 5]]\n",
            "\n",
            "a.sum():\n",
            "15\n",
            "\n",
            "a.sum(axis=0):\n",
            "[6 9]\n",
            "\n",
            "a.sum(axis=1):\n",
            "[1 5 9]\n",
            "\n",
            "a.mean():\n",
            "2.5\n",
            "\n",
            "a.max():\n",
            "5\n",
            "\n",
            "a.min():\n",
            "0\n",
            "\n"
          ]
        }
      ],
      "source": [
        "# Unary 연산 (Unary operations)\n",
        "a = np.arange(6).reshape((3,2))\n",
        "print_obj(a, \"a\")\n",
        "\n",
        "print_obj(a.sum(), \"a.sum()\") #summation. 축을 중심으로 성분을 더할 수 있다.\n",
        "print_obj(a.sum(axis=0), \"a.sum(axis=0)\")  ## 축 axis 첫번째 축 0\n",
        "print_obj(a.sum(axis=1), \"a.sum(axis=1)\")  ## 두번째 축 1\n",
        "\n",
        "print_obj(a.mean(), \"a.mean()\") # 평균\n",
        "print_obj(a.max(), \"a.max()\") # 최대\n",
        "print_obj(a.min(), \"a.min()\") # 최소\n",
        "\n"
      ]
    },
    {
      "cell_type": "markdown",
      "source": [
        "##### 퀴즈 13"
      ],
      "metadata": {
        "id": "q0swnrRlQkGl"
      }
    },
    {
      "cell_type": "code",
      "source": [
        "# 퀴즈 13: a = np.arange(24).reshape((2,3,4))가 주어졌을 때, 마지막 차원의 합의 평균은 얼마인가? (what is the mean of the sum w.r.t to the last dimension?)\n",
        "# Hint : 퀴즈 13은 주어진 텐서에서 원하는 값들을 인덱싱한 후 mean()함수를 적용하면 된다."
      ],
      "metadata": {
        "id": "xgItY9WlQnWR"
      },
      "execution_count": null,
      "outputs": []
    },
    {
      "cell_type": "code",
      "source": [
        "a = np.arange(24).reshape((2,3,4))\n",
        "print_obj(a, \"a\")\n",
        "\n",
        "print_obj(a.sum(axis=-1), \"a.sum(axis=-1)\")   \n",
        "M = a.sum(axis=-1)\n",
        "print_obj(M.mean(), \"M.mean()\")\n"
      ],
      "metadata": {
        "colab": {
          "base_uri": "https://localhost:8080/"
        },
        "id": "wApuIoaSQjav",
        "outputId": "37f48cf9-48e9-4684-a203-ddd48bed9419"
      },
      "execution_count": null,
      "outputs": [
        {
          "output_type": "stream",
          "name": "stdout",
          "text": [
            "a:\n",
            "[[[ 0  1  2  3]\n",
            "  [ 4  5  6  7]\n",
            "  [ 8  9 10 11]]\n",
            "\n",
            " [[12 13 14 15]\n",
            "  [16 17 18 19]\n",
            "  [20 21 22 23]]]\n",
            "\n",
            "a.sum(axis=-1):\n",
            "[[ 6 22 38]\n",
            " [54 70 86]]\n",
            "\n",
            "M.mean():\n",
            "46.0\n",
            "\n"
          ]
        }
      ]
    },
    {
      "cell_type": "code",
      "execution_count": null,
      "metadata": {
        "id": "7_bAba33Ifja",
        "colab": {
          "base_uri": "https://localhost:8080/"
        },
        "outputId": "ba55558b-51a4-4e68-ff83-a59fd3c7a448"
      },
      "outputs": [
        {
          "output_type": "stream",
          "name": "stdout",
          "text": [
            "a:\n",
            "[0. 1. 2.]\n",
            "\n",
            "b:\n",
            "[1. 1. 1.]\n",
            "\n",
            "a dot b:\n",
            "3.0\n",
            "\n"
          ]
        }
      ],
      "source": [
        "# 벡터 내적(Vector dot product)\n",
        "a = np.arange(3).astype('float')\n",
        "b = np.ones(3)\n",
        "print_obj(a, \"a\")\n",
        "print_obj(b, \"b\")\n",
        "\n",
        "print_obj(np.dot(a, b), \"a dot b\")  ## 닷 프로덕트 : 내적 기능이 있다."
      ]
    },
    {
      "cell_type": "code",
      "execution_count": null,
      "metadata": {
        "id": "f9Z3MGTwIfjc",
        "colab": {
          "base_uri": "https://localhost:8080/"
        },
        "outputId": "81163311-509f-489c-cbe1-33ccda226852"
      },
      "outputs": [
        {
          "output_type": "stream",
          "name": "stdout",
          "text": [
            "a:\n",
            "[[0 1]\n",
            " [2 3]\n",
            " [4 5]]\n",
            "\n",
            "b:\n",
            "[[1. 1. 1.]\n",
            " [1. 1. 1.]]\n",
            "\n",
            "a dot b:\n",
            "[[1. 1. 1.]\n",
            " [5. 5. 5.]\n",
            " [9. 9. 9.]]\n",
            "\n",
            "a @ b:\n",
            "[[1. 1. 1.]\n",
            " [5. 5. 5.]\n",
            " [9. 9. 9.]]\n",
            "\n",
            "matmul(a,b):\n",
            "[[1. 1. 1.]\n",
            " [5. 5. 5.]\n",
            " [9. 9. 9.]]\n",
            "\n"
          ]
        }
      ],
      "source": [
        "# 행렬 곱 연산 (Matrix dot product <-> matrix multiplication)\n",
        "a = np.arange(6).reshape((3, 2))\n",
        "b = np.ones((2, 3))\n",
        "print_obj(a, \"a\")\n",
        "print_obj(b, \"b\")\n",
        "\n",
        "print_obj(np.dot(a,b), \"a dot b\")\n",
        "print_obj(a@b, \"a @ b\")   ## 골뱅이 행렬의 일반적인 곱셈!!\n",
        "print_obj(np.matmul(a,b), \"matmul(a,b)\")   ## 맷뮬 행렬의 일반적인 곱셈!!"
      ]
    },
    {
      "cell_type": "code",
      "execution_count": null,
      "metadata": {
        "id": "V_EWfc0PIfjf",
        "colab": {
          "base_uri": "https://localhost:8080/"
        },
        "outputId": "19c136fe-26d1-4bc8-8158-6ef87413d477"
      },
      "outputs": [
        {
          "output_type": "stream",
          "name": "stdout",
          "text": [
            "a:\n",
            "[[[ 0  1]\n",
            "  [ 2  3]\n",
            "  [ 4  5]]\n",
            "\n",
            " [[ 6  7]\n",
            "  [ 8  9]\n",
            "  [10 11]]\n",
            "\n",
            " [[12 13]\n",
            "  [14 15]\n",
            "  [16 17]]\n",
            "\n",
            " [[18 19]\n",
            "  [20 21]\n",
            "  [22 23]]]\n",
            "\n",
            "b:\n",
            "[[[1. 1. 1.]\n",
            "  [1. 1. 1.]]\n",
            "\n",
            " [[1. 1. 1.]\n",
            "  [1. 1. 1.]]\n",
            "\n",
            " [[1. 1. 1.]\n",
            "  [1. 1. 1.]]\n",
            "\n",
            " [[1. 1. 1.]\n",
            "  [1. 1. 1.]]]\n",
            "\n",
            "a dot b:\n",
            "(4, 3, 4, 3)\n",
            "\n",
            "a @ b:\n",
            "(4, 3, 3)\n",
            "\n",
            "matmul(a,b):\n",
            "(4, 3, 3)\n",
            "\n"
          ]
        }
      ],
      "source": [
        "# 텐서 곱 연산 (Tensor dot product, tensor multiplication)\n",
        "a = np.arange(24).reshape((4, 3, 2))\n",
        "b = np.ones((4, 2, 3))\n",
        "print_obj(a, \"a\")\n",
        "print_obj(b, \"b\")\n",
        "\n",
        "print_obj(np.dot(a,b).shape, \"a dot b\") \n",
        "print_obj((a@b).shape, \"a @ b\")  ## 골뱅이 행렬의 일반적인 곱셈!!\n",
        "print_obj(np.matmul(a,b).shape, \"matmul(a,b)\")   ## 맷뮬 행렬의 일반적인 곱셈!!\n",
        "\n",
        "# 퀴즈 14: a.shape==(4,3,2) and b.shape==(2,3) 이라면, 곱셈 연산이 어떻게 되는가?\n",
        "# Hint : 코드로 결과를 확인하여 보자."
      ]
    },
    {
      "cell_type": "markdown",
      "source": [
        "#### 퀴즈 14"
      ],
      "metadata": {
        "id": "TC2hMaCqRZMS"
      }
    },
    {
      "cell_type": "code",
      "source": [
        "# 퀴즈 14: a.shape==(4,3,2) and b.shape==(2,3) 이라면, 곱셈 연산이 어떻게 되는가?\n",
        "# Hint : 코드로 결과를 확인하여 보자."
      ],
      "metadata": {
        "id": "ZgStkeYMRhBB"
      },
      "execution_count": null,
      "outputs": []
    },
    {
      "cell_type": "code",
      "source": [
        "a.reshape(4,3,2)\n",
        "b = np.ones((2, 3))\n",
        "\n",
        "print_obj(a, \"a\")\n",
        "print_obj(b, \"b\")\n",
        "print_obj(np.matmul(a,b), \"matmul(a,b)\")\n",
        "print_obj(np.matmul(a,b).shape, \"matmul(a,b).shape\")\n"
      ],
      "metadata": {
        "colab": {
          "base_uri": "https://localhost:8080/"
        },
        "id": "PPwPGu3VRhhD",
        "outputId": "cb0f5e5a-90c2-4c9f-bd31-263860819479"
      },
      "execution_count": null,
      "outputs": [
        {
          "output_type": "stream",
          "name": "stdout",
          "text": [
            "a:\n",
            "[[[ 0  1]\n",
            "  [ 2  3]\n",
            "  [ 4  5]]\n",
            "\n",
            " [[ 6  7]\n",
            "  [ 8  9]\n",
            "  [10 11]]\n",
            "\n",
            " [[12 13]\n",
            "  [14 15]\n",
            "  [16 17]]\n",
            "\n",
            " [[18 19]\n",
            "  [20 21]\n",
            "  [22 23]]]\n",
            "\n",
            "b:\n",
            "[[1. 1. 1.]\n",
            " [1. 1. 1.]]\n",
            "\n",
            "matmul(a,b):\n",
            "[[[ 1.  1.  1.]\n",
            "  [ 5.  5.  5.]\n",
            "  [ 9.  9.  9.]]\n",
            "\n",
            " [[13. 13. 13.]\n",
            "  [17. 17. 17.]\n",
            "  [21. 21. 21.]]\n",
            "\n",
            " [[25. 25. 25.]\n",
            "  [29. 29. 29.]\n",
            "  [33. 33. 33.]]\n",
            "\n",
            " [[37. 37. 37.]\n",
            "  [41. 41. 41.]\n",
            "  [45. 45. 45.]]]\n",
            "\n",
            "matmul(a,b).shape:\n",
            "(4, 3, 3)\n",
            "\n"
          ]
        }
      ]
    },
    {
      "cell_type": "markdown",
      "source": [
        "- 1) *(=harmard), 2) dot, 3) @(=matmul) 은 서로 다른 연산이다.\n",
        "우리는 일단 차이점이 있다는 것만 알아두자!"
      ],
      "metadata": {
        "id": "lpe5oPp_b4Cb"
      }
    },
    {
      "cell_type": "markdown",
      "metadata": {
        "id": "fo-pQzdKIfji"
      },
      "source": [
        "### 형태 변형 (Shape Manipulation)"
      ]
    },
    {
      "cell_type": "code",
      "execution_count": null,
      "metadata": {
        "id": "7fwkWGAnIfjk",
        "colab": {
          "base_uri": "https://localhost:8080/"
        },
        "outputId": "a0e94564-80ec-488b-d272-bbbcc45070ea"
      },
      "outputs": [
        {
          "output_type": "stream",
          "name": "stdout",
          "text": [
            "a:\n",
            "[[[ 0  1  2  3]\n",
            "  [ 4  5  6  7]\n",
            "  [ 8  9 10 11]]\n",
            "\n",
            " [[12 13 14 15]\n",
            "  [16 17 18 19]\n",
            "  [20 21 22 23]]]\n",
            "\n",
            "b:\n",
            "[[ 0  1  2  3]\n",
            " [ 4  5  6  7]\n",
            " [ 8  9 10 11]\n",
            " [12 13 14 15]\n",
            " [16 17 18 19]\n",
            " [20 21 22 23]]\n",
            "\n",
            "c:\n",
            "[[ 0  1  2  3]\n",
            " [ 4  5  6  7]\n",
            " [ 8  9 10 11]\n",
            " [12 13 14 15]\n",
            " [16 17 18 19]\n",
            " [20 21 22 23]]\n",
            "\n",
            "e:\n",
            "[[ 0  1  2  3  4  5]\n",
            " [ 6  7  8  9 10 11]\n",
            " [12 13 14 15 16 17]\n",
            " [18 19 20 21 22 23]]\n",
            "\n"
          ]
        }
      ],
      "source": [
        "# Reshapes\n",
        "a = np.arange(24).reshape((2, 3, 4))\n",
        "print_obj(a, \"a\")\n",
        "## reshape 한거 한번 더! \n",
        "b = a.reshape((6, 4))\n",
        "print_obj(b, \"b\")\n",
        "\n",
        "c = a.reshape((6, -1))\n",
        "print_obj(c, \"c\")\n",
        " ## reshape에서 -1이란 남은 차원의 성분들 배치는 파이썬이 알아서.\n",
        " \n",
        "e = a.reshape(-1,6)\n",
        "print_obj(e, \"e\")\n",
        "# 퀴즈 15:  d=a.reshape((6, 4, -1)) 은 어떻게 나타나는가?"
      ]
    },
    {
      "cell_type": "markdown",
      "source": [
        "- Python의 reshape()함수의 인자로 \"-1\"이 주어진 경우 최초 자료형의 원소의 갯수와 -1이 아닌 인자의 값을 이용하여 \"-1\"로 할당된 차원의 정확한 값이 추정된다. \n",
        "- 설명만으로는 무슨 의미인지 불명확할 것이므로 c = a.reshape(6, -1)와 e = a.reshape(-1,6)의 출력 결과를 확인하여 보자. "
      ],
      "metadata": {
        "id": "HsloOb8Um3cC"
      }
    },
    {
      "cell_type": "markdown",
      "source": [
        "##### 퀴즈 15\n"
      ],
      "metadata": {
        "id": "ReN6xEwrSg8b"
      }
    },
    {
      "cell_type": "code",
      "source": [
        "d=a.reshape((6, 4, -1))\n",
        "d\n",
        " ## reshape에서 -1이란 남은 차원의 성분들 배치는 파이썬이 알아서."
      ],
      "metadata": {
        "colab": {
          "base_uri": "https://localhost:8080/"
        },
        "id": "hi82yYODSmhE",
        "outputId": "5560805d-7257-49b9-8f63-7c5611d8b136"
      },
      "execution_count": null,
      "outputs": [
        {
          "output_type": "execute_result",
          "data": {
            "text/plain": [
              "array([[[ 0],\n",
              "        [ 1],\n",
              "        [ 2],\n",
              "        [ 3]],\n",
              "\n",
              "       [[ 4],\n",
              "        [ 5],\n",
              "        [ 6],\n",
              "        [ 7]],\n",
              "\n",
              "       [[ 8],\n",
              "        [ 9],\n",
              "        [10],\n",
              "        [11]],\n",
              "\n",
              "       [[12],\n",
              "        [13],\n",
              "        [14],\n",
              "        [15]],\n",
              "\n",
              "       [[16],\n",
              "        [17],\n",
              "        [18],\n",
              "        [19]],\n",
              "\n",
              "       [[20],\n",
              "        [21],\n",
              "        [22],\n",
              "        [23]]])"
            ]
          },
          "metadata": {},
          "execution_count": 118
        }
      ]
    },
    {
      "cell_type": "code",
      "execution_count": null,
      "metadata": {
        "id": "EifbhhXJIfjl",
        "colab": {
          "base_uri": "https://localhost:8080/"
        },
        "outputId": "3b1f68b7-b58f-4c2c-e482-1afe635a3539"
      },
      "outputs": [
        {
          "output_type": "stream",
          "name": "stdout",
          "text": [
            "a:\n",
            "[0 1 2]\n",
            "\n",
            "a[:, None]:\n",
            "[[0]\n",
            " [1]\n",
            " [2]]\n",
            "\n"
          ]
        }
      ],
      "source": [
        "# 추가적인 차원 더하기 (Adding an extra dimension_)\n",
        "a = np.arange(3)\n",
        "print_obj(a, \"a\")\n",
        "## : 은 전부, 전부에다가 차원 하나 더 추가.\n",
        "print_obj(a[:, None], \"a[:, None]\")\n",
        "\n",
        "# 퀴즈 16: a = np.ones((3,4))를 reshape와 None을 이용하여 (3, 1, 1, 4)의 shape로 변경해보기."
      ]
    },
    {
      "cell_type": "markdown",
      "source": [
        "#### 퀴즈 16\n"
      ],
      "metadata": {
        "id": "WmPoizWnUdlG"
      }
    },
    {
      "cell_type": "code",
      "source": [
        "a = np.ones((3,4))\n",
        "print_obj(a, \"a\")\n",
        "# 방법 1\n",
        "b = a.reshape(3,1,1,4)\n",
        "print_obj(b, \"a.reshape(3,1,1,4)\")\n",
        "# 방법 2\n",
        "print_obj(a[:, None, None], \"a[:, None, None]\")\n"
      ],
      "metadata": {
        "colab": {
          "base_uri": "https://localhost:8080/"
        },
        "id": "Onaiad5aUgos",
        "outputId": "d992b5f2-74b4-4513-9fa7-16895a1f4971"
      },
      "execution_count": null,
      "outputs": [
        {
          "output_type": "stream",
          "name": "stdout",
          "text": [
            "a:\n",
            "[[1. 1. 1. 1.]\n",
            " [1. 1. 1. 1.]\n",
            " [1. 1. 1. 1.]]\n",
            "\n",
            "a.reshape(3,1,1,4):\n",
            "[[[[1. 1. 1. 1.]]]\n",
            "\n",
            "\n",
            " [[[1. 1. 1. 1.]]]\n",
            "\n",
            "\n",
            " [[[1. 1. 1. 1.]]]]\n",
            "\n",
            "a[:, None, None]:\n",
            "[[[[1. 1. 1. 1.]]]\n",
            "\n",
            "\n",
            " [[[1. 1. 1. 1.]]]\n",
            "\n",
            "\n",
            " [[[1. 1. 1. 1.]]]]\n",
            "\n"
          ]
        }
      ]
    },
    {
      "cell_type": "code",
      "execution_count": null,
      "metadata": {
        "id": "8YlI8F3dIfjn",
        "colab": {
          "base_uri": "https://localhost:8080/"
        },
        "outputId": "09ac81b9-d9fa-4503-c167-e6d59c295479"
      },
      "outputs": [
        {
          "output_type": "stream",
          "name": "stdout",
          "text": [
            "a:\n",
            "[[1. 1.]\n",
            " [1. 1.]\n",
            " [1. 1.]]\n",
            "\n",
            "b:\n",
            "[[0. 0.]\n",
            " [0. 0.]\n",
            " [0. 0.]]\n",
            "\n",
            "a,b vstack:\n",
            "[[1. 1.]\n",
            " [1. 1.]\n",
            " [1. 1.]\n",
            " [0. 0.]\n",
            " [0. 0.]\n",
            " [0. 0.]]\n",
            "\n",
            "a,b hstack:\n",
            "[[1. 1. 0. 0.]\n",
            " [1. 1. 0. 0.]\n",
            " [1. 1. 0. 0.]]\n",
            "\n",
            "a,b hstack:\n",
            "[[1. 1. 0. 0. 1. 1.]\n",
            " [1. 1. 0. 0. 1. 1.]\n",
            " [1. 1. 0. 0. 1. 1.]]\n",
            "\n",
            "a,b concat axis=0:\n",
            "[[1. 1.]\n",
            " [1. 1.]\n",
            " [1. 1.]\n",
            " [0. 0.]\n",
            " [0. 0.]\n",
            " [0. 0.]]\n",
            "\n",
            "a,b concat axis=1:\n",
            "[[1. 1. 0. 0.]\n",
            " [1. 1. 0. 0.]\n",
            " [1. 1. 0. 0.]]\n",
            "\n"
          ]
        }
      ],
      "source": [
        "# 스택(Stack), concatenation (열 등을 이어서 연결하기)\n",
        "# 스택은 쌓자!! h -> horizontal 수평  / v -> vertical 수직\n",
        "# 컨캣은 연결하자!! 축의 방향을 axis 로 설정해서 연결가능. 스택과 비슷한 기능. \n",
        "## 중요!!! \n",
        "a = np.ones((3,2))\n",
        "b = np.zeros((3,2))\n",
        "print_obj(a, \"a\")\n",
        "print_obj(b, \"b\")\n",
        "\n",
        "print_obj(np.vstack([a, b]), \"a,b vstack\")\n",
        "print_obj(np.hstack([a, b]), \"a,b hstack\")\n",
        "print_obj(np.hstack([a, b, a]), \"a,b hstack\")\n",
        "\n",
        "print_obj(np.concatenate([a, b], axis=0), \"a,b concat axis=0\")\n",
        "print_obj(np.concatenate([a, b], axis=1), \"a,b concat axis=1\")\n",
        "\n",
        "# 퀴즈 17: 두 텐서의 shape 가 (4, 3, 2) and (4, 3, 3) on axis=2 일 때, 두 텐서를 concatenation 하기."
      ]
    },
    {
      "cell_type": "markdown",
      "source": [
        "#### 퀴즈 17"
      ],
      "metadata": {
        "id": "oU4_nuS6VYnT"
      }
    },
    {
      "cell_type": "code",
      "source": [
        "a = np.ones((4, 3, 2))\n",
        "b = np.zeros((4, 3, 3))\n",
        "print_obj(a, \"a\")\n",
        "print_obj(b, \"b\")\n",
        "print_obj(np.concatenate([a, b], axis=2), \"a,b concat axis=2\")"
      ],
      "metadata": {
        "colab": {
          "base_uri": "https://localhost:8080/"
        },
        "id": "EOEeQeQrVbPi",
        "outputId": "e213fcf2-a2e7-4e65-8a20-610f05d9698d"
      },
      "execution_count": null,
      "outputs": [
        {
          "output_type": "stream",
          "name": "stdout",
          "text": [
            "a:\n",
            "[[[1. 1.]\n",
            "  [1. 1.]\n",
            "  [1. 1.]]\n",
            "\n",
            " [[1. 1.]\n",
            "  [1. 1.]\n",
            "  [1. 1.]]\n",
            "\n",
            " [[1. 1.]\n",
            "  [1. 1.]\n",
            "  [1. 1.]]\n",
            "\n",
            " [[1. 1.]\n",
            "  [1. 1.]\n",
            "  [1. 1.]]]\n",
            "\n",
            "b:\n",
            "[[[0. 0. 0.]\n",
            "  [0. 0. 0.]\n",
            "  [0. 0. 0.]]\n",
            "\n",
            " [[0. 0. 0.]\n",
            "  [0. 0. 0.]\n",
            "  [0. 0. 0.]]\n",
            "\n",
            " [[0. 0. 0.]\n",
            "  [0. 0. 0.]\n",
            "  [0. 0. 0.]]\n",
            "\n",
            " [[0. 0. 0.]\n",
            "  [0. 0. 0.]\n",
            "  [0. 0. 0.]]]\n",
            "\n",
            "a,b concat axis=2:\n",
            "[[[1. 1. 0. 0. 0.]\n",
            "  [1. 1. 0. 0. 0.]\n",
            "  [1. 1. 0. 0. 0.]]\n",
            "\n",
            " [[1. 1. 0. 0. 0.]\n",
            "  [1. 1. 0. 0. 0.]\n",
            "  [1. 1. 0. 0. 0.]]\n",
            "\n",
            " [[1. 1. 0. 0. 0.]\n",
            "  [1. 1. 0. 0. 0.]\n",
            "  [1. 1. 0. 0. 0.]]\n",
            "\n",
            " [[1. 1. 0. 0. 0.]\n",
            "  [1. 1. 0. 0. 0.]\n",
            "  [1. 1. 0. 0. 0.]]]\n",
            "\n"
          ]
        }
      ]
    },
    {
      "cell_type": "code",
      "source": [
        "print_obj(np.vstack([a, b]), \"a,b vstack\")\n",
        "print_obj(np.vstack([a, b]).shape, \"a,b vstack shape\")\n",
        "print_obj(np.vstack([a, b]).ndim, \"a,b vstack ndim\")\n",
        "# 항상 텐서(행렬)의 크기와 모양을 잘 파악해서 데이터를 조작해야 한다.\n",
        "# 차원의 크기를 파악하기 어려울 때는 이렇게 확인하거나 대괄호의 개수로 생각해보자."
      ],
      "metadata": {
        "colab": {
          "base_uri": "https://localhost:8080/"
        },
        "id": "3hOCBfvooQUK",
        "outputId": "b3e562ea-60ca-4375-a76e-17cd99cbb7a8"
      },
      "execution_count": null,
      "outputs": [
        {
          "output_type": "stream",
          "name": "stdout",
          "text": [
            "a,b vstack:\n",
            "[[1. 1.]\n",
            " [1. 1.]\n",
            " [1. 1.]\n",
            " [0. 0.]\n",
            " [0. 0.]\n",
            " [0. 0.]]\n",
            "\n",
            "a,b vstack shape:\n",
            "(6, 2)\n",
            "\n",
            "a,b vstack ndim:\n",
            "2\n",
            "\n"
          ]
        }
      ]
    },
    {
      "cell_type": "code",
      "execution_count": null,
      "metadata": {
        "id": "HrzX8t3NIfjo",
        "colab": {
          "base_uri": "https://localhost:8080/"
        },
        "outputId": "c201bf6a-a7c4-4252-9e4b-13b6784219d5"
      },
      "outputs": [
        {
          "output_type": "stream",
          "name": "stdout",
          "text": [
            "a:\n",
            "[[0 1]\n",
            " [2 3]\n",
            " [4 5]]\n",
            "\n",
            "a.T:\n",
            "[[0 2 4]\n",
            " [1 3 5]]\n",
            "\n"
          ]
        }
      ],
      "source": [
        "# 전치 행렬 (Matrix transpose)\n",
        "a = np.arange(6).reshape((3, 2))\n",
        "print_obj(a, \"a\")\n",
        "# 손바닥 뒤집기! \n",
        "print_obj(a.T, \"a.T\")"
      ]
    },
    {
      "cell_type": "markdown",
      "source": [
        "$6\\times 4$ 차원의 행렬을 전치 연산하면 $4\\times 6$ 차원의 행렬이 된다.\n",
        "\n",
        "$$\n",
        "\\begin{align}\n",
        "X = \n",
        "\\begin{bmatrix}\n",
        "\\boxed{\\begin{matrix} x_{1, 1} & x_{1, 2} & x_{1, 3} & x_{1, 4}\\end{matrix}}  \\\\\n",
        "\\begin{matrix} x_{2, 1} & x_{2, 2} & x_{2, 3} & x_{2, 4}\\end{matrix} \\\\\n",
        "\\begin{matrix} x_{3, 1} & x_{3, 2} & x_{3, 3} & x_{3, 4}\\end{matrix} \\\\\n",
        "\\begin{matrix} x_{4, 1} & x_{4, 2} & x_{4, 3} & x_{4, 4}\\end{matrix} \\\\\n",
        "\\begin{matrix} x_{5, 1} & x_{5, 2} & x_{5, 3} & x_{5, 4}\\end{matrix} \\\\\n",
        "\\begin{matrix} x_{6, 1} & x_{6, 2} & x_{6, 3} & x_{6, 4}\\end{matrix} \\\\\n",
        "\\end{bmatrix}\n",
        "\\;\\; \\rightarrow \\;\\;\n",
        "X^T = \n",
        "\\begin{bmatrix}\n",
        "\\boxed{\\begin{matrix} x_{1, 1} \\\\ x_{1, 2} \\\\ x_{1, 3} \\\\ x_{1, 4}\\end{matrix}} &\n",
        "\\begin{matrix} x_{2, 1} \\\\ x_{2, 2} \\\\ x_{2, 3} \\\\ x_{2, 4}\\end{matrix} &\n",
        "\\begin{matrix} x_{3, 1} \\\\ x_{3, 2} \\\\ x_{3, 3} \\\\ x_{3, 4}\\end{matrix} &\n",
        "\\begin{matrix} x_{4, 1} \\\\ x_{4, 2} \\\\ x_{4, 3} \\\\ x_{4, 4}\\end{matrix} &\n",
        "\\begin{matrix} x_{5, 1} \\\\ x_{5, 2} \\\\ x_{5, 3} \\\\ x_{5, 4}\\end{matrix} &\n",
        "\\begin{matrix} x_{6, 1} \\\\ x_{6, 2} \\\\ x_{6, 3} \\\\ x_{6, 4}\\end{matrix} &\n",
        "\\end{bmatrix}\n",
        "\\end{align}\n",
        "$$"
      ],
      "metadata": {
        "id": "tg1KmvP_h0_M"
      }
    },
    {
      "cell_type": "code",
      "execution_count": null,
      "metadata": {
        "id": "td_rzpLGIfjr",
        "colab": {
          "base_uri": "https://localhost:8080/"
        },
        "outputId": "be798aa6-1675-4bfc-84fd-18d048f0a63c"
      },
      "outputs": [
        {
          "output_type": "stream",
          "name": "stdout",
          "text": [
            "a:\n",
            "[[[ 0  1]\n",
            "  [ 2  3]\n",
            "  [ 4  5]]\n",
            "\n",
            " [[ 6  7]\n",
            "  [ 8  9]\n",
            "  [10 11]]\n",
            "\n",
            " [[12 13]\n",
            "  [14 15]\n",
            "  [16 17]]\n",
            "\n",
            " [[18 19]\n",
            "  [20 21]\n",
            "  [22 23]]]\n",
            "\n",
            "Swap axis 1 and 2:\n",
            "[[[ 0  2  4]\n",
            "  [ 1  3  5]]\n",
            "\n",
            " [[ 6  8 10]\n",
            "  [ 7  9 11]]\n",
            "\n",
            " [[12 14 16]\n",
            "  [13 15 17]]\n",
            "\n",
            " [[18 20 22]\n",
            "  [19 21 23]]]\n",
            "\n",
            "b's shape:\n",
            "(4, 2, 3)\n",
            "\n",
            "Swap axis 0 and 1:\n",
            "[[[ 0  1]\n",
            "  [ 6  7]\n",
            "  [12 13]\n",
            "  [18 19]]\n",
            "\n",
            " [[ 2  3]\n",
            "  [ 8  9]\n",
            "  [14 15]\n",
            "  [20 21]]\n",
            "\n",
            " [[ 4  5]\n",
            "  [10 11]\n",
            "  [16 17]\n",
            "  [22 23]]]\n",
            "\n",
            "c's shape:\n",
            "(3, 4, 2)\n",
            "\n"
          ]
        }
      ],
      "source": [
        "# 전치 텐서(Tensor transpose)\n",
        "a = np.arange(24).reshape((4, 3, 2))\n",
        "print_obj(a, \"a\")\n",
        "# T ~~ transpose 전치 같은 기능.\n",
        "b = np.transpose(a, [0, 2, 1])  ## T랑 똑같다.\n",
        "print_obj(b, \"Swap axis 1 and 2\")\n",
        "print_obj(b.shape, \"b's shape\")\n",
        "\n",
        "c = np.transpose(a, [1, 0, 2])\n",
        "print_obj(c, \"Swap axis 0 and 1\")\n",
        "print_obj(c.shape, \"c's shape\")"
      ]
    },
    {
      "cell_type": "markdown",
      "metadata": {
        "id": "vQUfAz_oIfjs"
      },
      "source": [
        "### 브로드캐스팅(Broadcasting)"
      ]
    },
    {
      "cell_type": "markdown",
      "source": [
        "<figure>\n",
        "    <img src=\"http://www.astroml.org/_images/fig_broadcast_visual_1.png\">\n",
        "</figure>"
      ],
      "metadata": {
        "id": "HibxtIUbdeyr"
      }
    },
    {
      "cell_type": "code",
      "execution_count": null,
      "metadata": {
        "id": "Gb0L1o-hIfjt",
        "colab": {
          "base_uri": "https://localhost:8080/"
        },
        "outputId": "fb21814a-eaa1-4a82-96a4-2742ae48753d"
      },
      "outputs": [
        {
          "output_type": "stream",
          "name": "stdout",
          "text": [
            "a:\n",
            "[0 1 2]\n",
            "\n",
            "b:\n",
            "2.0\n",
            "\n",
            "a+b:\n",
            "[2. 3. 4.]\n",
            "\n",
            "a-b:\n",
            "[-2. -1.  0.]\n",
            "\n",
            "a*b:\n",
            "[0. 2. 4.]\n",
            "\n",
            "a/b:\n",
            "[0.  0.5 1. ]\n",
            "\n"
          ]
        }
      ],
      "source": [
        "# Vector and scalar\n",
        "a = np.arange(3)\n",
        "b = 2.\n",
        "\n",
        "## 자동으로 공란을 채워서 연산을 수행하는 기능 ## 파이썬의 특성!!\n",
        "# 벡터랑 스칼라 끼리. 연산이 가능하다.\n",
        "print_obj(a, \"a\")\n",
        "print_obj(b, \"b\")\n",
        "print_obj(a+b, \"a+b\")\n",
        "print_obj(a-b, \"a-b\")\n",
        "print_obj(a*b, \"a*b\")\n",
        "print_obj(a/b, \"a/b\")"
      ]
    },
    {
      "cell_type": "code",
      "execution_count": null,
      "metadata": {
        "id": "0rISYPVnIfjv",
        "colab": {
          "base_uri": "https://localhost:8080/"
        },
        "outputId": "412250b9-5dd7-4fc7-ee3f-ac07062ebc87"
      },
      "outputs": [
        {
          "output_type": "stream",
          "name": "stdout",
          "text": [
            "a:\n",
            "[[0 1]\n",
            " [2 3]\n",
            " [4 5]]\n",
            "\n",
            "b:\n",
            "[1 2]\n",
            "\n",
            "a+b:\n",
            "[[1 3]\n",
            " [3 5]\n",
            " [5 7]]\n",
            "\n"
          ]
        }
      ],
      "source": [
        "# 행렬과 벡터 (Matrix and vector)\n",
        "a = np.arange(6).reshape((3,2))\n",
        "b = np.arange(2).reshape(2) + 1\n",
        "print_obj(a, \"a\")\n",
        "print_obj(b, \"b\")\n",
        "\n",
        "print_obj(a+b, \"a+b\")\n"
      ]
    },
    {
      "cell_type": "code",
      "execution_count": null,
      "metadata": {
        "id": "N9Ynav6nIfjx",
        "colab": {
          "base_uri": "https://localhost:8080/"
        },
        "outputId": "cfa54613-6a9f-47fe-f11e-7590515133ae"
      },
      "outputs": [
        {
          "output_type": "stream",
          "name": "stdout",
          "text": [
            "a:\n",
            "[[[ 0  1]\n",
            "  [ 2  3]\n",
            "  [ 4  5]]\n",
            "\n",
            " [[ 6  7]\n",
            "  [ 8  9]\n",
            "  [10 11]]]\n",
            "\n",
            "b:\n",
            "[[0 1]\n",
            " [2 3]\n",
            " [4 5]]\n",
            "\n",
            "a+b:\n",
            "[[[ 0  2]\n",
            "  [ 4  6]\n",
            "  [ 8 10]]\n",
            "\n",
            " [[ 6  8]\n",
            "  [10 12]\n",
            "  [14 16]]]\n",
            "\n"
          ]
        }
      ],
      "source": [
        "# 텐서와 행렬 (Tensor and matrix)\n",
        "a = np.arange(12).reshape((2,3,2))\n",
        "b = np.arange(6).reshape((3,2))\n",
        "print_obj(a, \"a\")\n",
        "print_obj(b, \"b\")\n",
        "\n",
        "print_obj(a+b, \"a+b\")\n",
        "\n"
      ]
    }
  ],
  "metadata": {
    "kernelspec": {
      "display_name": "Python 3",
      "language": "python",
      "name": "python3"
    },
    "language_info": {
      "codemirror_mode": {
        "name": "ipython",
        "version": 3
      },
      "file_extension": ".py",
      "mimetype": "text/x-python",
      "name": "python",
      "nbconvert_exporter": "python",
      "pygments_lexer": "ipython3",
      "version": "3.7.6"
    },
    "colab": {
      "provenance": [],
      "toc_visible": true
    },
    "gpuClass": "standard"
  },
  "nbformat": 4,
  "nbformat_minor": 0
}