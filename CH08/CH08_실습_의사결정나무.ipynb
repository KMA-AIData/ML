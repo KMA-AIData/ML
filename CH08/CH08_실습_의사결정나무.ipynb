{
  "cells": [
    {
      "cell_type": "markdown",
      "metadata": {
        "id": "CLmS9bD_p3gV"
      },
      "source": [
        "# CH08. 의사결정나무 (DecisionTree) (실습)\n",
        "\n",
        "### [1] 실습 진행 관련 설명\n",
        "의사결정나무에 대한 실습을 진행하고자 한다. 실습은 크게 두가지로 구성되어 있다.\n",
        "\n",
        "- sklearn 라이브러리를 이용한 방법\n",
        "- 직접 함수를 구현하는 방법\n",
        "\n",
        "처음에는 sklearn 라이브러리를 이용한 방법을 실습하고 그 이후에 직접 함수를 구현하여 이론에서 배운 엔트로피의 계산을 수행한다.\n"
      ]
    },
    {
      "cell_type": "markdown",
      "metadata": {
        "id": "YBJH39wWqm0T"
      },
      "source": [
        "## [2] 코드 구현의 흐름\n",
        "\n",
        "\n",
        "- (1) (데이터 측면) 데이터 불러오기\n",
        "\n",
        "- (2) (데이터 측면) 데이터 시각화 및 전처리\n",
        "\n",
        "- (3) (모델 측면) sklearn 라이브러리를 이용하여 의사결정나무 불러오기\n",
        "\n",
        "- (4) (학습 과정) sklearn 라이브러리를 이용하여 모델 학습하기\n",
        "\n",
        "- (5) (성능 평가) 모델 테스트 및 시각화"
      ]
    },
    {
      "cell_type": "markdown",
      "metadata": {
        "id": "Fofx1AL8zEvw"
      },
      "source": [
        "## (첫번째 실습) sklearn 라이브러리를 이용한 방법\n",
        "\n",
        "\n"
      ]
    },
    {
      "cell_type": "code",
      "execution_count": null,
      "metadata": {
        "id": "u2UPtJ_NHTWA",
        "colab": {
          "base_uri": "https://localhost:8080/"
        },
        "outputId": "1cfb0ab8-a8df-42cf-b092-1f5b585ce2d5"
      },
      "outputs": [
        {
          "output_type": "stream",
          "name": "stdout",
          "text": [
            "           district   latitude   longitude     label\n",
            "0         Dobong-gu  37.665861  127.031767   Gangbuk\n",
            "1      Eunpyeong-gu  37.617612  126.922700   Gangseo\n",
            "2     Dongdaemun-gu  37.583801  127.050700  Gangdong\n",
            "3        Dongjak-gu  37.496504  126.944307   Gangnam\n",
            "4      Geumcheon-gu  37.460097  126.900155   Gangseo\n",
            "5           Guro-gu  37.495486  126.858121   Gangseo\n",
            "6         Jongno-gu  37.599100  126.986149   Gangbuk\n",
            "7        Gangbuk-gu  37.646995  127.014716   Gangbuk\n",
            "8       Jungnang-gu  37.595379  127.093967  Gangdong\n",
            "9        Gangnam-gu  37.495985  127.066409   Gangnam\n",
            "10       Gangseo-gu  37.565762  126.822656   Gangseo\n",
            "11          Jung-gu  37.557945  126.994190   Gangbuk\n",
            "12      Gangdong-gu  37.549208  127.146482  Gangdong\n",
            "13      Gwangjin-gu  37.548144  127.085753  Gangdong\n",
            "14          Mapo-gu  37.562291  126.908780   Gangseo\n",
            "15        Seocho-gu  37.476953  127.037810   Gangnam\n",
            "16      Seongbuk-gu  37.606991  127.023218   Gangbuk\n",
            "17         Nowon-gu  37.655264  127.077120   Gangbuk\n",
            "18        Songpa-gu  37.504853  127.114482   Gangnam\n",
            "19     Seodaemun-gu  37.582037  126.935666   Gangseo\n",
            "20     Yangcheon-gu  37.527062  126.856153   Gangseo\n",
            "21  Yeongdeungpo-gu  37.520641  126.913924   Gangseo\n",
            "22        Gwanak-gu  37.465399  126.943807   Gangnam\n",
            "23     Seongdong-gu  37.550675  127.040962  Gangdong\n",
            "24       Yongsan-gu  37.531101  126.981074   Gangbuk\n"
          ]
        }
      ],
      "source": [
        "'''\n",
        "(1) (데이터 측면) 데이터 불러오기.\n",
        "train과 test 데이터가 각각 분리되어 있으므로 두 개의 파일을 모두 불러와야 한다.\n",
        "해당 데이터는 공공데이터 포털에서 제공하는 서울시 구 정보를 실습을 위해 편집한 데이터로 실제 데이터이다.\n",
        "district : 구 정보, latitude : 위도, longitude : 경도, label : [강북, 강서, 강동, 강남]\n",
        "'''\n",
        "import numpy as np\n",
        "import pandas as pd\n",
        "import matplotlib.pyplot as plt\n",
        "from sklearn import tree, preprocessing\n",
        "\n",
        "train = pd.read_csv('district_dict_list.csv')\n",
        "test = pd.read_csv('dong_dict_list.csv')\n",
        "print(train)"
      ]
    },
    {
      "cell_type": "code",
      "execution_count": null,
      "metadata": {
        "id": "7mQsNHHbbhsV"
      },
      "outputs": [],
      "source": [
        "'''\n",
        "(2) (데이터 측면) 데이터 시각화 및 전처리\n",
        "의사결정 나무 구현을 위해 특징 벡터 x에 위도와 경도 데이터를 저장\n",
        "[강북, 강서, 강남, 강동]의 분류를 위한 정답값을 y에 저장\n",
        "'''\n",
        "x_train = train[['longitude', 'latitude']]\n",
        "y_train = train[['label']]\n",
        "x_test = test[['longitude', 'latitude']]\n",
        "y_test = test[['label']]"
      ]
    },
    {
      "cell_type": "code",
      "execution_count": null,
      "metadata": {
        "colab": {
          "base_uri": "https://localhost:8080/"
        },
        "id": "qJpRs4Dxng7_",
        "outputId": "f8e906a1-bb9d-4b93-ff08-9c5a113d17cd"
      },
      "outputs": [
        {
          "output_type": "stream",
          "name": "stderr",
          "text": [
            "/usr/local/lib/python3.10/dist-packages/sklearn/preprocessing/_label.py:116: DataConversionWarning: A column-vector y was passed when a 1d array was expected. Please change the shape of y to (n_samples, ), for example using ravel().\n",
            "  y = column_or_1d(y, warn=True)\n"
          ]
        }
      ],
      "source": [
        "'''\n",
        "(3) (모델 측면) 의사결정나무 모델 불러오기\n",
        "sklearn 라이브러리를 통해 구현되어 있는 의사결정나무 모델을 불러온다.\n",
        "범주형 데이터의 경우 전처리를 통해서 숫자 데이터로 변환해준다.\n",
        "강북 -> 0, 강동 -> 1, 강남 -> 2, 강서 -> 3\n",
        "'''\n",
        "label_data = preprocessing.LabelEncoder()\n",
        "y_encoded = label_data.fit_transform(y_train)\n",
        "classifier = tree.DecisionTreeClassifier(criterion = 'entropy')"
      ]
    },
    {
      "cell_type": "code",
      "source": [
        "'''\n",
        "(4) (학습 과정) sklearn 라이브러리를 이용하여 알고리즘 수행하기.\n",
        "fit 함수를 이용해서 학습을 진행한다.\n",
        "y값의 경우 새롭게 인코딩된 데이터를 활용한다.\n",
        "'''\n",
        "classifier.fit(x_train, y_encoded)"
      ],
      "metadata": {
        "colab": {
          "base_uri": "https://localhost:8080/",
          "height": 74
        },
        "id": "JyLYBWmOim5K",
        "outputId": "cf490e18-035e-4bc9-d918-024484a9e689"
      },
      "execution_count": null,
      "outputs": [
        {
          "output_type": "execute_result",
          "data": {
            "text/plain": [
              "DecisionTreeClassifier(criterion='entropy')"
            ],
            "text/html": [
              "<style>#sk-container-id-1 {color: black;background-color: white;}#sk-container-id-1 pre{padding: 0;}#sk-container-id-1 div.sk-toggleable {background-color: white;}#sk-container-id-1 label.sk-toggleable__label {cursor: pointer;display: block;width: 100%;margin-bottom: 0;padding: 0.3em;box-sizing: border-box;text-align: center;}#sk-container-id-1 label.sk-toggleable__label-arrow:before {content: \"▸\";float: left;margin-right: 0.25em;color: #696969;}#sk-container-id-1 label.sk-toggleable__label-arrow:hover:before {color: black;}#sk-container-id-1 div.sk-estimator:hover label.sk-toggleable__label-arrow:before {color: black;}#sk-container-id-1 div.sk-toggleable__content {max-height: 0;max-width: 0;overflow: hidden;text-align: left;background-color: #f0f8ff;}#sk-container-id-1 div.sk-toggleable__content pre {margin: 0.2em;color: black;border-radius: 0.25em;background-color: #f0f8ff;}#sk-container-id-1 input.sk-toggleable__control:checked~div.sk-toggleable__content {max-height: 200px;max-width: 100%;overflow: auto;}#sk-container-id-1 input.sk-toggleable__control:checked~label.sk-toggleable__label-arrow:before {content: \"▾\";}#sk-container-id-1 div.sk-estimator input.sk-toggleable__control:checked~label.sk-toggleable__label {background-color: #d4ebff;}#sk-container-id-1 div.sk-label input.sk-toggleable__control:checked~label.sk-toggleable__label {background-color: #d4ebff;}#sk-container-id-1 input.sk-hidden--visually {border: 0;clip: rect(1px 1px 1px 1px);clip: rect(1px, 1px, 1px, 1px);height: 1px;margin: -1px;overflow: hidden;padding: 0;position: absolute;width: 1px;}#sk-container-id-1 div.sk-estimator {font-family: monospace;background-color: #f0f8ff;border: 1px dotted black;border-radius: 0.25em;box-sizing: border-box;margin-bottom: 0.5em;}#sk-container-id-1 div.sk-estimator:hover {background-color: #d4ebff;}#sk-container-id-1 div.sk-parallel-item::after {content: \"\";width: 100%;border-bottom: 1px solid gray;flex-grow: 1;}#sk-container-id-1 div.sk-label:hover label.sk-toggleable__label {background-color: #d4ebff;}#sk-container-id-1 div.sk-serial::before {content: \"\";position: absolute;border-left: 1px solid gray;box-sizing: border-box;top: 0;bottom: 0;left: 50%;z-index: 0;}#sk-container-id-1 div.sk-serial {display: flex;flex-direction: column;align-items: center;background-color: white;padding-right: 0.2em;padding-left: 0.2em;position: relative;}#sk-container-id-1 div.sk-item {position: relative;z-index: 1;}#sk-container-id-1 div.sk-parallel {display: flex;align-items: stretch;justify-content: center;background-color: white;position: relative;}#sk-container-id-1 div.sk-item::before, #sk-container-id-1 div.sk-parallel-item::before {content: \"\";position: absolute;border-left: 1px solid gray;box-sizing: border-box;top: 0;bottom: 0;left: 50%;z-index: -1;}#sk-container-id-1 div.sk-parallel-item {display: flex;flex-direction: column;z-index: 1;position: relative;background-color: white;}#sk-container-id-1 div.sk-parallel-item:first-child::after {align-self: flex-end;width: 50%;}#sk-container-id-1 div.sk-parallel-item:last-child::after {align-self: flex-start;width: 50%;}#sk-container-id-1 div.sk-parallel-item:only-child::after {width: 0;}#sk-container-id-1 div.sk-dashed-wrapped {border: 1px dashed gray;margin: 0 0.4em 0.5em 0.4em;box-sizing: border-box;padding-bottom: 0.4em;background-color: white;}#sk-container-id-1 div.sk-label label {font-family: monospace;font-weight: bold;display: inline-block;line-height: 1.2em;}#sk-container-id-1 div.sk-label-container {text-align: center;}#sk-container-id-1 div.sk-container {/* jupyter's `normalize.less` sets `[hidden] { display: none; }` but bootstrap.min.css set `[hidden] { display: none !important; }` so we also need the `!important` here to be able to override the default hidden behavior on the sphinx rendered scikit-learn.org. See: https://github.com/scikit-learn/scikit-learn/issues/21755 */display: inline-block !important;position: relative;}#sk-container-id-1 div.sk-text-repr-fallback {display: none;}</style><div id=\"sk-container-id-1\" class=\"sk-top-container\"><div class=\"sk-text-repr-fallback\"><pre>DecisionTreeClassifier(criterion=&#x27;entropy&#x27;)</pre><b>In a Jupyter environment, please rerun this cell to show the HTML representation or trust the notebook. <br />On GitHub, the HTML representation is unable to render, please try loading this page with nbviewer.org.</b></div><div class=\"sk-container\" hidden><div class=\"sk-item\"><div class=\"sk-estimator sk-toggleable\"><input class=\"sk-toggleable__control sk-hidden--visually\" id=\"sk-estimator-id-1\" type=\"checkbox\" checked><label for=\"sk-estimator-id-1\" class=\"sk-toggleable__label sk-toggleable__label-arrow\">DecisionTreeClassifier</label><div class=\"sk-toggleable__content\"><pre>DecisionTreeClassifier(criterion=&#x27;entropy&#x27;)</pre></div></div></div></div></div>"
            ]
          },
          "metadata": {},
          "execution_count": 6
        }
      ]
    },
    {
      "cell_type": "code",
      "execution_count": null,
      "metadata": {
        "colab": {
          "base_uri": "https://localhost:8080/",
          "height": 663
        },
        "id": "umihqYMqdNXv",
        "outputId": "7ac4d1d5-ba13-4791-99b1-5e058a3f1f21"
      },
      "outputs": [
        {
          "output_type": "stream",
          "name": "stdout",
          "text": [
            "accuracy : 1.0\n"
          ]
        },
        {
          "output_type": "execute_result",
          "data": {
            "text/plain": [
              "         예측값       정답값\n",
              "0    Gangnam   Gangnam\n",
              "1    Gangbuk   Gangbuk\n",
              "2    Gangnam   Gangnam\n",
              "3    Gangbuk   Gangbuk\n",
              "4    Gangbuk   Gangbuk\n",
              "5    Gangbuk   Gangbuk\n",
              "6   Gangdong  Gangdong\n",
              "7    Gangnam   Gangnam\n",
              "8    Gangseo   Gangseo\n",
              "9    Gangseo   Gangseo\n",
              "10   Gangseo   Gangseo\n",
              "11  Gangdong  Gangdong\n",
              "12  Gangdong  Gangdong\n",
              "13   Gangbuk   Gangbuk\n",
              "14   Gangnam   Gangnam\n",
              "15  Gangdong  Gangdong\n",
              "16   Gangnam   Gangnam\n",
              "17   Gangseo   Gangseo\n",
              "18   Gangseo   Gangseo"
            ],
            "text/html": [
              "\n",
              "  <div id=\"df-52db4d7b-2fc4-421e-b6f4-32e9ea07d08b\" class=\"colab-df-container\">\n",
              "    <div>\n",
              "<style scoped>\n",
              "    .dataframe tbody tr th:only-of-type {\n",
              "        vertical-align: middle;\n",
              "    }\n",
              "\n",
              "    .dataframe tbody tr th {\n",
              "        vertical-align: top;\n",
              "    }\n",
              "\n",
              "    .dataframe thead th {\n",
              "        text-align: right;\n",
              "    }\n",
              "</style>\n",
              "<table border=\"1\" class=\"dataframe\">\n",
              "  <thead>\n",
              "    <tr style=\"text-align: right;\">\n",
              "      <th></th>\n",
              "      <th>예측값</th>\n",
              "      <th>정답값</th>\n",
              "    </tr>\n",
              "  </thead>\n",
              "  <tbody>\n",
              "    <tr>\n",
              "      <th>0</th>\n",
              "      <td>Gangnam</td>\n",
              "      <td>Gangnam</td>\n",
              "    </tr>\n",
              "    <tr>\n",
              "      <th>1</th>\n",
              "      <td>Gangbuk</td>\n",
              "      <td>Gangbuk</td>\n",
              "    </tr>\n",
              "    <tr>\n",
              "      <th>2</th>\n",
              "      <td>Gangnam</td>\n",
              "      <td>Gangnam</td>\n",
              "    </tr>\n",
              "    <tr>\n",
              "      <th>3</th>\n",
              "      <td>Gangbuk</td>\n",
              "      <td>Gangbuk</td>\n",
              "    </tr>\n",
              "    <tr>\n",
              "      <th>4</th>\n",
              "      <td>Gangbuk</td>\n",
              "      <td>Gangbuk</td>\n",
              "    </tr>\n",
              "    <tr>\n",
              "      <th>5</th>\n",
              "      <td>Gangbuk</td>\n",
              "      <td>Gangbuk</td>\n",
              "    </tr>\n",
              "    <tr>\n",
              "      <th>6</th>\n",
              "      <td>Gangdong</td>\n",
              "      <td>Gangdong</td>\n",
              "    </tr>\n",
              "    <tr>\n",
              "      <th>7</th>\n",
              "      <td>Gangnam</td>\n",
              "      <td>Gangnam</td>\n",
              "    </tr>\n",
              "    <tr>\n",
              "      <th>8</th>\n",
              "      <td>Gangseo</td>\n",
              "      <td>Gangseo</td>\n",
              "    </tr>\n",
              "    <tr>\n",
              "      <th>9</th>\n",
              "      <td>Gangseo</td>\n",
              "      <td>Gangseo</td>\n",
              "    </tr>\n",
              "    <tr>\n",
              "      <th>10</th>\n",
              "      <td>Gangseo</td>\n",
              "      <td>Gangseo</td>\n",
              "    </tr>\n",
              "    <tr>\n",
              "      <th>11</th>\n",
              "      <td>Gangdong</td>\n",
              "      <td>Gangdong</td>\n",
              "    </tr>\n",
              "    <tr>\n",
              "      <th>12</th>\n",
              "      <td>Gangdong</td>\n",
              "      <td>Gangdong</td>\n",
              "    </tr>\n",
              "    <tr>\n",
              "      <th>13</th>\n",
              "      <td>Gangbuk</td>\n",
              "      <td>Gangbuk</td>\n",
              "    </tr>\n",
              "    <tr>\n",
              "      <th>14</th>\n",
              "      <td>Gangnam</td>\n",
              "      <td>Gangnam</td>\n",
              "    </tr>\n",
              "    <tr>\n",
              "      <th>15</th>\n",
              "      <td>Gangdong</td>\n",
              "      <td>Gangdong</td>\n",
              "    </tr>\n",
              "    <tr>\n",
              "      <th>16</th>\n",
              "      <td>Gangnam</td>\n",
              "      <td>Gangnam</td>\n",
              "    </tr>\n",
              "    <tr>\n",
              "      <th>17</th>\n",
              "      <td>Gangseo</td>\n",
              "      <td>Gangseo</td>\n",
              "    </tr>\n",
              "    <tr>\n",
              "      <th>18</th>\n",
              "      <td>Gangseo</td>\n",
              "      <td>Gangseo</td>\n",
              "    </tr>\n",
              "  </tbody>\n",
              "</table>\n",
              "</div>\n",
              "    <div class=\"colab-df-buttons\">\n",
              "\n",
              "  <div class=\"colab-df-container\">\n",
              "    <button class=\"colab-df-convert\" onclick=\"convertToInteractive('df-52db4d7b-2fc4-421e-b6f4-32e9ea07d08b')\"\n",
              "            title=\"Convert this dataframe to an interactive table.\"\n",
              "            style=\"display:none;\">\n",
              "\n",
              "  <svg xmlns=\"http://www.w3.org/2000/svg\" height=\"24px\" viewBox=\"0 -960 960 960\">\n",
              "    <path d=\"M120-120v-720h720v720H120Zm60-500h600v-160H180v160Zm220 220h160v-160H400v160Zm0 220h160v-160H400v160ZM180-400h160v-160H180v160Zm440 0h160v-160H620v160ZM180-180h160v-160H180v160Zm440 0h160v-160H620v160Z\"/>\n",
              "  </svg>\n",
              "    </button>\n",
              "\n",
              "  <style>\n",
              "    .colab-df-container {\n",
              "      display:flex;\n",
              "      gap: 12px;\n",
              "    }\n",
              "\n",
              "    .colab-df-convert {\n",
              "      background-color: #E8F0FE;\n",
              "      border: none;\n",
              "      border-radius: 50%;\n",
              "      cursor: pointer;\n",
              "      display: none;\n",
              "      fill: #1967D2;\n",
              "      height: 32px;\n",
              "      padding: 0 0 0 0;\n",
              "      width: 32px;\n",
              "    }\n",
              "\n",
              "    .colab-df-convert:hover {\n",
              "      background-color: #E2EBFA;\n",
              "      box-shadow: 0px 1px 2px rgba(60, 64, 67, 0.3), 0px 1px 3px 1px rgba(60, 64, 67, 0.15);\n",
              "      fill: #174EA6;\n",
              "    }\n",
              "\n",
              "    .colab-df-buttons div {\n",
              "      margin-bottom: 4px;\n",
              "    }\n",
              "\n",
              "    [theme=dark] .colab-df-convert {\n",
              "      background-color: #3B4455;\n",
              "      fill: #D2E3FC;\n",
              "    }\n",
              "\n",
              "    [theme=dark] .colab-df-convert:hover {\n",
              "      background-color: #434B5C;\n",
              "      box-shadow: 0px 1px 3px 1px rgba(0, 0, 0, 0.15);\n",
              "      filter: drop-shadow(0px 1px 2px rgba(0, 0, 0, 0.3));\n",
              "      fill: #FFFFFF;\n",
              "    }\n",
              "  </style>\n",
              "\n",
              "    <script>\n",
              "      const buttonEl =\n",
              "        document.querySelector('#df-52db4d7b-2fc4-421e-b6f4-32e9ea07d08b button.colab-df-convert');\n",
              "      buttonEl.style.display =\n",
              "        google.colab.kernel.accessAllowed ? 'block' : 'none';\n",
              "\n",
              "      async function convertToInteractive(key) {\n",
              "        const element = document.querySelector('#df-52db4d7b-2fc4-421e-b6f4-32e9ea07d08b');\n",
              "        const dataTable =\n",
              "          await google.colab.kernel.invokeFunction('convertToInteractive',\n",
              "                                                    [key], {});\n",
              "        if (!dataTable) return;\n",
              "\n",
              "        const docLinkHtml = 'Like what you see? Visit the ' +\n",
              "          '<a target=\"_blank\" href=https://colab.research.google.com/notebooks/data_table.ipynb>data table notebook</a>'\n",
              "          + ' to learn more about interactive tables.';\n",
              "        element.innerHTML = '';\n",
              "        dataTable['output_type'] = 'display_data';\n",
              "        await google.colab.output.renderOutput(dataTable, element);\n",
              "        const docLink = document.createElement('div');\n",
              "        docLink.innerHTML = docLinkHtml;\n",
              "        element.appendChild(docLink);\n",
              "      }\n",
              "    </script>\n",
              "  </div>\n",
              "\n",
              "\n",
              "<div id=\"df-a49f61ca-9b8e-4cc4-a0b3-4905621b7233\">\n",
              "  <button class=\"colab-df-quickchart\" onclick=\"quickchart('df-a49f61ca-9b8e-4cc4-a0b3-4905621b7233')\"\n",
              "            title=\"Suggest charts.\"\n",
              "            style=\"display:none;\">\n",
              "\n",
              "<svg xmlns=\"http://www.w3.org/2000/svg\" height=\"24px\"viewBox=\"0 0 24 24\"\n",
              "     width=\"24px\">\n",
              "    <g>\n",
              "        <path d=\"M19 3H5c-1.1 0-2 .9-2 2v14c0 1.1.9 2 2 2h14c1.1 0 2-.9 2-2V5c0-1.1-.9-2-2-2zM9 17H7v-7h2v7zm4 0h-2V7h2v10zm4 0h-2v-4h2v4z\"/>\n",
              "    </g>\n",
              "</svg>\n",
              "  </button>\n",
              "\n",
              "<style>\n",
              "  .colab-df-quickchart {\n",
              "      --bg-color: #E8F0FE;\n",
              "      --fill-color: #1967D2;\n",
              "      --hover-bg-color: #E2EBFA;\n",
              "      --hover-fill-color: #174EA6;\n",
              "      --disabled-fill-color: #AAA;\n",
              "      --disabled-bg-color: #DDD;\n",
              "  }\n",
              "\n",
              "  [theme=dark] .colab-df-quickchart {\n",
              "      --bg-color: #3B4455;\n",
              "      --fill-color: #D2E3FC;\n",
              "      --hover-bg-color: #434B5C;\n",
              "      --hover-fill-color: #FFFFFF;\n",
              "      --disabled-bg-color: #3B4455;\n",
              "      --disabled-fill-color: #666;\n",
              "  }\n",
              "\n",
              "  .colab-df-quickchart {\n",
              "    background-color: var(--bg-color);\n",
              "    border: none;\n",
              "    border-radius: 50%;\n",
              "    cursor: pointer;\n",
              "    display: none;\n",
              "    fill: var(--fill-color);\n",
              "    height: 32px;\n",
              "    padding: 0;\n",
              "    width: 32px;\n",
              "  }\n",
              "\n",
              "  .colab-df-quickchart:hover {\n",
              "    background-color: var(--hover-bg-color);\n",
              "    box-shadow: 0 1px 2px rgba(60, 64, 67, 0.3), 0 1px 3px 1px rgba(60, 64, 67, 0.15);\n",
              "    fill: var(--button-hover-fill-color);\n",
              "  }\n",
              "\n",
              "  .colab-df-quickchart-complete:disabled,\n",
              "  .colab-df-quickchart-complete:disabled:hover {\n",
              "    background-color: var(--disabled-bg-color);\n",
              "    fill: var(--disabled-fill-color);\n",
              "    box-shadow: none;\n",
              "  }\n",
              "\n",
              "  .colab-df-spinner {\n",
              "    border: 2px solid var(--fill-color);\n",
              "    border-color: transparent;\n",
              "    border-bottom-color: var(--fill-color);\n",
              "    animation:\n",
              "      spin 1s steps(1) infinite;\n",
              "  }\n",
              "\n",
              "  @keyframes spin {\n",
              "    0% {\n",
              "      border-color: transparent;\n",
              "      border-bottom-color: var(--fill-color);\n",
              "      border-left-color: var(--fill-color);\n",
              "    }\n",
              "    20% {\n",
              "      border-color: transparent;\n",
              "      border-left-color: var(--fill-color);\n",
              "      border-top-color: var(--fill-color);\n",
              "    }\n",
              "    30% {\n",
              "      border-color: transparent;\n",
              "      border-left-color: var(--fill-color);\n",
              "      border-top-color: var(--fill-color);\n",
              "      border-right-color: var(--fill-color);\n",
              "    }\n",
              "    40% {\n",
              "      border-color: transparent;\n",
              "      border-right-color: var(--fill-color);\n",
              "      border-top-color: var(--fill-color);\n",
              "    }\n",
              "    60% {\n",
              "      border-color: transparent;\n",
              "      border-right-color: var(--fill-color);\n",
              "    }\n",
              "    80% {\n",
              "      border-color: transparent;\n",
              "      border-right-color: var(--fill-color);\n",
              "      border-bottom-color: var(--fill-color);\n",
              "    }\n",
              "    90% {\n",
              "      border-color: transparent;\n",
              "      border-bottom-color: var(--fill-color);\n",
              "    }\n",
              "  }\n",
              "</style>\n",
              "\n",
              "  <script>\n",
              "    async function quickchart(key) {\n",
              "      const quickchartButtonEl =\n",
              "        document.querySelector('#' + key + ' button');\n",
              "      quickchartButtonEl.disabled = true;  // To prevent multiple clicks.\n",
              "      quickchartButtonEl.classList.add('colab-df-spinner');\n",
              "      try {\n",
              "        const charts = await google.colab.kernel.invokeFunction(\n",
              "            'suggestCharts', [key], {});\n",
              "      } catch (error) {\n",
              "        console.error('Error during call to suggestCharts:', error);\n",
              "      }\n",
              "      quickchartButtonEl.classList.remove('colab-df-spinner');\n",
              "      quickchartButtonEl.classList.add('colab-df-quickchart-complete');\n",
              "    }\n",
              "    (() => {\n",
              "      let quickchartButtonEl =\n",
              "        document.querySelector('#df-a49f61ca-9b8e-4cc4-a0b3-4905621b7233 button');\n",
              "      quickchartButtonEl.style.display =\n",
              "        google.colab.kernel.accessAllowed ? 'block' : 'none';\n",
              "    })();\n",
              "  </script>\n",
              "</div>\n",
              "    </div>\n",
              "  </div>\n"
            ]
          },
          "metadata": {},
          "execution_count": 7
        }
      ],
      "source": [
        "'''\n",
        "(5) (성능 평가) 모델 테스트.\n",
        "정확도 함수를 통해서 결과를 테스트 한다.\n",
        "마찬가지로 predict 함수를 활용한다.\n",
        "'''\n",
        "from sklearn.metrics import accuracy_score\n",
        "\n",
        "y_pred = classifier.predict(x_test)\n",
        "print(\"accuracy :\", str(accuracy_score(y_test.values.ravel(), label_data.classes_[y_pred])))\n",
        "\n",
        "comparison = pd.DataFrame({'예측값':label_data.classes_[y_pred],\n",
        "                           '정답값':y_test.values.ravel()})\n",
        "comparison"
      ]
    },
    {
      "cell_type": "code",
      "execution_count": null,
      "metadata": {
        "colab": {
          "base_uri": "https://localhost:8080/",
          "height": 680
        },
        "id": "cYV1y-huIkMS",
        "outputId": "a5b07622-1f29-4d7d-89dd-9dc1e77ec11a"
      },
      "outputs": [
        {
          "output_type": "stream",
          "name": "stderr",
          "text": [
            "/usr/local/lib/python3.10/dist-packages/sklearn/base.py:439: UserWarning: X does not have valid feature names, but DecisionTreeClassifier was fitted with feature names\n",
            "  warnings.warn(\n",
            "<ipython-input-10-47be4b72af5d>:23: UserWarning: No data for colormapping provided via 'c'. Parameters 'cmap' will be ignored\n",
            "  plt.scatter(X.loc[idx].longitude, X.loc[idx].latitude,\n",
            "<ipython-input-10-47be4b72af5d>:23: UserWarning: No data for colormapping provided via 'c'. Parameters 'cmap' will be ignored\n",
            "  plt.scatter(X.loc[idx].longitude, X.loc[idx].latitude,\n",
            "<ipython-input-10-47be4b72af5d>:23: UserWarning: No data for colormapping provided via 'c'. Parameters 'cmap' will be ignored\n",
            "  plt.scatter(X.loc[idx].longitude, X.loc[idx].latitude,\n",
            "<ipython-input-10-47be4b72af5d>:23: UserWarning: No data for colormapping provided via 'c'. Parameters 'cmap' will be ignored\n",
            "  plt.scatter(X.loc[idx].longitude, X.loc[idx].latitude,\n"
          ]
        },
        {
          "output_type": "display_data",
          "data": {
            "text/plain": [
              "<Figure size 640x480 with 1 Axes>"
            ],
            "image/png": "[encoded data removed]"
          },
          "metadata": {}
        }
      ],
      "source": [
        "'''\n",
        "(5-2) (성능 평가) 모델 시각화 - scatter\n",
        "코드에 대한 자세한 이해는 필요 없이 결과값만 확인하자.\n",
        "'''\n",
        "def display_decision_surface(clf, X, y):\n",
        "  x_min = X.longitude.min() - 0.01\n",
        "  x_max = X.longitude.max() + 0.01\n",
        "  y_min = X.latitude.min() - 0.01\n",
        "  y_max = X.latitude.max() + 0.01\n",
        "\n",
        "  n_classes = len(label_data.classes_)\n",
        "  plot_colors = 'rywb'\n",
        "  plot_step = 0.001\n",
        "\n",
        "  xx, yy = np.meshgrid(np.arange(x_min, x_max, plot_step),\n",
        "                       np.arange(y_min, y_max, plot_step))\n",
        "  Z = clf.predict(np.c_[xx.ravel(), yy.ravel()])\n",
        "  Z = Z.reshape(xx.shape)\n",
        "  cs = plt.contourf(xx, yy, Z, cmap=plt.cm.RdYlBu)\n",
        "\n",
        "  for i, color in zip(range(n_classes), plot_colors):\n",
        "    idx = np.where(y == i)\n",
        "    plt.scatter(X.loc[idx].longitude, X.loc[idx].latitude,\n",
        "                c = color, label = label_data.classes_[i],\n",
        "                cmap = plt.cm.RdYlBu, edgecolor = 'black', s=200)\n",
        "\n",
        "  plt.title('Decision surface of a decision tree', fontsize=16)\n",
        "  plt.legend(bbox_to_anchor=(1.05, 1),\n",
        "             loc=2, borderaxespad=0., fontsize=14)\n",
        "  plt.xlabel('longitude', fontsize=16)\n",
        "  plt.ylabel('latitude', fontsize=16)\n",
        "  plt.rcParams[\"figure.figsize\"] = [7, 5]\n",
        "  plt.rcParams[\"font.size\"] = 14\n",
        "  plt.rcParams[\"xtick.labelsize\"] = 14\n",
        "  plt.rcParams[\"ytick.labelsize\"] = 14\n",
        "  plt.show()\n",
        "display_decision_surface(classifier, x_train, y_encoded)"
      ]
    },
    {
      "cell_type": "code",
      "execution_count": null,
      "metadata": {
        "colab": {
          "base_uri": "https://localhost:8080/",
          "height": 758
        },
        "id": "J_zWyyo8dbiG",
        "outputId": "bd235974-0eba-4d68-a957-92a272246b8a"
      },
      "outputs": [
        {
          "output_type": "execute_result",
          "data": {
            "image/svg+xml": "<?xml version=\"1.0\" encoding=\"UTF-8\" standalone=\"no\"?>\n<!DOCTYPE svg PUBLIC \"-//W3C//DTD SVG 1.1//EN\"\n \"http://www.w3.org/Graphics/SVG/1.1/DTD/svg11.dtd\">\n<!-- Generated by graphviz version 2.43.0 (0)\n -->\n<!-- Title: Tree Pages: 1 -->\n<svg width=\"494pt\" height=\"552pt\"\n viewBox=\"0.00 0.00 494.00 552.00\" xmlns=\"http://www.w3.org/2000/svg\" xmlns:xlink=\"http://www.w3.org/1999/xlink\">\n<g id=\"graph0\" class=\"graph\" transform=\"scale(1 1) rotate(0) translate(4 548)\">\n<title>Tree</title>\n<polygon fill=\"white\" stroke=\"transparent\" points=\"-4,4 -4,-548 490,-548 490,4 -4,4\"/>\n<!-- 0 -->\n<g id=\"node1\" class=\"node\">\n<title>0</title>\n<path fill=\"#fdf4fe\" stroke=\"black\" d=\"M185.5,-544C185.5,-544 81.5,-544 81.5,-544 75.5,-544 69.5,-538 69.5,-532 69.5,-532 69.5,-473 69.5,-473 69.5,-467 75.5,-461 81.5,-461 81.5,-461 185.5,-461 185.5,-461 191.5,-461 197.5,-467 197.5,-473 197.5,-473 197.5,-532 197.5,-532 197.5,-538 191.5,-544 185.5,-544\"/>\n<text text-anchor=\"start\" x=\"77.5\" y=\"-528.8\" font-family=\"Helvetica,sans-Serif\" font-size=\"14.00\">longitude ≤ 126.94</text>\n<text text-anchor=\"start\" x=\"86\" y=\"-513.8\" font-family=\"Helvetica,sans-Serif\" font-size=\"14.00\">entropy = 1.969</text>\n<text text-anchor=\"start\" x=\"92.5\" y=\"-498.8\" font-family=\"Helvetica,sans-Serif\" font-size=\"14.00\">samples = 25</text>\n<text text-anchor=\"start\" x=\"79\" y=\"-483.8\" font-family=\"Helvetica,sans-Serif\" font-size=\"14.00\">value = [7, 5, 5, 8]</text>\n<text text-anchor=\"start\" x=\"82\" y=\"-468.8\" font-family=\"Helvetica,sans-Serif\" font-size=\"14.00\">class = Gangseo</text>\n</g>\n<!-- 1 -->\n<g id=\"node2\" class=\"node\">\n<title>1</title>\n<path fill=\"#d739e5\" stroke=\"black\" d=\"M113,-417.5C113,-417.5 12,-417.5 12,-417.5 6,-417.5 0,-411.5 0,-405.5 0,-405.5 0,-361.5 0,-361.5 0,-355.5 6,-349.5 12,-349.5 12,-349.5 113,-349.5 113,-349.5 119,-349.5 125,-355.5 125,-361.5 125,-361.5 125,-405.5 125,-405.5 125,-411.5 119,-417.5 113,-417.5\"/>\n<text text-anchor=\"start\" x=\"22.5\" y=\"-402.3\" font-family=\"Helvetica,sans-Serif\" font-size=\"14.00\">entropy = 0.0</text>\n<text text-anchor=\"start\" x=\"25\" y=\"-387.3\" font-family=\"Helvetica,sans-Serif\" font-size=\"14.00\">samples = 8</text>\n<text text-anchor=\"start\" x=\"8\" y=\"-372.3\" font-family=\"Helvetica,sans-Serif\" font-size=\"14.00\">value = [0, 0, 0, 8]</text>\n<text text-anchor=\"start\" x=\"11\" y=\"-357.3\" font-family=\"Helvetica,sans-Serif\" font-size=\"14.00\">class = Gangseo</text>\n</g>\n<!-- 0&#45;&gt;1 -->\n<g id=\"edge1\" class=\"edge\">\n<title>0&#45;&gt;1</title>\n<path fill=\"none\" stroke=\"black\" d=\"M108.87,-460.91C102.1,-449.76 94.76,-437.66 87.95,-426.44\"/>\n<polygon fill=\"black\" stroke=\"black\" points=\"90.81,-424.4 82.63,-417.67 84.82,-428.03 90.81,-424.4\"/>\n<text text-anchor=\"middle\" x=\"76.69\" y=\"-438.25\" font-family=\"Helvetica,sans-Serif\" font-size=\"14.00\">True</text>\n</g>\n<!-- 2 -->\n<g id=\"node3\" class=\"node\">\n<title>2</title>\n<path fill=\"#fbeade\" stroke=\"black\" d=\"M256,-425C256,-425 155,-425 155,-425 149,-425 143,-419 143,-413 143,-413 143,-354 143,-354 143,-348 149,-342 155,-342 155,-342 256,-342 256,-342 262,-342 268,-348 268,-354 268,-354 268,-413 268,-413 268,-419 262,-425 256,-425\"/>\n<text text-anchor=\"start\" x=\"155.5\" y=\"-409.8\" font-family=\"Helvetica,sans-Serif\" font-size=\"14.00\">latitude ≤ 37.518</text>\n<text text-anchor=\"start\" x=\"158\" y=\"-394.8\" font-family=\"Helvetica,sans-Serif\" font-size=\"14.00\">entropy = 1.566</text>\n<text text-anchor=\"start\" x=\"164.5\" y=\"-379.8\" font-family=\"Helvetica,sans-Serif\" font-size=\"14.00\">samples = 17</text>\n<text text-anchor=\"start\" x=\"151\" y=\"-364.8\" font-family=\"Helvetica,sans-Serif\" font-size=\"14.00\">value = [7, 5, 5, 0]</text>\n<text text-anchor=\"start\" x=\"154\" y=\"-349.8\" font-family=\"Helvetica,sans-Serif\" font-size=\"14.00\">class = Gangbuk</text>\n</g>\n<!-- 0&#45;&gt;2 -->\n<g id=\"edge2\" class=\"edge\">\n<title>0&#45;&gt;2</title>\n<path fill=\"none\" stroke=\"black\" d=\"M158.48,-460.91C163.9,-452.1 169.68,-442.7 175.28,-433.61\"/>\n<polygon fill=\"black\" stroke=\"black\" points=\"178.3,-435.37 180.56,-425.02 172.34,-431.7 178.3,-435.37\"/>\n<text text-anchor=\"middle\" x=\"186.35\" y=\"-445.64\" font-family=\"Helvetica,sans-Serif\" font-size=\"14.00\">False</text>\n</g>\n<!-- 3 -->\n<g id=\"node4\" class=\"node\">\n<title>3</title>\n<path fill=\"#399de5\" stroke=\"black\" d=\"M182,-298.5C182,-298.5 81,-298.5 81,-298.5 75,-298.5 69,-292.5 69,-286.5 69,-286.5 69,-242.5 69,-242.5 69,-236.5 75,-230.5 81,-230.5 81,-230.5 182,-230.5 182,-230.5 188,-230.5 194,-236.5 194,-242.5 194,-242.5 194,-286.5 194,-286.5 194,-292.5 188,-298.5 182,-298.5\"/>\n<text text-anchor=\"start\" x=\"91.5\" y=\"-283.3\" font-family=\"Helvetica,sans-Serif\" font-size=\"14.00\">entropy = 0.0</text>\n<text text-anchor=\"start\" x=\"94\" y=\"-268.3\" font-family=\"Helvetica,sans-Serif\" font-size=\"14.00\">samples = 5</text>\n<text text-anchor=\"start\" x=\"77\" y=\"-253.3\" font-family=\"Helvetica,sans-Serif\" font-size=\"14.00\">value = [0, 0, 5, 0]</text>\n<text text-anchor=\"start\" x=\"77.5\" y=\"-238.3\" font-family=\"Helvetica,sans-Serif\" font-size=\"14.00\">class = Gangnam</text>\n</g>\n<!-- 2&#45;&gt;3 -->\n<g id=\"edge3\" class=\"edge\">\n<title>2&#45;&gt;3</title>\n<path fill=\"none\" stroke=\"black\" d=\"M179.83,-341.91C172.78,-330.76 165.12,-318.66 158.03,-307.44\"/>\n<polygon fill=\"black\" stroke=\"black\" points=\"160.78,-305.25 152.48,-298.67 154.86,-308.99 160.78,-305.25\"/>\n</g>\n<!-- 4 -->\n<g id=\"node5\" class=\"node\">\n<title>4</title>\n<path fill=\"#f8dbc6\" stroke=\"black\" d=\"M335,-306C335,-306 224,-306 224,-306 218,-306 212,-300 212,-294 212,-294 212,-235 212,-235 212,-229 218,-223 224,-223 224,-223 335,-223 335,-223 341,-223 347,-229 347,-235 347,-235 347,-294 347,-294 347,-300 341,-306 335,-306\"/>\n<text text-anchor=\"start\" x=\"220\" y=\"-290.8\" font-family=\"Helvetica,sans-Serif\" font-size=\"14.00\">longitude ≤ 127.036</text>\n<text text-anchor=\"start\" x=\"235.5\" y=\"-275.8\" font-family=\"Helvetica,sans-Serif\" font-size=\"14.00\">entropy = 0.98</text>\n<text text-anchor=\"start\" x=\"238.5\" y=\"-260.8\" font-family=\"Helvetica,sans-Serif\" font-size=\"14.00\">samples = 12</text>\n<text text-anchor=\"start\" x=\"225\" y=\"-245.8\" font-family=\"Helvetica,sans-Serif\" font-size=\"14.00\">value = [7, 5, 0, 0]</text>\n<text text-anchor=\"start\" x=\"228\" y=\"-230.8\" font-family=\"Helvetica,sans-Serif\" font-size=\"14.00\">class = Gangbuk</text>\n</g>\n<!-- 2&#45;&gt;4 -->\n<g id=\"edge4\" class=\"edge\">\n<title>2&#45;&gt;4</title>\n<path fill=\"none\" stroke=\"black\" d=\"M231.17,-341.91C236.74,-333.1 242.69,-323.7 248.44,-314.61\"/>\n<polygon fill=\"black\" stroke=\"black\" points=\"251.48,-316.34 253.87,-306.02 245.57,-312.6 251.48,-316.34\"/>\n</g>\n<!-- 5 -->\n<g id=\"node6\" class=\"node\">\n<title>5</title>\n<path fill=\"#e58139\" stroke=\"black\" d=\"M258,-179.5C258,-179.5 157,-179.5 157,-179.5 151,-179.5 145,-173.5 145,-167.5 145,-167.5 145,-123.5 145,-123.5 145,-117.5 151,-111.5 157,-111.5 157,-111.5 258,-111.5 258,-111.5 264,-111.5 270,-117.5 270,-123.5 270,-123.5 270,-167.5 270,-167.5 270,-173.5 264,-179.5 258,-179.5\"/>\n<text text-anchor=\"start\" x=\"167.5\" y=\"-164.3\" font-family=\"Helvetica,sans-Serif\" font-size=\"14.00\">entropy = 0.0</text>\n<text text-anchor=\"start\" x=\"170\" y=\"-149.3\" font-family=\"Helvetica,sans-Serif\" font-size=\"14.00\">samples = 6</text>\n<text text-anchor=\"start\" x=\"153\" y=\"-134.3\" font-family=\"Helvetica,sans-Serif\" font-size=\"14.00\">value = [6, 0, 0, 0]</text>\n<text text-anchor=\"start\" x=\"156\" y=\"-119.3\" font-family=\"Helvetica,sans-Serif\" font-size=\"14.00\">class = Gangbuk</text>\n</g>\n<!-- 4&#45;&gt;5 -->\n<g id=\"edge5\" class=\"edge\">\n<title>4&#45;&gt;5</title>\n<path fill=\"none\" stroke=\"black\" d=\"M254.52,-222.91C247.66,-211.76 240.21,-199.66 233.31,-188.44\"/>\n<polygon fill=\"black\" stroke=\"black\" points=\"236.13,-186.35 227.91,-179.67 230.17,-190.02 236.13,-186.35\"/>\n</g>\n<!-- 6 -->\n<g id=\"node7\" class=\"node\">\n<title>6</title>\n<path fill=\"#6cea61\" stroke=\"black\" d=\"M403,-187C403,-187 300,-187 300,-187 294,-187 288,-181 288,-175 288,-175 288,-116 288,-116 288,-110 294,-104 300,-104 300,-104 403,-104 403,-104 409,-104 415,-110 415,-116 415,-116 415,-175 415,-175 415,-181 409,-187 403,-187\"/>\n<text text-anchor=\"start\" x=\"301.5\" y=\"-171.8\" font-family=\"Helvetica,sans-Serif\" font-size=\"14.00\">latitude ≤ 37.625</text>\n<text text-anchor=\"start\" x=\"307.5\" y=\"-156.8\" font-family=\"Helvetica,sans-Serif\" font-size=\"14.00\">entropy = 0.65</text>\n<text text-anchor=\"start\" x=\"314\" y=\"-141.8\" font-family=\"Helvetica,sans-Serif\" font-size=\"14.00\">samples = 6</text>\n<text text-anchor=\"start\" x=\"297\" y=\"-126.8\" font-family=\"Helvetica,sans-Serif\" font-size=\"14.00\">value = [1, 5, 0, 0]</text>\n<text text-anchor=\"start\" x=\"296\" y=\"-111.8\" font-family=\"Helvetica,sans-Serif\" font-size=\"14.00\">class = Gangdong</text>\n</g>\n<!-- 4&#45;&gt;6 -->\n<g id=\"edge6\" class=\"edge\">\n<title>4&#45;&gt;6</title>\n<path fill=\"none\" stroke=\"black\" d=\"M304.48,-222.91C309.9,-214.1 315.68,-204.7 321.28,-195.61\"/>\n<polygon fill=\"black\" stroke=\"black\" points=\"324.3,-197.37 326.56,-187.02 318.34,-193.7 324.3,-197.37\"/>\n</g>\n<!-- 7 -->\n<g id=\"node8\" class=\"node\">\n<title>7</title>\n<path fill=\"#47e539\" stroke=\"black\" d=\"M331,-68C331,-68 228,-68 228,-68 222,-68 216,-62 216,-56 216,-56 216,-12 216,-12 216,-6 222,0 228,0 228,0 331,0 331,0 337,0 343,-6 343,-12 343,-12 343,-56 343,-56 343,-62 337,-68 331,-68\"/>\n<text text-anchor=\"start\" x=\"239.5\" y=\"-52.8\" font-family=\"Helvetica,sans-Serif\" font-size=\"14.00\">entropy = 0.0</text>\n<text text-anchor=\"start\" x=\"242\" y=\"-37.8\" font-family=\"Helvetica,sans-Serif\" font-size=\"14.00\">samples = 5</text>\n<text text-anchor=\"start\" x=\"225\" y=\"-22.8\" font-family=\"Helvetica,sans-Serif\" font-size=\"14.00\">value = [0, 5, 0, 0]</text>\n<text text-anchor=\"start\" x=\"224\" y=\"-7.8\" font-family=\"Helvetica,sans-Serif\" font-size=\"14.00\">class = Gangdong</text>\n</g>\n<!-- 6&#45;&gt;7 -->\n<g id=\"edge7\" class=\"edge\">\n<title>6&#45;&gt;7</title>\n<path fill=\"none\" stroke=\"black\" d=\"M324.69,-103.73C318.93,-94.97 312.84,-85.7 307.05,-76.91\"/>\n<polygon fill=\"black\" stroke=\"black\" points=\"309.81,-74.73 301.4,-68.3 303.97,-78.58 309.81,-74.73\"/>\n</g>\n<!-- 8 -->\n<g id=\"node9\" class=\"node\">\n<title>8</title>\n<path fill=\"#e58139\" stroke=\"black\" d=\"M474,-68C474,-68 373,-68 373,-68 367,-68 361,-62 361,-56 361,-56 361,-12 361,-12 361,-6 367,0 373,0 373,0 474,0 474,0 480,0 486,-6 486,-12 486,-12 486,-56 486,-56 486,-62 480,-68 474,-68\"/>\n<text text-anchor=\"start\" x=\"383.5\" y=\"-52.8\" font-family=\"Helvetica,sans-Serif\" font-size=\"14.00\">entropy = 0.0</text>\n<text text-anchor=\"start\" x=\"386\" y=\"-37.8\" font-family=\"Helvetica,sans-Serif\" font-size=\"14.00\">samples = 1</text>\n<text text-anchor=\"start\" x=\"369\" y=\"-22.8\" font-family=\"Helvetica,sans-Serif\" font-size=\"14.00\">value = [1, 0, 0, 0]</text>\n<text text-anchor=\"start\" x=\"372\" y=\"-7.8\" font-family=\"Helvetica,sans-Serif\" font-size=\"14.00\">class = Gangbuk</text>\n</g>\n<!-- 6&#45;&gt;8 -->\n<g id=\"edge8\" class=\"edge\">\n<title>6&#45;&gt;8</title>\n<path fill=\"none\" stroke=\"black\" d=\"M378.31,-103.73C384.07,-94.97 390.16,-85.7 395.95,-76.91\"/>\n<polygon fill=\"black\" stroke=\"black\" points=\"399.03,-78.58 401.6,-68.3 393.19,-74.73 399.03,-78.58\"/>\n</g>\n</g>\n</svg>\n",
            "text/plain": [
              "<graphviz.sources.Source at 0x7f48282ffca0>"
            ]
          },
          "metadata": {},
          "execution_count": 12
        }
      ],
      "source": [
        "'''\n",
        "(5-3) (성능 평가) 모델 시각화 - graphviz\n",
        "코드에 대한 자세한 이해는 필요 없이 결과값만 확인하자.\n",
        "'''\n",
        "import graphviz\n",
        "dot_data = tree.export_graphviz(classifier, out_file=None)\n",
        "graph = graphviz.Source(dot_data)\n",
        "graph.render('seoul')\n",
        "dot_data = tree.export_graphviz(classifier, out_file=None,\n",
        "                                feature_names=['longitude', 'latitude'],\n",
        "                                class_names=['Gangbuk', 'Gangdong', 'Gangnam', 'Gangseo'],\n",
        "                                filled=True, rounded=True,\n",
        "                                special_characters=True)\n",
        "graph = graphviz.Source(dot_data)\n",
        "graph"
      ]
    },
    {
      "cell_type": "markdown",
      "source": [
        "## (두번째 실습) 직접 함수를 구현하여 엔트로피 계산"
      ],
      "metadata": {
        "id": "2aC5Mx4QRqzd"
      }
    },
    {
      "cell_type": "markdown",
      "source": [
        "## (직접구현) 데이터 불러오기"
      ],
      "metadata": {
        "id": "B_hmcd0aRdht"
      }
    },
    {
      "cell_type": "code",
      "source": [
        "'''\n",
        "(1) (데이터 측면) 데이터 불러오기.\n",
        "수업시간에 활용했던 컴퓨터 구매여부 데이터를 활용한다.\n",
        "실제 손으로 연산했던 내용과 코드를 통해 연산한 결과가 잘 나오는지 확인해보자.\n",
        "'''\n",
        "import math\n",
        "\n",
        "pd_data = pd.read_csv('https://raw.githubusercontent.com/AugustLONG/ML01/master/01decisiontree/AllElectronics.csv')\n",
        "pd_data = pd_data.drop(\"RID\",axis=1)\n",
        "print(pd_data)"
      ],
      "metadata": {
        "id": "c0MEH7X9Re7V",
        "colab": {
          "base_uri": "https://localhost:8080/"
        },
        "outputId": "19fdf247-0c9d-42f0-ae1d-da0085894118"
      },
      "execution_count": null,
      "outputs": [
        {
          "output_type": "stream",
          "name": "stdout",
          "text": [
            "            age  income student credit_rating class_buys_computer\n",
            "0         youth    high      no          fair                  no\n",
            "1         youth    high      no     excellent                  no\n",
            "2   middle_aged    high      no          fair                 yes\n",
            "3        senior  medium      no          fair                 yes\n",
            "4        senior     low     yes          fair                 yes\n",
            "5        senior     low     yes     excellent                  no\n",
            "6   middle_aged     low     yes     excellent                 yes\n",
            "7         youth  medium      no          fair                  no\n",
            "8         youth     low     yes          fair                 yes\n",
            "9        senior  medium     yes          fair                 yes\n",
            "10        youth  medium     yes     excellent                 yes\n",
            "11  middle_aged  medium      no     excellent                 yes\n",
            "12  middle_aged    high     yes          fair                 yes\n",
            "13       senior  medium      no     excellent                  no\n"
          ]
        }
      ]
    },
    {
      "cell_type": "code",
      "source": [
        "'''\n",
        "(2) (모델 측면) 엔트로피 구현하기.\n",
        "데이터가 주어졌을 때, 컴퓨터 구매여부에 대한 엔트로피를 구하는 함수를 구현한다.\n",
        "'''\n",
        "def get_info(df):\n",
        "    buy = df.loc[df[\"class_buys_computer\"]==\"yes\"]\n",
        "    not_buy = df.loc[df[\"class_buys_computer\"]==\"no\"]\n",
        "    x = np.array([len(buy)/len(df),len(not_buy) /len(df)])\n",
        "    y = np.log2(x[x!=0])\n",
        "\n",
        "    info_all = - sum(x[x!=0] * y)\n",
        "    return info_all\n",
        "\n",
        "get_info(pd_data)"
      ],
      "metadata": {
        "colab": {
          "base_uri": "https://localhost:8080/"
        },
        "id": "mIJvzCygkpcZ",
        "outputId": "77aa4e41-c53c-46f6-d325-a8d07e558776"
      },
      "execution_count": null,
      "outputs": [
        {
          "output_type": "execute_result",
          "data": {
            "text/plain": [
              "0.9402859586706311"
            ]
          },
          "metadata": {},
          "execution_count": 14
        }
      ]
    },
    {
      "cell_type": "code",
      "source": [
        "'''\n",
        "(3) 속성별 정보 이득률 구하기.\n",
        "데이터의 속성을 확인해서 각각의 속성별 정보 이득률을 구하는 함수를 선언한다.\n",
        "'''\n",
        "def get_attribute_info(df, attribute_name):\n",
        "    attribute_values = pd_data[attribute_name].unique()\n",
        "    get_infos = []\n",
        "    for value in attribute_values:\n",
        "        split_df = pd_data.loc[pd_data[attribute_name] == value]\n",
        "\n",
        "        get_infos.append((len(split_df) / len(df)) * get_info(split_df))\n",
        "\n",
        "    return sum(get_infos)\n",
        "\n",
        "get_attribute_info(pd_data, \"age\")"
      ],
      "metadata": {
        "colab": {
          "base_uri": "https://localhost:8080/"
        },
        "id": "BsgbZSo-k1Oj",
        "outputId": "d627dc85-27dd-4838-8720-a4a7a749a42e"
      },
      "execution_count": null,
      "outputs": [
        {
          "output_type": "execute_result",
          "data": {
            "text/plain": [
              "0.6935361388961918"
            ]
          },
          "metadata": {},
          "execution_count": 15
        }
      ]
    },
    {
      "cell_type": "code",
      "source": [
        "'''\n",
        "(4) (모델측면) 정보이득 구하기.\n",
        "나이, 수입, 학생여부, 신용등급에 대한 정보이득을 연산한다.\n",
        "가장 정보이득이 큰 속성이 무엇인지 확인해보자.\n",
        "'''\n",
        "print(get_info(pd_data) - get_attribute_info(pd_data, \"age\"))\n",
        "print(get_info(pd_data) - get_attribute_info(pd_data, \"income\"))\n",
        "print(get_info(pd_data) - get_attribute_info(pd_data, \"student\"))\n",
        "print(get_info(pd_data) - get_attribute_info(pd_data, \"credit_rating\"))"
      ],
      "metadata": {
        "colab": {
          "base_uri": "https://localhost:8080/"
        },
        "id": "MhVIojH6lIYD",
        "outputId": "60c293d9-5cb2-444a-d536-d54ad35bb046"
      },
      "execution_count": null,
      "outputs": [
        {
          "output_type": "stream",
          "name": "stdout",
          "text": [
            "0.24674981977443933\n",
            "0.02922256565895487\n",
            "0.15183550136234159\n",
            "0.04812703040826949\n"
          ]
        }
      ]
    }
  ],
  "metadata": {
    "colab": {
      "provenance": []
    },
    "kernelspec": {
      "display_name": "Python 3 (ipykernel)",
      "language": "python",
      "name": "python3"
    },
    "language_info": {
      "codemirror_mode": {
        "name": "ipython",
        "version": 3
      },
      "file_extension": ".py",
      "mimetype": "text/x-python",
      "name": "python",
      "nbconvert_exporter": "python",
      "pygments_lexer": "ipython3",
      "version": "3.9.12"
    }
  },
  "nbformat": 4,
  "nbformat_minor": 0
}